{
 "cells": [
  {
   "cell_type": "markdown",
   "metadata": {},
   "source": [
    "<div style=\"text-align: right\">\n",
    "    <i>\n",
    "        LING 5981/6080: Fundamentals of Python <br>\n",
    "        Fall 2020 <br>\n",
    "        Aniello De Santo\n",
    "    </i>\n",
    "</div>\n",
    "\n",
    "\n",
    "# Notebook 9: classes and inheritance\n",
    "\n",
    "This notebook covers the notion of a `class` and introduces the notion of **object-oriented programming** (OOP) in contrast to the **functional** programming approach we have implicitly used so far. As for Python-specific concepts, this notebook exemplifies how to define a new class, its attributes, and its methods. We also discuss inheritance."
   ]
  },
  {
   "cell_type": "markdown",
   "metadata": {},
   "source": [
    "**Programming paradigms** are ways to classify programming languages based on the way they allow you to structure your program.\n",
    "So far, we have treated Python as a _functional_ programming language.\n",
    "Roughly speaking, **functional** programming implements the _actions,_ or functions, that map some input to some output.\n",
    "It is a procedural approach organized around functions, flows, and code blocks.\n",
    "However, Python also allows for an **Object-oriented** programming appoach.\n",
    "**Object-oriented** programming has objects as its core, not just as a way to define data structures, but for the overall structure of the code.\n",
    "\n",
    "Intuitively the difference between the two is between a focus on the functions/procedures vs. a focus on the properties of objects.\n",
    "\n",
    "This notebook is concerned with introducing you to the main functionality of OOP. Note though that, since this is essentially a paradigm shift, familiarity with it requires practice.\n",
    "If you want to read more about OOP in Python, this is a good start: https://realpython.com/python3-object-oriented-programming/#what-is-object-oriented-programming-in-python"
   ]
  },
  {
   "cell_type": "markdown",
   "metadata": {},
   "source": [
    "## Class definition\n",
    "\n",
    "A **class** is a blueprint to create an object, and associate to it properties and behaviors.\n",
    "\n",
    "For example, we can create an object Car, with the following properties (attributes) and behaviors (methods):\n",
    "\n",
    "  * name: Car\n",
    "  * attributes: Car.make (i.e. Jeep), Car.color (i.e. black), Car.year (i.e. 2006)\n",
    "  * methods: Car.get_fuel(), Car.drive(speed), Car.lock()\n",
    "  \n",
    "In Python, attributes and methods need to be listed in the _class definition._ In order to define a new class, we use the `class` operator followed by a name of the class.\n",
    "\n",
    "    class NewObject:\n",
    "        # code\n",
    "        "
   ]
  },
  {
   "cell_type": "code",
   "execution_count": 2,
   "metadata": {},
   "outputs": [],
   "source": [
    "class Rectangle:\n",
    "    \n",
    "    # operator that means \"do nothing\"\n",
    "    pass"
   ]
  },
  {
   "cell_type": "code",
   "execution_count": 6,
   "metadata": {},
   "outputs": [
    {
     "name": "stdout",
     "output_type": "stream",
     "text": [
      "<__main__.Rectangle object at 0x7ff37a77fa00>\n",
      "<__main__.Rectangle object at 0x7ff37a77f610>\n"
     ]
    },
    {
     "data": {
      "text/plain": [
       "False"
      ]
     },
     "execution_count": 6,
     "metadata": {},
     "output_type": "execute_result"
    }
   ],
   "source": [
    "red_rectangle = Rectangle()\n",
    "blue_rectangle =  Rectangle()\n",
    "\n",
    "print(red_rectangle)\n",
    "print(blue_rectangle)\n",
    "red_rectangle==blue_rectangle"
   ]
  },
  {
   "cell_type": "code",
   "execution_count": 25,
   "metadata": {},
   "outputs": [
    {
     "name": "stdout",
     "output_type": "stream",
     "text": [
      "Ani\n",
      "Hi, I am Ani De Santo\n",
      "Andy\n",
      "Hi, I am Andy De Santos\n"
     ]
    }
   ],
   "source": [
    "class Student:\n",
    "    \n",
    "    def __init__(self,first, last, major, year):\n",
    "        self.first = first\n",
    "        self.last = last\n",
    "        self.major = major\n",
    "        self.year = year\n",
    "    \n",
    "    def introduce(self):\n",
    "        return \"Hi, I am \" + self.first + \" \" + self.last \n",
    "\n",
    "stud1 = Student(\"Ani\", \"De Santo\",  \"Ling\", 1929)\n",
    "print(stud1.first)\n",
    "print(stud1.introduce())\n",
    "\n",
    "stud2 = Student(\"Andy\", \"De Santos\",  \"CS\", 1900)\n",
    "print(stud2.first)\n",
    "print(stud2.introduce())"
   ]
  },
  {
   "cell_type": "markdown",
   "metadata": {},
   "source": [
    "## Attributes definition and Class Instances\n",
    "\n",
    "The next step will be to list properties, or **attributes,** of that object, i.e. color, size, make, etc. Attributes do not refer to any actions, they simply describe the features of that object.\n",
    "\n",
    "    class NewObject:\n",
    "    \n",
    "        def __init__(self, make, year):\n",
    "            self.make = make\n",
    "            self.year = year\n",
    "            \n",
    "The function `__init__` _always_ must be present in the class definition: it will instantiate properties of that class. Notice the `self` argument of this function: it basically means that this function, or _method,_ is operating on the class itself. `__init__` initializes the attributes of the class `NewObject`."
   ]
  },
  {
   "cell_type": "code",
   "execution_count": null,
   "metadata": {},
   "outputs": [],
   "source": [
    "class Rectangle(object):\n",
    "    \n",
    "    def __init__(self, side_1, side_2, color):\n",
    "        self.side_1 = side_1\n",
    "        self.side_2 = side_2\n",
    "        self.color = color"
   ]
  },
  {
   "cell_type": "markdown",
   "metadata": {},
   "source": [
    "Here, we are initializing a class `Rectangle`, and it will have 3 attributes: `side_1`, `side_2` and `color`. Whatever arguments `__init__` takes, except `self`, must be provided as arguments of the class itself upon initialization.\n",
    "\n",
    "We have now created an abstract definition for th object Rectangle.\n",
    "We can then generate specific Rectangle objects, with real values for each attribute of the class.\n",
    "\n",
    "While the class is the blueprint, an **instance** is an object that is built from a class and contains real data. An instance of the Rectangle class is not a blueprint anymore. It’s an actual rectabgle with a height, width, and a color."
   ]
  },
  {
   "cell_type": "code",
   "execution_count": null,
   "metadata": {},
   "outputs": [],
   "source": [
    "x = Rectangle(5, 3, \"red\")"
   ]
  },
  {
   "cell_type": "markdown",
   "metadata": {},
   "source": [
    "Now that we have an instance of the class. we can access its attributes directly. **Dot operator** is used to access an attribute or a method of a particular class:\n",
    "    \n",
    "    class_name.attribute_name\n",
    "    class_name.method_name(arg1, arg2)"
   ]
  },
  {
   "cell_type": "code",
   "execution_count": null,
   "metadata": {},
   "outputs": [],
   "source": [
    "print(x.color)"
   ]
  },
  {
   "cell_type": "markdown",
   "metadata": {},
   "source": [
    "Notice that the names of the arguments of `__init__` and the names of the attributes don't need to match, but it is a convention to have them matching."
   ]
  },
  {
   "cell_type": "code",
   "execution_count": 2,
   "metadata": {},
   "outputs": [
    {
     "name": "stdout",
     "output_type": "stream",
     "text": [
      "Color: red\n",
      "Year: 2004\n"
     ]
    }
   ],
   "source": [
    "class A:\n",
    "    def __init__(self, some_color, some_year):\n",
    "        self.color = some_color\n",
    "        self.year = some_year\n",
    "        \n",
    "obj = A(\"red\", 2004)\n",
    "print(\"Color:\", obj.color)\n",
    "print(\"Year:\", obj.year)"
   ]
  },
  {
   "cell_type": "markdown",
   "metadata": {},
   "source": [
    "The value of the attributes can be changed directly. "
   ]
  },
  {
   "cell_type": "code",
   "execution_count": null,
   "metadata": {},
   "outputs": [],
   "source": [
    "print(\"Old side:\", x.side_2)\n",
    "x.side_2 = 10\n",
    "print(\"New side:\", x.side_2)"
   ]
  },
  {
   "cell_type": "markdown",
   "metadata": {},
   "source": [
    "If we have more that one object defined, dot operator helps us not to get confused in attributes of different objects:"
   ]
  },
  {
   "cell_type": "code",
   "execution_count": null,
   "metadata": {},
   "outputs": [],
   "source": [
    "a = Rectangle(5, 3, \"red\")\n",
    "b = Rectangle(1, 10, \"blue\")\n",
    "\n",
    "print(\"Color or A:\", a.color)\n",
    "print(\"Color or B:\", b.color)"
   ]
  },
  {
   "cell_type": "markdown",
   "metadata": {},
   "source": [
    "**Practice:** set up the classes for the following objects: `Book`, `Door`, `Cat`."
   ]
  },
  {
   "cell_type": "code",
   "execution_count": null,
   "metadata": {},
   "outputs": [],
   "source": []
  },
  {
   "cell_type": "markdown",
   "metadata": {},
   "source": [
    "## Methods definition\n",
    "\n",
    "Now let us define some methods. They look like functions defined inside classes. The crucial difference is that methods must have `self` as the first argument: it simply means that that function/method is applied to the object itself.\n",
    "\n",
    "    class NewObject:\n",
    "    \n",
    "        def __init__(self, make, year):\n",
    "            self.make = make\n",
    "            self.year = year\n",
    "            \n",
    "        def method_name(self, arg1, arg2):\n",
    "            # code"
   ]
  },
  {
   "cell_type": "code",
   "execution_count": 3,
   "metadata": {},
   "outputs": [],
   "source": [
    "class Rectangle:\n",
    "    \n",
    "    def __init__(self, side_1, side_2, color):\n",
    "        self.side_1 = side_1\n",
    "        self.side_2 = side_2\n",
    "        self.color = color\n",
    "        \n",
    "    def calculate_area(self):\n",
    "        return self.side_1 * self.side_2"
   ]
  },
  {
   "cell_type": "markdown",
   "metadata": {},
   "source": [
    "The method `calculate_area` in the code above requires no arguments apart from `self` because the information about the sides does not need to be provided: _it is already available!_ Calling `self.side_1` and `self.side_2` allows us to get that information."
   ]
  },
  {
   "cell_type": "code",
   "execution_count": null,
   "metadata": {},
   "outputs": [],
   "source": [
    "a = Rectangle(5, 3, \"red\")\n",
    "a.calculate_area()"
   ]
  },
  {
   "cell_type": "markdown",
   "metadata": {},
   "source": [
    "The method `calculate_area` calculates the area of the rectangle and returns the value. However, we can instead go ahead and save the value into a special attribute `area`. Notice that we do not expect `area` to be provided beforehand. **Every attribute, even if its value is not known yet, needs to be initialized inside the `__init__`.**"
   ]
  },
  {
   "cell_type": "code",
   "execution_count": null,
   "metadata": {},
   "outputs": [],
   "source": [
    "class Rectangle(object):\n",
    "    \n",
    "    def __init__(self, side_1, side_2, color):\n",
    "        self.side_1 = side_1\n",
    "        self.side_2 = side_2\n",
    "        self.color = color\n",
    "        self.area = None\n",
    "        \n",
    "    def calculate_area(self):\n",
    "        self.area = self.side_1 * self.side_2"
   ]
  },
  {
   "cell_type": "code",
   "execution_count": null,
   "metadata": {},
   "outputs": [],
   "source": [
    "a = Rectangle(5, 3, \"red\")\n",
    "a.calculate_area()"
   ]
  },
  {
   "cell_type": "code",
   "execution_count": null,
   "metadata": {
    "scrolled": true
   },
   "outputs": [],
   "source": [
    "a.area"
   ]
  },
  {
   "cell_type": "markdown",
   "metadata": {},
   "source": [
    "**Question:** is it possible for the `area` attribute to contain a wrong value?"
   ]
  },
  {
   "cell_type": "markdown",
   "metadata": {},
   "source": [
    "**Practice:** add a method `is_square` to the class `Rectangle` that will return `True` if the rectangle is a square, and `False` otherwise."
   ]
  },
  {
   "cell_type": "code",
   "execution_count": null,
   "metadata": {},
   "outputs": [],
   "source": [
    "class Rectangle:\n",
    "    \n",
    "    def __init__(self, side_1, side_2, color):\n",
    "        self.side_1 = side_1\n",
    "        self.side_2 = side_2\n",
    "        self.color = color\n",
    "        self.area = None\n",
    "        \n",
    "    def calculate_area(self):\n",
    "        self.area = self.side_1 * self.side_2\n",
    "        \n",
    "    # add the code for the method \"is_square\" here"
   ]
  },
  {
   "cell_type": "markdown",
   "metadata": {},
   "source": [
    "## Inheritance\n",
    "\n",
    "Inheritance is the process by which one class takes on the attributes and methods of another. Newly formed classes are called _child classes_, and the classes that child classes are derived from are called _parent classes_.\n",
    "\n",
    "    class SomeClass(ItsParentClass):\n",
    "        # code\n",
    "        \n",
    "Let's say we want to define a class `Vehicle` implementing generic methods and attributes for vehicles, and then we want to introduce classes `Boat` and `Car` that inherit from `Vehicle` and add additional car-specific or boat-specific functionality.\n",
    "\n",
    "Let us first implement the class `Vehicle`."
   ]
  },
  {
   "cell_type": "code",
   "execution_count": null,
   "metadata": {},
   "outputs": [],
   "source": [
    "class Vehicle:\n",
    "    \"\"\" Parent Class implementing a Vehicle object. \"\"\"\n",
    "    \n",
    "    def __init__(self, year, max_speed):\n",
    "        \"\"\" Initializes the attributes year and max_speed. \"\"\"\n",
    "        self.year = year\n",
    "        self.max_speed = max_speed\n",
    "        \n",
    "    def drive(self, speed):\n",
    "        \"\"\" Safely drives the vehicle. \"\"\"\n",
    "        if speed <= self.max_speed:\n",
    "            print(\"Driving! The speed is\", speed, \"mph.\")\n",
    "        else:\n",
    "            print(\"Too fast! I'll be driving\", self.max_speed, \"mph.\")"
   ]
  },
  {
   "cell_type": "markdown",
   "metadata": {},
   "source": [
    "Test how the method `drive` behaves with different speeds."
   ]
  },
  {
   "cell_type": "code",
   "execution_count": null,
   "metadata": {},
   "outputs": [],
   "source": [
    "jeep = Vehicle(2006, 70)\n",
    "\n",
    "jeep.drive(70)"
   ]
  },
  {
   "cell_type": "markdown",
   "metadata": {},
   "source": [
    "Now, let us initialize the classes `Boat` and `Car` that will **inherit** from `Vehicle`."
   ]
  },
  {
   "cell_type": "code",
   "execution_count": null,
   "metadata": {},
   "outputs": [],
   "source": [
    "class Boat(Vehicle):\n",
    "    pass\n",
    "\n",
    "class Car(Vehicle):\n",
    "    pass"
   ]
  },
  {
   "cell_type": "markdown",
   "metadata": {},
   "source": [
    "**Inheriting** from `Vehicle` means that all methods and attributes of the parental class are now available in the children classes as well."
   ]
  },
  {
   "cell_type": "code",
   "execution_count": null,
   "metadata": {},
   "outputs": [],
   "source": [
    "jeep = Car(2006, 50)\n",
    "print(jeep.year)"
   ]
  },
  {
   "cell_type": "code",
   "execution_count": null,
   "metadata": {},
   "outputs": [],
   "source": [
    "titanic = Boat(1909, 0)\n",
    "titanic.drive(30)"
   ]
  },
  {
   "cell_type": "markdown",
   "metadata": {},
   "source": [
    "If you want to add some `Car`-specific methods, you can simply do so by simply defining new methods for that class. Not that **methods defined in the children classes are not available in the parent classes.**"
   ]
  },
  {
   "cell_type": "code",
   "execution_count": null,
   "metadata": {},
   "outputs": [],
   "source": [
    "class Car(Vehicle):\n",
    "    \"\"\" A class defined for cars. \"\"\"\n",
    "    \n",
    "    def pass_a_car(self, my_speed, their_speed):\n",
    "        if my_speed > their_speed:\n",
    "            print(\"I am passing that car.\")\n",
    "        else:\n",
    "            print(\"I should not pass that car.\")\n",
    "            \n",
    "jeep = Car(2006, 70)\n",
    "jeep.pass_a_car(60, 50)\n",
    "jeep.drive(80)"
   ]
  },
  {
   "cell_type": "markdown",
   "metadata": {},
   "source": [
    "The function `pass_a_car` is now available for the class `Car`, however, it is not defined for the sibling or parent classes."
   ]
  },
  {
   "cell_type": "code",
   "execution_count": null,
   "metadata": {},
   "outputs": [],
   "source": [
    "lada = Vehicle(1985, 38)\n",
    "lada.drive(39)\n",
    "\n",
    "# The code below will cause an error!\n",
    "# lada.pass_a_car(37, 60)"
   ]
  },
  {
   "cell_type": "markdown",
   "metadata": {},
   "source": [
    "The method `pass_a_car` takes two arguments: `my_speed` and `their_speed`, where `my_speed` is the speed of the car itself. _Itself_ is a good indicator that we are dealing with a good candidate to become an attribute of the class `Car`. Let us add a new attribute to the class `Car`!"
   ]
  },
  {
   "cell_type": "code",
   "execution_count": null,
   "metadata": {},
   "outputs": [],
   "source": [
    "class Car(Vehicle):\n",
    "    \"\"\" A class defined for cars. \"\"\"\n",
    "    \n",
    "    def __init__(self, my_speed):\n",
    "        self.my_speed = my_speed\n",
    "    \n",
    "    def pass_a_car(self, their_speed):\n",
    "        if self.my_speed > their_speed:\n",
    "            print(\"I am passing that car.\")\n",
    "        else:\n",
    "            print(\"I should not pass that car.\")"
   ]
  },
  {
   "cell_type": "markdown",
   "metadata": {},
   "source": [
    "In fact, as the code below shows, `my_speed` is now an attribute."
   ]
  },
  {
   "cell_type": "code",
   "execution_count": null,
   "metadata": {},
   "outputs": [],
   "source": [
    "car = Car(80)\n",
    "car.pass_a_car(50)"
   ]
  },
  {
   "cell_type": "markdown",
   "metadata": {},
   "source": [
    "**Be careful though**. The new function `__init__` of the `Car` class rewrote the original `__init__` of the `Vehicle` completely: attributes `year` and `max_speed` are not implemented anymore."
   ]
  },
  {
   "cell_type": "code",
   "execution_count": null,
   "metadata": {},
   "outputs": [],
   "source": [
    "# The code below will cause an error!\n",
    "# car.year "
   ]
  },
  {
   "cell_type": "markdown",
   "metadata": {},
   "source": [
    "It we want to **add** add new atributes to the children class, we need to re-implement the parent's attributes as well."
   ]
  },
  {
   "cell_type": "code",
   "execution_count": null,
   "metadata": {},
   "outputs": [],
   "source": [
    "class Car(Vehicle):\n",
    "    \"\"\" A class defined for cars. \"\"\"\n",
    "    \n",
    "    def __init__(self, year, max_speed, my_speed):\n",
    "        self.year = year\n",
    "        self.max_speed = max_speed\n",
    "        self.my_speed = my_speed\n",
    "    \n",
    "    def pass_a_car(self, their_speed):\n",
    "        if self.my_speed > their_speed:\n",
    "            print(\"I am passing that car.\")\n",
    "        else:\n",
    "            print(\"I should not pass that car.\")"
   ]
  },
  {
   "cell_type": "markdown",
   "metadata": {},
   "source": [
    "Now, for the class `Car`, every attribute and method available in `Vehicle` is available as well, and also the newly defined attribute `my_speed` and the new method `pass_a_car`."
   ]
  },
  {
   "cell_type": "code",
   "execution_count": null,
   "metadata": {},
   "outputs": [],
   "source": [
    "a = Car(2004, 80, 45)\n",
    "print(a.year)\n",
    "a.drive(45)\n",
    "a.pass_a_car(70)"
   ]
  },
  {
   "cell_type": "markdown",
   "metadata": {},
   "source": [
    "If the `__init__` method of the class needs to be modified by adding attributes that are not implemented for the parent class, we can access and run `__init__` of the parent class by calling `super().__init__`.\n",
    "\n",
    "    class Child(Parent):\n",
    "    \n",
    "        def __init__(self, parent_att1, parent_att2, new_att1):\n",
    "            super().__init__(parent_att1, parent_att2)\n",
    "            self.new_att1 = new_att1\n",
    "            \n",
    "The code below is the modified version of the previous definition of the class `Car`."
   ]
  },
  {
   "cell_type": "code",
   "execution_count": null,
   "metadata": {},
   "outputs": [],
   "source": [
    "class Car(Vehicle):\n",
    "    \"\"\" A class defined for cars. \"\"\"\n",
    "    \n",
    "    def __init__(self, year, max_speed, my_speed):\n",
    "        #This allows us to explicitly inherit all the parent's class attributes\n",
    "        super().__init__(year, max_speed)\n",
    "        #new attribute specific to Car\n",
    "        self.my_speed = my_speed\n",
    "    \n",
    "    def pass_a_car(self, their_speed):\n",
    "        if self.my_speed > their_speed:\n",
    "            print(\"I am passing that car.\")\n",
    "        else:\n",
    "            print(\"I should not pass that car.\")\n",
    "            \n",
    "a = Car(2004, 80, 45)\n",
    "print(a.year)\n",
    "a.drive(45)\n",
    "a.pass_a_car(70)"
   ]
  },
  {
   "cell_type": "markdown",
   "metadata": {},
   "source": [
    "If there are several classes and some of them inherit from others, the dependencies can quickly become complicated and hard to remember. To keep track of classes and the dependencies, people usually draw **class diagrams**. A simple class diagram representing the structure of the class `Vehicle` and its children classes is given below.\n",
    "\n",
    "<img src=\"images/9_1.png\" width=\"520\">"
   ]
  },
  {
   "cell_type": "markdown",
   "metadata": {},
   "source": [
    "**Practice:** implement the classes described in the class diagram below.\n",
    "\n",
    "<img src=\"images/9_2.png\" width=\"450\">"
   ]
  },
  {
   "cell_type": "code",
   "execution_count": null,
   "metadata": {},
   "outputs": [],
   "source": []
  },
  {
   "cell_type": "markdown",
   "metadata": {},
   "source": [
    "# Homework 9\n",
    "\n",
    "**Due on Sunday, November 22rd, 11.59pm**\n",
    "\n",
    "Send your notebook (don't forget to save your solutions!) to <aniello.desanto@utah.edu> with the subject **\\[LING 5981/6080\\] Homework 9**."
   ]
  },
  {
   "cell_type": "markdown",
   "metadata": {},
   "source": [
    "### Problem: implementing classes for `Food` and `Liquid`.\n",
    "\n",
    "By the end of the homework, you should implement two classes (`Food` and `Liquid`) described in the following class diagram.\n",
    "\n",
    "<img src=\"images/9_3.png\" width=\"450\">"
   ]
  },
  {
   "cell_type": "markdown",
   "metadata": {},
   "source": [
    "**Part 1 (5pt): implementing the parent class `Food`.** \n",
    "\n",
    "It should have the following attributes:\n",
    "  * `food_type`: \"banana\", \"water\", \"zucchini\", ...\n",
    "  * `flavor`: \"bitter\", \"sweet\", ...\n",
    "  * `quantity`: 0, 150, 5239, ...\n",
    "  * `temperature`: 420, 375, 710, ...\n",
    "  \n",
    "It should also include the following methods:\n",
    "  * `change_temperature(by_degrees)`: it changes the temperature attribute by the given number of the degrees;\n",
    "  * `consume()`: it complains if the quantity attribute of the food is not positive, but otherwise it changes the quantity of the food to $0$ (to show that the food was eaten)."
   ]
  },
  {
   "cell_type": "code",
   "execution_count": null,
   "metadata": {},
   "outputs": [],
   "source": []
  },
  {
   "cell_type": "markdown",
   "metadata": {},
   "source": [
    "Test the class `Food`.\n",
    "\n",
    "**Example of the instructions and the expected behavior**\n",
    "\n",
    "    borscht = Food(\"soup\", \"salty\", 250, 80)\n",
    "    print(borscht.flavor)\n",
    "    >> salty\n",
    "\n",
    "    borscht.change_temperature(5)\n",
    "    >> I heated up the food.\n",
    "    >> The new temperature is 85 degrees.\n",
    "    \n",
    "    borscht.change_temperature(-15)\n",
    "    >> I cooled down the food.\n",
    "    >> The new temperature is 70 degrees.\n",
    "\n",
    "    borscht.consume()\n",
    "    >> I consumed all the food.\n",
    "    \n",
    "    borscht.consume()\n",
    "    >> There is no food!"
   ]
  },
  {
   "cell_type": "code",
   "execution_count": null,
   "metadata": {},
   "outputs": [],
   "source": [
    "#You can uncomment the following code to test your class\n",
    "#Pre defined code to test the output of something you write is called Unit testing\n",
    "\n",
    "# borscht = Food(\"soup\", \"salty\", 250, 80)\n",
    "# print(borscht.flavor)\n",
    "\n",
    "# borscht.change_temperature(5)\n",
    "# borscht.change_temperature(-15)\n",
    "\n",
    "# borscht.consume()\n",
    "# borscht.consume()"
   ]
  },
  {
   "cell_type": "markdown",
   "metadata": {},
   "source": [
    "**Part 2 (5pt): implementing the class `Liquid`.** \n",
    "\n",
    "Now, implement the class `Liquid` so that it will have the additional attribute `boiling_temperature`, and the additional method `boil` that changes the `temperature` attribute to the boiling temperature. The class `Liquid` must inherit all other methods and attributes from the class `Food` as well."
   ]
  },
  {
   "cell_type": "code",
   "execution_count": null,
   "metadata": {},
   "outputs": [],
   "source": []
  },
  {
   "cell_type": "markdown",
   "metadata": {},
   "source": [
    "Test the class `Liquid`.\n",
    "\n",
    "**Example of the instructions and the expected behavior**\n",
    "\n",
    "    milk = Liquid(\"milk\", \"creamy\", 16, 180, 212.3)\n",
    "    print(milk.boiling_temperature)\n",
    "    >> 212.3\n",
    "    \n",
    "    milk.change_temperature(-40)\n",
    "    >> I cooled down the food.\n",
    "    >> The new temperature is 140 degrees.\n",
    "\n",
    "    milk.boil()\n",
    "    >> Boiled the liquid! Its temperature now is 212.3 degrees.\n",
    "\n",
    "    milk.consume()\n",
    "    >> I consumed all the food."
   ]
  },
  {
   "cell_type": "code",
   "execution_count": null,
   "metadata": {},
   "outputs": [],
   "source": [
    "#Uncomment this code to test your class\n",
    "\n",
    "# milk = Liquid(\"milk\", \"creamy\", 16, 180, 212.3)\n",
    "# print(milk.boiling_temperature)\n",
    "\n",
    "# milk.change_temperature(-40)\n",
    "# milk.boil()\n",
    "# milk.consume()"
   ]
  }
 ],
 "metadata": {
  "kernelspec": {
   "display_name": "Python 3",
   "language": "python",
   "name": "python3"
  },
  "language_info": {
   "codemirror_mode": {
    "name": "ipython",
    "version": 3
   },
   "file_extension": ".py",
   "mimetype": "text/x-python",
   "name": "python",
   "nbconvert_exporter": "python",
   "pygments_lexer": "ipython3",
   "version": "3.8.5"
  }
 },
 "nbformat": 4,
 "nbformat_minor": 2
}
