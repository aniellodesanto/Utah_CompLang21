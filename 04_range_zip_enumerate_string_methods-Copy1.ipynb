{
 "cells": [
  {
   "cell_type": "markdown",
   "metadata": {},
   "source": [
    "|<div style=\"text-align: right\">\n",
    "    <i>\n",
    "        LING 3300: Computers & Language <br>\n",
    "        Fall 2021 <br>\n",
    "        Aniello De Santo\n",
    "    </i>\n",
    "</div>\n",
    "\n",
    "# Notebook 4: range, zip, enumerate, and useful string methods\n",
    "\n",
    "This notebook expands on for-loops, introducing a way to iterate over numbers within a certain range, therefore giving access to index-based iteration over containers using `range`. It also shows how to use `zip` and `enumerate`. \n",
    "It also discusses several additional string methods such as `split` and `join`.\n",
    "Finally, the homework will lead you to use what you have learned so far (specifically, for-loops, if statements, and lists) to implement $n$-gram extraction."
   ]
  },
  {
   "cell_type": "markdown",
   "metadata": {},
   "source": [
    "## For-loops: reminder\n",
    "\n",
    "_For-loops_ iterates over some object (**iterable**) and considers sub-elements of that object in order."
   ]
  },
  {
   "cell_type": "code",
   "execution_count": 1,
   "metadata": {},
   "outputs": [
    {
     "name": "stdout",
     "output_type": "stream",
     "text": [
      "a\n",
      "p\n",
      "p\n",
      "l\n",
      "e\n"
     ]
    }
   ],
   "source": [
    "for letter in \"apple\":\n",
    "    print(letter)"
   ]
  },
  {
   "cell_type": "code",
   "execution_count": 7,
   "metadata": {},
   "outputs": [
    {
     "name": "stdout",
     "output_type": "stream",
     "text": [
      "a\n",
      "hello\n",
      "p\n",
      "hello\n",
      "p\n",
      "hello\n",
      "l\n",
      "hello\n",
      "e\n",
      "hello\n"
     ]
    }
   ],
   "source": [
    "for letter in \"apple\":\n",
    "    print(\"hello\")"
   ]
  },
  {
   "cell_type": "code",
   "execution_count": 5,
   "metadata": {
    "scrolled": true
   },
   "outputs": [
    {
     "name": "stdout",
     "output_type": "stream",
     "text": [
      "list"
     ]
    }
   ],
   "source": [
    "indexes = [0, 1, -1, -4]\n",
    "word = \"linguistics\"\n",
    "\n",
    "for index in indexes:\n",
    "    print(word[index], end=\"\")"
   ]
  },
  {
   "cell_type": "code",
   "execution_count": 6,
   "metadata": {},
   "outputs": [
    {
     "name": "stdout",
     "output_type": "stream",
     "text": [
      "The current city is NYC\n",
      "\t N\n",
      "\t Y\n",
      "\t C\n",
      "The current city is LA\n",
      "\t L\n",
      "\t A\n",
      "The current city is SF\n",
      "\t S\n",
      "\t F\n"
     ]
    }
   ],
   "source": [
    "cities = [\"NYC\", \"LA\", \"SF\"]\n",
    "\n",
    "for city in cities:\n",
    "    print(\"The current city is\", city)\n",
    "    for ch in city:\n",
    "        print(\"\\t\", ch)"
   ]
  },
  {
   "cell_type": "markdown",
   "metadata": {},
   "source": [
    "In order to print indexes of items in iterables, we can implement a **counter**, i.e. a variable that will increase every time some condition is met. In this case, we will set the counter to $0$ and increase it with every iteration."
   ]
  },
  {
   "cell_type": "code",
   "execution_count": 8,
   "metadata": {},
   "outputs": [
    {
     "name": "stdout",
     "output_type": "stream",
     "text": [
      "l \t index: 0\n",
      "i \t index: 1\n",
      "n \t index: 2\n",
      "g \t index: 3\n",
      "u \t index: 4\n",
      "i \t index: 5\n",
      "s \t index: 6\n",
      "t \t index: 7\n",
      "i \t index: 8\n",
      "c \t index: 9\n",
      "s \t index: 10\n"
     ]
    }
   ],
   "source": [
    "index = 0\n",
    "for letter in \"linguistics\":\n",
    "    print(letter, \"\\t index:\", index)\n",
    "    index += 1"
   ]
  },
  {
   "cell_type": "code",
   "execution_count": 10,
   "metadata": {},
   "outputs": [
    {
     "name": "stdout",
     "output_type": "stream",
     "text": [
      "Please give me a word: aiuola\n",
      "5\n"
     ]
    }
   ],
   "source": [
    "vowels = [\"a\",\"e\",\"o\",\"i\",\"u\"]\n",
    "word = input(\"Please give me a word: \")\n",
    "\n",
    "count = 0\n",
    "for letter in word:\n",
    "    if letter in vowels:\n",
    "        count += 1\n",
    "print(count)"
   ]
  },
  {
   "cell_type": "markdown",
   "metadata": {},
   "source": [
    "**Example:** Let's say we are given three lists: list of states (`states`), list of average temperatures for those states in the same order (`temperatures`) and a list of states that are considered New England (`new_england`)."
   ]
  },
  {
   "cell_type": "code",
   "execution_count": 12,
   "metadata": {},
   "outputs": [],
   "source": [
    "states = [\"Alabama\",\"Alaska\",\"Arizona\",\"Arkansas\",\"California\",\"Colorado\",\n",
    "  \"Connecticut\",\"Delaware\",\"Florida\",\"Georgia\",\"Hawaii\",\"Idaho\",\"Illinois\",\n",
    "  \"Indiana\",\"Iowa\",\"Kansas\",\"Kentucky\",\"Louisiana\",\"Maine\",\"Maryland\",\n",
    "  \"Massachusetts\",\"Michigan\",\"Minnesota\",\"Mississippi\",\"Missouri\",\"Montana\",\n",
    "  \"Nebraska\",\"Nevada\",\"New Hampshire\",\"New Jersey\",\"New Mexico\",\"New York\",\n",
    "  \"North Carolina\",\"North Dakota\",\"Ohio\",\"Oklahoma\",\"Oregon\",\"Pennsylvania\",\n",
    "  \"Rhode Island\",\"South Carolina\",\"South Dakota\",\"Tennessee\",\"Texas\",\"Utah\",\n",
    "  \"Vermont\",\"Virginia\",\"Washington\",\"West Virginia\",\"Wisconsin\",\"Wyoming\"]\n",
    "\n",
    "temperatures = [62.8, 26.6, 60.3, 60.4, 59.4, 45.1, 49, 55.3, 70.7, 63.5,\n",
    "                70, 44.4, 51.8, 51.7, 47.8, 54.3, 55.6, 66.4, 41, 54.2, \n",
    "                47.9, 44.4, 41.2, 63.4, 54.5, 42.7, 48.8, 49.9, 43.8, 52.7, \n",
    "                53.4, 45.4, 59, 40.4, 50.7, 59.6, 48.4, 48.8, 50.1, 62.4, \n",
    "                45.2, 57.6, 64.8, 48.6, 42.9, 55.1, 48.3, 51.8, 43.1, 42]\n",
    "\n",
    "new_england = [\"Maine\", \"Vermont\", \"New Hampshire\", \"Massachusetts\", \"Connecticut\",\n",
    "               \"Rhode Island\"]"
   ]
  },
  {
   "cell_type": "markdown",
   "metadata": {},
   "source": [
    "The code below prints average temperatures for New England states. The variable `index` stores the index of an item we are currently looking at."
   ]
  },
  {
   "cell_type": "code",
   "execution_count": 13,
   "metadata": {},
   "outputs": [
    {
     "name": "stdout",
     "output_type": "stream",
     "text": [
      "Connecticut: 49\n",
      "Maine: 41\n",
      "Massachusetts: 47.9\n",
      "New Hampshire: 43.8\n",
      "Rhode Island: 50.1\n",
      "Vermont: 42.9\n"
     ]
    }
   ],
   "source": [
    "index = 0\n",
    "for state in states:\n",
    "    if state in new_england:\n",
    "        print(state+\":\", temperatures[index])\n",
    "    index += 1"
   ]
  },
  {
   "cell_type": "markdown",
   "metadata": {},
   "source": [
    "**Practice:** An helpful function for the following practice exercise is `sum` that takes list as an argument and returns the sum of all numbers in that list. FYI, `min` and `max` functions are available as well."
   ]
  },
  {
   "cell_type": "code",
   "execution_count": null,
   "metadata": {},
   "outputs": [],
   "source": [
    "numbers = [1, 18.3, 9, 0, 3.14]\n",
    "print(\"Sum of those numbers is\", sum(numbers))\n",
    "print(\"The smallest number is\", min(numbers))\n",
    "print(\"The largest number is\", max(numbers))"
   ]
  },
  {
   "cell_type": "markdown",
   "metadata": {},
   "source": [
    "Modify the code above to print the average temperature in New England. (You can use the `round` function to make the resulting number prettier.)"
   ]
  },
  {
   "cell_type": "code",
   "execution_count": null,
   "metadata": {},
   "outputs": [],
   "source": []
  },
  {
   "cell_type": "code",
   "execution_count": null,
   "metadata": {},
   "outputs": [],
   "source": [
    "letters = [\"p\", \"c\", \"a\", \"d\"]\n",
    "word = input(\"give me a word\")\n",
    "\n",
    "#print: apple\n",
    "#print: dice\n",
    "#not print: tots\n",
    "\n",
    "# Code here\n",
    "for letter in word:\n",
    "    if letter in letters:\n",
    "        print(word)\n",
    "        \n",
    "for letter in letters:\n",
    "    if letter in word:\n",
    "        print(word)"
   ]
  },
  {
   "cell_type": "code",
   "execution_count": 15,
   "metadata": {},
   "outputs": [
    {
     "name": "stdout",
     "output_type": "stream",
     "text": [
      "Give me a paragraph:the dog\n",
      "t\n",
      "h\n",
      "e\n",
      " \n",
      "d\n",
      "o\n",
      "g\n"
     ]
    }
   ],
   "source": [
    "art = ['a','the','an']\n",
    "par = input(\"Give me a paragraph:\")\n",
    "\n",
    "for word in par:\n",
    "    print(word)\n",
    "    if word in art:\n",
    "        print(word)"
   ]
  },
  {
   "cell_type": "markdown",
   "metadata": {},
   "source": [
    "### Modifying strings\n",
    "\n",
    "String indexes cannot be reassigned, i.e. the existent parts of the string cannot be modified directly:"
   ]
  },
  {
   "cell_type": "code",
   "execution_count": 16,
   "metadata": {},
   "outputs": [
    {
     "ename": "TypeError",
     "evalue": "'str' object does not support item assignment",
     "output_type": "error",
     "traceback": [
      "\u001b[0;31m---------------------------------------------------------------------------\u001b[0m",
      "\u001b[0;31mTypeError\u001b[0m                                 Traceback (most recent call last)",
      "\u001b[0;32m<ipython-input-16-80e423d5f94c>\u001b[0m in \u001b[0;36m<module>\u001b[0;34m\u001b[0m\n\u001b[1;32m      1\u001b[0m \u001b[0mstring\u001b[0m \u001b[0;34m=\u001b[0m \u001b[0;34m\"hello\"\u001b[0m\u001b[0;34m\u001b[0m\u001b[0;34m\u001b[0m\u001b[0m\n\u001b[0;32m----> 2\u001b[0;31m \u001b[0mstring\u001b[0m\u001b[0;34m[\u001b[0m\u001b[0;34m-\u001b[0m\u001b[0;36m1\u001b[0m\u001b[0;34m]\u001b[0m \u001b[0;34m=\u001b[0m \u001b[0;34m\"a\"\u001b[0m\u001b[0;34m\u001b[0m\u001b[0;34m\u001b[0m\u001b[0m\n\u001b[0m",
      "\u001b[0;31mTypeError\u001b[0m: 'str' object does not support item assignment"
     ]
    }
   ],
   "source": [
    "string = \"hello\"\n",
    "string[-1] = \"a\""
   ]
  },
  {
   "cell_type": "markdown",
   "metadata": {},
   "source": [
    "If we have a task to \"mask\" all vowels from a text, we will need to create a new string based on the old one.\n",
    "\n",
    "**Practice** Withouth looking at the code in the next cell, can you think of how to do it?"
   ]
  },
  {
   "cell_type": "code",
   "execution_count": null,
   "metadata": {},
   "outputs": [],
   "source": [
    "vowels = \"aoiue\"\n",
    "text = \"This is a sentence that should contain no vowels.\"\n",
    "\n",
    "#try it here by yoursel!"
   ]
  },
  {
   "cell_type": "code",
   "execution_count": null,
   "metadata": {},
   "outputs": [],
   "source": [
    "vowels = \"aoiue\"\n",
    "text = \"This is a sentence that should contain no vowels.\"\n",
    "\n",
    "masked_text = \"\"\n",
    "for char in text:\n",
    "    if char not in vowels:\n",
    "        masked_text += char\n",
    "    else:\n",
    "        masked_text += \"*\"\n",
    "print(masked_text)"
   ]
  },
  {
   "cell_type": "markdown",
   "metadata": {},
   "source": [
    "**Practice:** You are given a string `alphabet` that contains all English letters, and a string `text`."
   ]
  },
  {
   "cell_type": "code",
   "execution_count": null,
   "metadata": {},
   "outputs": [],
   "source": [
    "alphabet = \"abcdefghijklmnopqrstuvwxyz\"\n",
    "text = \"A chessboard appeared, but it was triangular, and so big that only the nearest point could be seen.\""
   ]
  },
  {
   "cell_type": "markdown",
   "metadata": {},
   "source": [
    "Write code that makes this string lowercase and deletes punctuations from the text."
   ]
  },
  {
   "cell_type": "code",
   "execution_count": null,
   "metadata": {},
   "outputs": [],
   "source": []
  },
  {
   "cell_type": "markdown",
   "metadata": {},
   "source": [
    "## Range\n",
    "\n",
    "Say that you want to print the word \"hello\" ten times. How would you do it? The most trivial answer is \"I'll write _print(\"Hello\")_ ten times\". But how would you do it with a for-loop? Can you think of a way to make the loop iterate exactly $10$ times?"
   ]
  },
  {
   "cell_type": "code",
   "execution_count": 17,
   "metadata": {},
   "outputs": [
    {
     "name": "stdout",
     "output_type": "stream",
     "text": [
      "hello\n",
      "hello\n",
      "hello\n",
      "hello\n",
      "hello\n",
      "hello\n",
      "hello\n",
      "hello\n",
      "hello\n",
      "hello\n"
     ]
    }
   ],
   "source": [
    "# Try it here!\n",
    "for x in [1,2,3,4,5,6,7,8,9,10]:\n",
    "    print(\"hello\")"
   ]
  },
  {
   "cell_type": "markdown",
   "metadata": {},
   "source": [
    "**Range** is a numeric iterable defined by three arguments: _start_, _end_, and _step_. These arguments behave exactly as they do in slices: _start_ defines the initial numerical value, _end_ is the first value not included in the range, and _step_ defines the difference between the first and the following value."
   ]
  },
  {
   "cell_type": "code",
   "execution_count": 19,
   "metadata": {},
   "outputs": [
    {
     "name": "stdout",
     "output_type": "stream",
     "text": [
      "0 1 2 3 4 5 6 7 8 9 range(0, 10)\n"
     ]
    }
   ],
   "source": [
    "for value in range(10):\n",
    "    print(value, end=\" \")"
   ]
  },
  {
   "cell_type": "code",
   "execution_count": 20,
   "metadata": {},
   "outputs": [
    {
     "name": "stdout",
     "output_type": "stream",
     "text": [
      "500 501 502 503 504 505 506 507 508 509 510 511 512 513 514 515 516 517 518 519 520 521 522 523 524 525 526 527 528 529 530 531 532 533 534 535 536 537 538 539 540 541 542 543 544 545 546 547 548 549 550 551 552 553 554 555 556 557 558 559 560 561 562 563 564 565 566 567 568 569 570 571 572 573 574 575 576 577 578 579 580 581 582 583 584 585 586 587 588 589 590 591 592 593 594 595 596 597 598 599 600 601 602 603 604 605 606 607 608 609 610 611 612 613 614 615 616 617 618 619 620 621 622 623 624 625 626 627 628 629 630 631 632 633 634 635 636 637 638 639 640 641 642 643 644 645 646 647 648 649 650 651 652 653 654 655 656 657 658 659 660 661 662 663 664 665 666 667 668 669 670 671 672 673 674 675 676 677 678 679 680 681 682 683 684 685 686 687 688 689 690 691 692 693 694 695 696 697 698 699 700 701 702 703 704 705 706 707 708 709 710 711 712 713 714 715 716 717 718 719 720 721 722 723 724 725 726 727 728 729 730 731 732 733 734 735 736 737 738 739 740 741 742 743 744 745 746 747 748 749 750 751 752 753 754 755 756 757 758 759 760 761 762 763 764 765 766 767 768 769 770 771 772 773 774 775 776 777 778 779 780 781 782 783 784 785 786 787 788 789 790 791 792 793 794 795 796 797 798 799 800 801 802 803 804 805 806 807 808 809 810 811 812 813 814 815 816 817 818 819 820 821 822 823 824 825 826 827 828 829 830 831 832 833 834 835 836 837 838 839 840 841 842 843 844 845 846 847 848 849 850 851 852 853 854 855 856 857 858 859 860 861 862 863 864 865 866 867 868 869 870 871 872 873 874 875 876 877 878 879 880 881 882 883 884 885 886 887 888 889 890 891 892 893 894 895 896 897 898 899 900 901 902 903 904 905 906 907 908 909 910 911 912 913 914 915 916 917 918 919 920 921 922 923 924 925 926 927 928 929 930 931 932 933 934 935 936 937 938 939 940 941 942 943 944 945 946 947 948 949 950 951 952 953 954 955 956 957 958 959 960 961 962 963 964 965 966 967 968 969 970 971 972 973 974 975 976 977 978 979 980 981 982 983 984 985 986 987 988 989 990 991 992 993 994 995 996 997 998 999 "
     ]
    }
   ],
   "source": [
    "for value in range(500, 1000):\n",
    "    print(value, end=\" \")"
   ]
  },
  {
   "cell_type": "code",
   "execution_count": 21,
   "metadata": {},
   "outputs": [
    {
     "name": "stdout",
     "output_type": "stream",
     "text": [
      "1 3 5 7 9 "
     ]
    }
   ],
   "source": [
    "for value in range(1, 10, 2):\n",
    "    print(value, end=\" \")"
   ]
  },
  {
   "cell_type": "markdown",
   "metadata": {},
   "source": [
    "If only one argument is provided, it is considered to be _end_, and the initial value is assumed to be $0$."
   ]
  },
  {
   "cell_type": "code",
   "execution_count": null,
   "metadata": {},
   "outputs": [],
   "source": [
    "for value in range(10):\n",
    "    print(value, end=\" \")"
   ]
  },
  {
   "cell_type": "markdown",
   "metadata": {},
   "source": [
    "Range cannot be displayed directly, but can be easily converted to a list using `list` function.\n",
    "(If you are curious about the nature of the range object, read [this article](https://treyhunner.com/2018/02/python-range-is-not-an-iterator/), but a safe way is to just call it an iterable, or a range object)."
   ]
  },
  {
   "cell_type": "code",
   "execution_count": 22,
   "metadata": {},
   "outputs": [
    {
     "name": "stdout",
     "output_type": "stream",
     "text": [
      "Printing range object: range(0, 10)\n",
      "Typecasting range to a list: [0, 1, 2, 3, 4, 5, 6, 7, 8, 9]\n"
     ]
    }
   ],
   "source": [
    "print(\"Printing range object:\", range(10))\n",
    "print(\"Typecasting range to a list:\", list(range(10)))"
   ]
  },
  {
   "cell_type": "code",
   "execution_count": 1,
   "metadata": {},
   "outputs": [
    {
     "name": "stdout",
     "output_type": "stream",
     "text": [
      "8\n"
     ]
    }
   ],
   "source": [
    "word = \"linguist\"\n",
    "print(len(word))"
   ]
  },
  {
   "cell_type": "markdown",
   "metadata": {},
   "source": [
    "In order to iteratively get indexes available in some iterable, we can use the following trick: `range(len(iterable))`."
   ]
  },
  {
   "cell_type": "code",
   "execution_count": 23,
   "metadata": {},
   "outputs": [
    {
     "name": "stdout",
     "output_type": "stream",
     "text": [
      "index: 0 \tsymbol: l\n",
      "index: 1 \tsymbol: i\n",
      "index: 2 \tsymbol: n\n",
      "index: 3 \tsymbol: g\n",
      "index: 4 \tsymbol: u\n",
      "index: 5 \tsymbol: i\n",
      "index: 6 \tsymbol: s\n",
      "index: 7 \tsymbol: t\n"
     ]
    }
   ],
   "source": [
    "word = \"linguist\"\n",
    "for i in range(len(word)):\n",
    "    print(\"index:\", i, \"\\tsymbol:\", word[i])"
   ]
  },
  {
   "cell_type": "markdown",
   "metadata": {},
   "source": [
    "**Practice** OK, now you know all you need to know about for-loops! Can you write a code that asks the user for $10$ favorite foods, one at the time? Add those foods into a list, and once the user is done print them back!"
   ]
  },
  {
   "cell_type": "code",
   "execution_count": 4,
   "metadata": {},
   "outputs": [
    {
     "name": "stdout",
     "output_type": "stream",
     "text": [
      "What's one of your fav foods? choc\n",
      "What's one of your fav foods? ramen\n",
      "What's one of your fav foods? pizza\n",
      "choc\n",
      "ramen\n",
      "pizza\n",
      "choc\n",
      "ramen\n",
      "pizza\n"
     ]
    }
   ],
   "source": [
    "# Try it here!\n",
    "\n",
    "#empty list as a buffer\n",
    "foods = []\n",
    "\n",
    "#get answers from user\n",
    "for i in range(10):\n",
    "    food = input(\"What's one of your fav foods? \")\n",
    "    #store the answers here\n",
    "    foods.append(food)\n",
    "\n",
    "#print answers\n",
    "for j in foods:\n",
    "    print(j)"
   ]
  },
  {
   "cell_type": "markdown",
   "metadata": {},
   "source": [
    "## N-grams\n",
    "\n",
    "$n$-gram models are a very basic, fundamental concept in computational linguistics!\n",
    "Intuitively, $n$-grams are sequences of $n$ consequtive symbols.\n",
    "\n",
    "    word:   banana\n",
    "    n:      2\n",
    "    ngrams: ba, an, na\n",
    "    \n",
    "    word:   linguist\n",
    "    n:      3\n",
    "    ngrams: lin, ing, ngu, gui, uis, ist\n",
    "\n",
    "A special case of $n$-grams where the value of $n$ is $2$ are called _bigrams_. If $n=1$, these are called _unigrams_.\n",
    "\n",
    "For computational linguistics and NLP, **$n$-gram models** are extremely important: symbol-level $n$-gram models define which sequences of characters are (im)possible in a certain language, word-level $n$-gram models tell us which words can be adjacent to each other, and so on."
   ]
  },
  {
   "cell_type": "markdown",
   "metadata": {},
   "source": [
    "**Practice:** write code that extracts _bigrams_ from a given word. You want to:\n",
    "\n",
    "- loop through the word\n",
    "- selectes adjacent elements in the word, 2 at the time\n",
    "- maybe save them into a list?\n"
   ]
  },
  {
   "cell_type": "code",
   "execution_count": 13,
   "metadata": {},
   "outputs": [
    {
     "name": "stdout",
     "output_type": "stream",
     "text": [
      "Word: test\n",
      "['tes', 'est', 'st']\n"
     ]
    }
   ],
   "source": [
    "word = input(\"Word: \")\n",
    "    \n",
    "# add your bigram code here\n",
    "bigrams = []\n",
    "\n",
    "for i in range(len(word)-1):\n",
    "    bigram = word[i:i+2]\n",
    "    if bigram not in bigrams:\n",
    "        bigrams.append(bigram)\n",
    "\n",
    "print(bigrams)"
   ]
  },
  {
   "cell_type": "markdown",
   "metadata": {},
   "source": [
    "## Optional Excursus: Enumerate and Zip"
   ]
  },
  {
   "cell_type": "markdown",
   "metadata": {},
   "source": [
    "Object-defining functions that can sometimes be very useful are `enumerate` and `zip`.\n",
    "\n",
    "**`enumerate`** takes a list as input, and returns list of _tuples_, where every tuple contains an item from the input list, and its index. Just as `range`, this function creates its own object that can be easily typecasted into a list."
   ]
  },
  {
   "cell_type": "code",
   "execution_count": 17,
   "metadata": {},
   "outputs": [
    {
     "name": "stdout",
     "output_type": "stream",
     "text": [
      "[(0, 'CA'), (1, 'RI'), (2, 'CO')]\n",
      "<class 'list'>\n",
      "<class 'tuple'>\n"
     ]
    }
   ],
   "source": [
    "input_list = [\"NY\", \"CA\", \"RI\", \"CO\"]\n",
    "x = list(enumerate(input_list[1:]))\n",
    "print(x)\n",
    "print(type(x))\n",
    "print(type(x[0]))"
   ]
  },
  {
   "cell_type": "code",
   "execution_count": 16,
   "metadata": {},
   "outputs": [
    {
     "name": "stdout",
     "output_type": "stream",
     "text": [
      "0\n"
     ]
    },
    {
     "data": {
      "text/plain": [
       "tuple"
      ]
     },
     "execution_count": 16,
     "metadata": {},
     "output_type": "execute_result"
    }
   ],
   "source": [
    "z = (0,1,2,3,4,4)\n",
    "print(z[0])\n",
    "type(z)"
   ]
  },
  {
   "cell_type": "markdown",
   "metadata": {},
   "source": [
    "**Tuple** is another basic data type in Python. While they share the majority of the functionality with lists, their main difference is that tuples cannot be modified as easily as lists. Tuples can be thought of as \"protected lists\", but read [here](https://realpython.com/python-lists-tuples/) to learn more."
   ]
  },
  {
   "cell_type": "markdown",
   "metadata": {},
   "source": [
    "**`zip`** takes an arbitrary number of lists as input, and returns a list of tuples, where every tuple is an index-wise combination of items from those lists (i.e. `[(lis1[0],list2[0]),(lis1[1],list2[1]), ...]`)."
   ]
  },
  {
   "cell_type": "code",
   "execution_count": 19,
   "metadata": {},
   "outputs": [
    {
     "name": "stdout",
     "output_type": "stream",
     "text": [
      "[('Port Jeff', 11777), ('Stony Brook', 11790), ('Lake Grove', 11755)]\n",
      "[(0, 'Port Jeff'), (1, 'Stony Brook'), (2, 'Lake Grove')]\n"
     ]
    }
   ],
   "source": [
    "towns = [\"Port Jeff\", \"Stony Brook\", \"Lake Grove\"]\n",
    "zip_codes = [11777, 11790, 11755]\n",
    "print(list(zip(towns, zip_codes)))\n",
    "print(list(enumerate(towns)))"
   ]
  },
  {
   "cell_type": "markdown",
   "metadata": {},
   "source": [
    "## Several useful string methods\n",
    "\n",
    "There are multiple methods that simplify working with strings and lists, and in this section, I exemplify the following ones: `replace`, `split`, `strip`, `join`, `startswith`, and `endswith`.\n",
    "\n",
    "**`replace`** returns a string in which some replacement was performed.\n",
    "\n",
    "    string.replace(old_substring, new_substring)"
   ]
  },
  {
   "cell_type": "code",
   "execution_count": 22,
   "metadata": {},
   "outputs": [
    {
     "name": "stdout",
     "output_type": "stream",
     "text": [
      "Hi friend. It is very nice to see you, friend!\n",
      "Hi Alex. It is very nice to see you, Alex!\n"
     ]
    }
   ],
   "source": [
    "string = \"Hi friend. It is very nice to see you, friend!\"\n",
    "string2 = string.replace(\"friend\", \"Alex\")\n",
    "print(string)\n",
    "print(string2)"
   ]
  },
  {
   "cell_type": "markdown",
   "metadata": {},
   "source": [
    "**Practice:** Using the template provided below, greet everybody whose name is listed in the list `guests`."
   ]
  },
  {
   "cell_type": "code",
   "execution_count": 23,
   "metadata": {},
   "outputs": [
    {
     "name": "stdout",
     "output_type": "stream",
     "text": [
      "Hi, Pearl, it is very nice to meet you!\n",
      "Hi, Garnet, it is very nice to meet you!\n",
      "Hi, Peridot, it is very nice to meet you!\n"
     ]
    }
   ],
   "source": [
    "template = \"Hi, [guest], it is very nice to meet you!\"\n",
    "guests = [\"Pearl\", \"\"PeridotGarnet\", \"]\n",
    "\n",
    "# your code\n",
    "for guest in guests:\n",
    "    print(template.replace(\"[guest]\", guest))"
   ]
  },
  {
   "cell_type": "markdown",
   "metadata": {},
   "source": [
    "**`split`** takes a string and splits it into a list based on the provided argument. If no argument is provided, `split` splits the string based on the whitespaces.\n",
    "\n",
    "    string.split(separator)"
   ]
  },
  {
   "cell_type": "code",
   "execution_count": 26,
   "metadata": {},
   "outputs": [
    {
     "name": "stdout",
     "output_type": "stream",
     "text": [
      "['A', 'chessboard', 'appeared,', 'but it was triangular, and so big that only the nearest point could be seen.']\n"
     ]
    }
   ],
   "source": [
    "text = \"A chessboard appeared, but it was triangular, and so big that only the nearest point could be seen.\"\n",
    "parsed_text = text.split(\" \",2)\n",
    "print(parsed_text)"
   ]
  },
  {
   "cell_type": "code",
   "execution_count": 28,
   "metadata": {},
   "outputs": [
    {
     "name": "stdout",
     "output_type": "stream",
     "text": [
      "['Achessboard', 'appeared']\n"
     ]
    }
   ],
   "source": [
    "text = \"Achessboardappeared\"\n",
    "parsed_text = text.split()\n",
    "print(parsed_text)"
   ]
  },
  {
   "cell_type": "code",
   "execution_count": 29,
   "metadata": {},
   "outputs": [
    {
     "name": "stdout",
     "output_type": "stream",
     "text": [
      "['Anna', 'Mary', 'John', 'Sebastian']\n"
     ]
    }
   ],
   "source": [
    "names = \"Anna and Mary and John and Sebastian\"\n",
    "list_of_names = names.split(\" and \")\n",
    "print(list_of_names)"
   ]
  },
  {
   "cell_type": "code",
   "execution_count": 30,
   "metadata": {},
   "outputs": [
    {
     "name": "stdout",
     "output_type": "stream",
     "text": [
      "['Anna', ' and , Mary and John and Sebastian']\n",
      "['Anna', ' and ', ' Mary and John and Sebastian']\n"
     ]
    }
   ],
   "source": [
    "names = \"Anna, and , Mary and John and Sebastian\"\n",
    "list_of_names1 = names.split(\",\",1)\n",
    "list_of_names2 = names.split(\",\",2)\n",
    "print(list_of_names1)\n",
    "print(list_of_names2)"
   ]
  },
  {
   "cell_type": "markdown",
   "metadata": {},
   "source": [
    "**`strip`** removes inisible symbols from the ends of the string. The invisible things that `strip` removes are ` `, `\\n` and `\\t`. It is an extremely useful function when working with the \"dirty\" user input, or when processing text files.\n",
    "\n",
    "    string.strip()"
   ]
  },
  {
   "cell_type": "code",
   "execution_count": 31,
   "metadata": {},
   "outputs": [
    {
     "name": "stdout",
     "output_type": "stream",
     "text": [
      "-->Hello world!<--\n"
     ]
    }
   ],
   "source": [
    "string = \"\\nHello world!   \\t\"\n",
    "string = string.strip()\n",
    "print(\"-->\" + string + \"<--\")"
   ]
  },
  {
   "cell_type": "markdown",
   "metadata": {},
   "source": [
    "**`startswith`** and **`endswith`** are string methods that return booleans depending on the string starting or ending with a certain substring.\n",
    "\n",
    "    string.startswith(substring)\n",
    "    string.endswith(substring)"
   ]
  },
  {
   "cell_type": "code",
   "execution_count": 32,
   "metadata": {},
   "outputs": [
    {
     "name": "stdout",
     "output_type": "stream",
     "text": [
      "'hello' starts with 'hell': True\n",
      "'hello' starts with 'hi': False\n",
      "'hello' starts with 'hello': True\n"
     ]
    }
   ],
   "source": [
    "print(\"'hello' starts with 'hell':\", \"hello\".startswith(\"hell\"))\n",
    "print(\"'hello' starts with 'hi':\", \"hello\".startswith(\"hi\"))\n",
    "print(\"'hello' starts with 'hello':\", \"hello\".startswith(\"hello\"))"
   ]
  },
  {
   "cell_type": "code",
   "execution_count": 33,
   "metadata": {},
   "outputs": [
    {
     "name": "stdout",
     "output_type": "stream",
     "text": [
      "'linguistics' ends with 'cs': True\n",
      "'linguistics' ends with '': True\n"
     ]
    }
   ],
   "source": [
    "print(\"'linguistics' ends with 'cs':\", \"linguistics\".endswith(\"cs\"))\n",
    "print(\"'linguistics' ends with '':\", \"linguistics\".endswith(\"\"))"
   ]
  },
  {
   "cell_type": "markdown",
   "metadata": {},
   "source": [
    "**`join`** is a string method that takes a list as argument, and, if all items within that list are strings, it concatenates them using the given string.\n",
    "\n",
    "    conjunction_string.join(list_to_concatenate)"
   ]
  },
  {
   "cell_type": "code",
   "execution_count": 34,
   "metadata": {},
   "outputs": [
    {
     "name": "stdout",
     "output_type": "stream",
     "text": [
      "Anna and Mary and John and Sebastian\n"
     ]
    }
   ],
   "source": [
    "names = ['Anna', 'Mary', 'John', 'Sebastian']\n",
    "print(\" and \".join(names))"
   ]
  },
  {
   "cell_type": "code",
   "execution_count": 35,
   "metadata": {},
   "outputs": [
    {
     "name": "stdout",
     "output_type": "stream",
     "text": [
      "Python\n"
     ]
    }
   ],
   "source": [
    "letters = ['P', 'y', 't', 'h', 'o', 'n']\n",
    "print(\"\".join(letters))"
   ]
  },
  {
   "cell_type": "markdown",
   "metadata": {},
   "source": [
    "# Homework 4\n",
    "\n",
    "\n",
    "Self reflection is worth 3 points and is mandatory. Passing the homework requires a minimum of 13 points.\n",
    "\n",
    "Upload your modified notebook on Canvas, adding your name to the existing file name (e.g. 04_range_zip_enumerate_string_methods_Aniello.ipynb).\n",
    "\n",
    "**Be careful:**\n",
    "\n",
    "    - The file extension needs to be .ipynb! Do not change that"
   ]
  },
  {
   "cell_type": "markdown",
   "metadata": {},
   "source": [
    "**Problem 1. (3 points)** You are given the following list of English vowels."
   ]
  },
  {
   "cell_type": "code",
   "execution_count": null,
   "metadata": {},
   "outputs": [],
   "source": [
    "vowels = [\"a\", \"o\", \"i\", \"u\", \"e\"]"
   ]
  },
  {
   "cell_type": "markdown",
   "metadata": {},
   "source": [
    "Using the idea of a counter, implement a program that asks the user for a word, and then prints the number of consonants in that word. (For simplicity, we assume that \"y\" always behaves as a consonant, even though [it is not true](https://www.rd.com/culture/letter-y-vowel-consonant/).)"
   ]
  },
  {
   "cell_type": "code",
   "execution_count": null,
   "metadata": {},
   "outputs": [],
   "source": []
  },
  {
   "cell_type": "markdown",
   "metadata": {},
   "source": [
    "**Problem 2. (5 points)**\n",
    "Implement a program that asks the user for the value of $n$ and for a word, and extracts $n$-grams from that word for any $n$ provided by the user.\n",
    "\n",
    "    word:   banana\n",
    "    n:      2\n",
    "    ngrams: ba, an, na, an, na\n",
    "    \n",
    "    word:   linguist\n",
    "    n:      3\n",
    "    ngrams: lin, ing, ngu, gui, uis, ist\n",
    "    \n",
    "    \n",
    "*Hint 1* If you didn't do it for practice before, start by implementing a code that extracts all bigrams. Then think about how you can generalize it to arbitary $n$.\n",
    "\n",
    "*Hint 2* Be careful with the *edges* (i.e., the last $n$ gram in each word). And what happens if the word is shorter then the $n$-gram? (i.e, the word is \"hi\" and n=3? You still need to list \"hi\"!)\n",
    "\n",
    "**Important** There are multiple default libraries to extract $n$-grams, already available in Python. But for this homework you **must** use the concepts we have studies so far. It is a practice, after all :)"
   ]
  },
  {
   "cell_type": "code",
   "execution_count": null,
   "metadata": {},
   "outputs": [],
   "source": []
  },
  {
   "cell_type": "markdown",
   "metadata": {},
   "source": [
    "**Problem 3. (12 points - 3 points per part)** You are given the following text."
   ]
  },
  {
   "cell_type": "code",
   "execution_count": null,
   "metadata": {},
   "outputs": [],
   "source": [
    "text = \"It was dark, like the bottom of a well. There was a pattern of skulls and bones around \\\n",
    "the frame, for the sake of appearances; Death could not look himself in the skull in a mirror \\\n",
    "with cherubs and roses around it. The Death of Rats climbed the frame in a scrabble of claws and \\\n",
    "looked at Death expectantly from the top. Quoth fluttered over and pecked briefly at his own \\\n",
    "reflection, on the basis that anything was worth a try. Show me, said Death, show me my thoughts. \\\n",
    "A chessboard appeared, but it was triangular, and so big that only the nearest point could be seen. \\\n",
    "Right on this point was the world - turtle, elephants, the little orbiting sun and all. It was the \\\n",
    "Discworld, which existed only just this side of total improbability and, therefore, in border country. \\\n",
    "In border country the border gets crossed, and sometimes things creep into the universe that have \\\n",
    "rather more on their mind than a better life for their children and a wonderful future in the \\\n",
    "fruit picking and domestic service industries. On every other black or white triangle of the \\\n",
    "chessboard, all the way to infinity, was a small grey shape, rather like an empty hooded robe.\""
   ]
  },
  {
   "cell_type": "markdown",
   "metadata": {},
   "source": [
    "You are also given a string that contains all symbols of English alphabet."
   ]
  },
  {
   "cell_type": "code",
   "execution_count": null,
   "metadata": {},
   "outputs": [],
   "source": [
    "alphabet = \"abcdefghijklmnopqrstuvwxyz\""
   ]
  },
  {
   "cell_type": "markdown",
   "metadata": {},
   "source": [
    "_Part 1._ Write some code that generates the list `unique_words`, containing all and only the unique lowercase words from `text`.\n",
    "\n",
    "You should see the following output (the order can differ!):\n",
    "    \n",
    "    ['a', 'infinity', 'reflection', 'with', 'like', 'big', 'briefly', 'into', 'children', 'which', 'fruit', 'picking', 'there', 'try', 'little', 'around', 'appearances', 'appeared', 'all', 'crossed', 'basis', 'improbability', 'their', 'discworld', 'black', 'to', 'death', 'future', 'only', 'my', 'robe', 'things', 'for', 'it', 'existed', 'said', 'sake', 'sometimes', 'right', 'way', 'that', 'country', 'chessboard', 'quoth', 'well', 'domestic', 'skull', 'wonderful', 'hooded', 'or', 'empty', 'bottom', 'mirror', 'himself', 'rather', 'over', 'every', 'triangle', 'roses', 'border', 'orbiting', 'was', 'from', 'show', 'be', 'pecked', 'bones', 'just', 'universe', 'me', 'triangular', 'gets', 'worth', 'have', 'climbed', 'service', 'fluttered', 'top', 'but', 'grey', 'claws', 'at', 'rats', 'creep', 'own', 'pattern', 'point', 'white', 'than', 'dark', 'therefore', 'frame', 'this', 'not', 'the', 'could', 'mind', 'turtle', 'scrabble', 'better', 'industries', 'looked', 'an', 'cherubs', 'life', 'anything', 'more', 'small', 'and', 'of', 'his', 'on', 'skulls', 'elephants', 'in', 'thoughts', 'seen', 'nearest', 'expectantly', 'other', 'side', 'shape', 'total', 'so', 'world', 'look', 'sun']"
   ]
  },
  {
   "cell_type": "code",
   "execution_count": null,
   "metadata": {},
   "outputs": [],
   "source": []
  },
  {
   "cell_type": "markdown",
   "metadata": {},
   "source": [
    "_Part 2._ Write a program which generates the list `bigrams`, collect all attested bigrams in `unique_words`. Ignore words that are shorter than $2$ characters. **Make sure that the list `bigrams` does not contain duplicates**.\n",
    "\n",
    "*Hint.* You can use the code to extract bigrams you wrote above. Then, you need to have that code iterate over each word in the `unique_words` list and add a check for duplicates!"
   ]
  },
  {
   "cell_type": "code",
   "execution_count": null,
   "metadata": {},
   "outputs": [],
   "source": []
  },
  {
   "cell_type": "markdown",
   "metadata": {},
   "source": [
    "_Part 3._ Based on the variable `alphabet`, generate all possible bigrams of English. (Hint: look at the second exercise of the previous homework!)"
   ]
  },
  {
   "cell_type": "code",
   "execution_count": null,
   "metadata": {},
   "outputs": [],
   "source": []
  },
  {
   "cell_type": "markdown",
   "metadata": {},
   "source": [
    "_Part 4._ Collect all unattested bigrams of English in the list `unattested_bigrams`. \n",
    "\n",
    "*Hint.* The unattested bigrams are those bigrams that are possible but not attested in the word sample (you collected all attested bigrams before)!"
   ]
  },
  {
   "cell_type": "code",
   "execution_count": null,
   "metadata": {},
   "outputs": [],
   "source": []
  },
  {
   "cell_type": "markdown",
   "metadata": {},
   "source": [
    "Don't be surprised that some bigrams from `unattested_bigrams` are actually present in other English words, the text that we are working with is very small! If you are curious, take a larger text, and run your code on it. :)\n",
    "\n",
    "**Self Reflection**. Some things to consider: How well do you think you did? How much time did you spend on the homework? And how much time did you spend preparing for it (e.g. rereading the lecture notes)? How well do you feel you are retaining the concepts learned so far? What did you struggle with the most, and why do you think that is? \n",
    "\n",
    "**You can add your answer here by doble clicking on the markdown cell **"
   ]
  }
 ],
 "metadata": {
  "kernelspec": {
   "display_name": "Python 3",
   "language": "python",
   "name": "python3"
  },
  "language_info": {
   "codemirror_mode": {
    "name": "ipython",
    "version": 3
   },
   "file_extension": ".py",
   "mimetype": "text/x-python",
   "name": "python",
   "nbconvert_exporter": "python",
   "pygments_lexer": "ipython3",
   "version": "3.8.5"
  }
 },
 "nbformat": 4,
 "nbformat_minor": 2
}
