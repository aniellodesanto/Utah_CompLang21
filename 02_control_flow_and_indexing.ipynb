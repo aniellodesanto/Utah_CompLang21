{
 "cells": [
  {
   "cell_type": "markdown",
   "metadata": {},
   "source": [
    "|<div style=\"text-align: right\">\n",
    "    <i>\n",
    "        LING 3300: Computers & Language <br>\n",
    "        Fall 2021 <br>\n",
    "        Aniello De Santo\n",
    "    </i>\n",
    "</div>\n",
    "\n",
    "# Notebook 2: Control flow and indexing\n",
    "\n",
    "This notebook explains how to change and control the flow of the program using `if`, `elif` and `else` and boolean expressions. We will also discuss indexing, and data types that can be indexed, negative indexing, slices and steps."
   ]
  },
  {
   "cell_type": "markdown",
   "metadata": {},
   "source": [
    "## 1. Flow control\n",
    "\n",
    "So far, we have only seen code that works deterministically and sequentially: every line of code gets executed, in the order you wrote them.\n",
    "In most of the cases though, we want to be flexible and only execute some code if certain conditions are met. For example, voice assistants gets triggered only after a specific phrase is pronounced.\n",
    "\n",
    "### `if`-statement\n",
    "\n",
    "In Python, the conditional operator `if` introuces a block of code that is executed *only if* some condition is met.\n",
    "Here is an abstract pseudo-code chunck representing this concept:\n",
    "\n",
    "```\n",
    "if condition:\n",
    "    code that is executed only if the condition is True\n",
    "```\n",
    "\n",
    "Note that *indentation* is crucial here: the indentation of the second line shows which code is tied to the boolean expression in `if` being True.\n",
    "Consider the code below:"
   ]
  },
  {
   "cell_type": "code",
   "execution_count": 7,
   "metadata": {},
   "outputs": [
    {
     "name": "stdout",
     "output_type": "stream",
     "text": [
      "User 2, you are old!\n",
      "Bye\n",
      "Bye2\n"
     ]
    }
   ],
   "source": [
    "user_1_age = 26\n",
    "user_2_age = 99\n",
    "\n",
    "#if user_1_age > 90:\n",
    "#   print(\"User 1, you are old!\")\n",
    "\n",
    "    \n",
    "if user_2_age > 90:\n",
    "    print(\"User 2, you are old!\")\n",
    "    print(\"Bye\")\n",
    "print(\"Bye2\")"
   ]
  },
  {
   "cell_type": "markdown",
   "metadata": {},
   "source": [
    "The indented code is executed only when the corresponding condition is True, whereas non-indented code does not depend on any condition and it is always executed."
   ]
  },
  {
   "cell_type": "code",
   "execution_count": 9,
   "metadata": {},
   "outputs": [
    {
     "name": "stdout",
     "output_type": "stream",
     "text": [
      "Hey, let's chat then!\n",
      "Nice meeting you anyway.\n"
     ]
    }
   ],
   "source": [
    "talkative = True\n",
    "#talkative = False\n",
    "\n",
    "if talkative:\n",
    "    print(\"Hey, let's chat then!\")\n",
    "    \n",
    "print(\"Nice meeting you anyway.\")"
   ]
  },
  {
   "cell_type": "markdown",
   "metadata": {},
   "source": [
    "In the example above, the variable _talkative_ is used as a *flag*. We can define the flag to be dependent on the user input, or on some other part of the code."
   ]
  },
  {
   "cell_type": "code",
   "execution_count": null,
   "metadata": {},
   "outputs": [],
   "source": [
    "talkative = False\n",
    "\n",
    "print(\"Are you talkative?\")\n",
    "answer = input()\n",
    "\n",
    "if answer == \"yes\":\n",
    "    talkative = True\n",
    "\n",
    "if talkative:\n",
    "    print(\"Hey, let's chat then!\")\n",
    "print(\"Nice meeting you anyway.\")"
   ]
  },
  {
   "cell_type": "markdown",
   "metadata": {},
   "source": [
    "The code above is slightly *redundant*: it has more code than needed for what it does. But it should help clarify the idea of how we can make some code dependent on whatever the user inputs.\n",
    "\n",
    "**Practice** Can you simplify the code above so that it works exacly the same (gives the same output for the same user input), but it is shorter and/or involves less operations? You can try it in the cell below:"
   ]
  },
  {
   "cell_type": "code",
   "execution_count": null,
   "metadata": {},
   "outputs": [],
   "source": [
    "#write your code here"
   ]
  },
  {
   "cell_type": "markdown",
   "metadata": {},
   "source": [
    "Note that so far we have only seen one line of code immediatelly follow an if statement. Can we have longer pieces of code depend of a condition? We can! Consider the code below:"
   ]
  },
  {
   "cell_type": "code",
   "execution_count": 10,
   "metadata": {},
   "outputs": [
    {
     "name": "stdout",
     "output_type": "stream",
     "text": [
      "Are you talkative?\n",
      "yes\n",
      "Hey, let's chat then!\n",
      "Do you like cake? Yes or No?\n",
      "No\n",
      "How can you not like cake!?\n",
      "Goodbye!\n",
      "Nice meeting you anyway.\n"
     ]
    }
   ],
   "source": [
    "#Before executing this, try figuring out what will happen based on different answers\n",
    "\n",
    "print(\"Are you talkative?\")\n",
    "answer = input()\n",
    "\n",
    "if answer == \"yes\":\n",
    "    print(\"Hey, let's chat then!\")\n",
    "    print(\"Do you like cake? Yes or No?\")\n",
    "    answer2 = input()\n",
    "    if answer2 == \"No\":\n",
    "        print(\"How can you not like cake!?\")\n",
    "        print(\"Goodbye!\")\n",
    "print(\"Nice meeting you anyway.\")"
   ]
  },
  {
   "cell_type": "markdown",
   "metadata": {},
   "source": [
    "As you can see, we can have code of any length **nested within** an if-statement. In fact, we can also have multiple ifs nested within other ifs.\n",
    "How does Python figure out which code depend on which condition? It is all thanks to how each line is indented!\n",
    "Indentation turns out to play a very important role in the syntax Python, and we will get back to this concept multiple times. \n",
    "\n",
    "**Practice** Run the code above a few times, trying different answers to question 1 and question 2. Do you understand why each statement gets printed when it does? If not, write down your hypotheses/questions to discuss in class."
   ]
  },
  {
   "cell_type": "markdown",
   "metadata": {},
   "source": [
    "**Practice** Can we have an if statement without a condition? What about an if statement without any code indented after it? Try these different options in the cell below, and come up with possible conditions on how if-statements need to be written."
   ]
  },
  {
   "cell_type": "code",
   "execution_count": 20,
   "metadata": {},
   "outputs": [
    {
     "name": "stdout",
     "output_type": "stream",
     "text": [
      "learn how to count\n"
     ]
    }
   ],
   "source": [
    "test = 3\n",
    "\n",
    "if test > 3:\n",
    "    print(\"hello\")\n",
    "else:\n",
    "    print(\"learn how to count\")"
   ]
  },
  {
   "cell_type": "markdown",
   "metadata": {},
   "source": [
    "### `else`\n",
    "\n",
    "Consider the code above once again.\n",
    "In the second if, we ask the user a yes/no question. But then we only have code that is executed based on \"no\". What if we want to add some code to be executed only when the user answers \"yes\"?\n",
    "One way to do this is as follows:\n"
   ]
  },
  {
   "cell_type": "code",
   "execution_count": null,
   "metadata": {},
   "outputs": [],
   "source": [
    "print(\"Do you like cake? Yes or No?\")\n",
    "\n",
    "answer = input()\n",
    "if answer == \"No\":\n",
    "    print(\"How can you not like cake!?\")\n",
    "    print(\"Goodbye!\")\n",
    "#if answer == \"Yes\":\n",
    "else:\n",
    "    print(\"Ok that's a good take!\")\n",
    "    print(\"My fav is chocolate lava cake!\")\n",
    "print(\"Nice meeting you anyway.\")"
   ]
  },
  {
   "cell_type": "markdown",
   "metadata": {},
   "source": [
    "However, consider this: when we check the first time  whether `answer` is equal to \"No\", we also implicitly realize whether if is equal to \"Yes\" or not.\n",
    "So checking `answer == \"Yes\"` is somewhat redundant. Remember that evaluating conditions is an expensive operation for Python.\n",
    "It would be nice to be able to tell the code that, if the first condition is False, then it should print \"Ok that's a good take!\".\n",
    "This is exactly what `else` does.\n",
    "\n",
    "`else` is used if we want some code to be executed when the conditions associated to `if` were  False. \n",
    "As a linguist, you might be reminded of _elsewhere_ conditions in phonology/morphology. \n",
    "\n",
    "\n",
    "```\n",
    "if condition1:\n",
    "    code that is executed only if condition1 is True\n",
    "   \n",
    "else:\n",
    "    code that is executed only if condition1 is False\n",
    "```"
   ]
  },
  {
   "cell_type": "code",
   "execution_count": null,
   "metadata": {},
   "outputs": [],
   "source": [
    "print(\"Do you like cake? Yes or No?\")\n",
    "\n",
    "answer = input()\n",
    "if answer == \"No\":\n",
    "    print(\"How can you not like cake!?\")\n",
    "    print(\"Goodbye!\")\n",
    "else:\n",
    "    print(\"Ok that's a good take!\")\n",
    "    print(\"My fav is chocolate lava cake!\")\n",
    "print(\"Nice meeting you anyway.\")"
   ]
  },
  {
   "cell_type": "markdown",
   "metadata": {},
   "source": [
    "Because it is implicitly linked to the condition in the preceding if-statement,  `else` does not permit a condition. For the same reason, while we can have `if` without `else`, we cannot have `else` without `if`."
   ]
  },
  {
   "cell_type": "code",
   "execution_count": null,
   "metadata": {},
   "outputs": [],
   "source": [
    "sentence = \"colorless green ideas sleep furiously\"\n",
    "\n",
    "\n",
    "else:\n",
    "    print(\"stuff\")"
   ]
  },
  {
   "cell_type": "markdown",
   "metadata": {},
   "source": [
    "Importantly, `else` is bound only to the `if` **immediately preceding** it!"
   ]
  },
  {
   "cell_type": "code",
   "execution_count": 21,
   "metadata": {},
   "outputs": [
    {
     "name": "stdout",
     "output_type": "stream",
     "text": [
      "Green!\n"
     ]
    }
   ],
   "source": [
    "sentence = \"colorless green ideas sleep furiously\"\n",
    "\n",
    "if \"red\" in sentence:\n",
    "    print(\"Red!\")\n",
    "    \n",
    "if \"green\" in sentence:\n",
    "    print(\"Green!\")\n",
    "else:\n",
    "    print(\"None of those words were found.\")"
   ]
  },
  {
   "cell_type": "markdown",
   "metadata": {},
   "source": [
    "\n",
    "\n",
    "### `elif`-statement\n",
    "\n",
    "`if` and `else` allow us a lot of flexibility in how we structure our code, expecially when interacting with users.\n",
    "As we saw above, different if-statements can be nested in each other to create a cascade of conditions.\n",
    "Consider now the cade in which we would like to check a second condition, but only if a first condition was False.\n",
    "How can we do it? The simplest way is to employ a combination of `if` and `else`  statements."
   ]
  },
  {
   "cell_type": "code",
   "execution_count": 22,
   "metadata": {},
   "outputs": [
    {
     "name": "stdout",
     "output_type": "stream",
     "text": [
      "Green!\n",
      "-------\n",
      "Colorless!\n"
     ]
    }
   ],
   "source": [
    "sentence = \"colorless green ideas sleep furiously\"\n",
    "\n",
    "if \"green\" in sentence:\n",
    "    print(\"Green!\")\n",
    "    \n",
    "else:\n",
    "    if \"colorless\" in sentence:\n",
    "        print(\"Colorless!\")\n",
    "    \n",
    "print(\"-------\")\n",
    "\n",
    "if \"red\" in sentence:\n",
    "    print(\"Red!\")\n",
    "    \n",
    "else:\n",
    "    if \"colorless\" in sentence:\n",
    "        print(\"Colorless!\")"
   ]
  },
  {
   "cell_type": "markdown",
   "metadata": {},
   "source": [
    "However, the code above is once again a bit redundant. There is a better way!\n",
    "\n",
    "If a 2nd (or 3rd, 4th, etc.) condition depends on an earlier condition being False, the former can be introduced using the `elif` statement. The `elif` code block is executed only if the condition of previous `if` turned out to be False (even the name is, in fact, a combination of `else` and `if`).\n",
    "\n",
    "```\n",
    "if condition1:\n",
    "    code that is executed only if condition1 is True\n",
    "    \n",
    "elif condition2:\n",
    "    code that is executed only if condition2 is True and condition1 is False\n",
    "    \n",
    "elif condition3:\n",
    "    code that is executed only if condition3 is True and condition1 and condition2 are False\n",
    "```"
   ]
  },
  {
   "cell_type": "code",
   "execution_count": 23,
   "metadata": {},
   "outputs": [
    {
     "name": "stdout",
     "output_type": "stream",
     "text": [
      "Green!\n",
      "-------\n",
      "Colorless!\n"
     ]
    }
   ],
   "source": [
    "sentence = \"colorless green ideas sleep furiously\"\n",
    "\n",
    "if \"green\" in sentence:\n",
    "    print(\"Green!\")\n",
    "    \n",
    "elif \"colorless\" in sentence:\n",
    "    print(\"Colorless!\")\n",
    "\n",
    "    \n",
    "print(\"-------\")\n",
    "\n",
    "if \"red\" in sentence:\n",
    "    print(\"Red!\")\n",
    "    \n",
    "elif \"colorless\" in sentence:\n",
    "    print(\"Colorless!\")"
   ]
  },
  {
   "cell_type": "markdown",
   "metadata": {},
   "source": [
    "However, you can use `elif` only if you are sure that the conditions are dependent on each other. \n",
    "If you want to simply check if these words can be found in the sentence independently, we will need to use several independent `if`-statements."
   ]
  },
  {
   "cell_type": "code",
   "execution_count": null,
   "metadata": {},
   "outputs": [],
   "source": [
    "sentence = \"colorless green ideas sleep furiously\"\n",
    "\n",
    "if \"green\" in sentence:\n",
    "    print(\"Green!\")\n",
    "    \n",
    "if \"colorless\" in sentence:\n",
    "    print(\"Colorless!\")\n",
    "    \n",
    "if \"sleep\" in sentence:\n",
    "    print(\"Sleep!\")"
   ]
  },
  {
   "cell_type": "markdown",
   "metadata": {},
   "source": [
    "Finally, `else` can be used at the end of a sequence of `elif`, once again filling the role of the elsewhere condition."
   ]
  },
  {
   "cell_type": "code",
   "execution_count": null,
   "metadata": {},
   "outputs": [],
   "source": [
    "sentence = \"colorless green ideas sleep furiously\"\n",
    "\n",
    "if \"green\" in sentence:\n",
    "    print(\"Green!\")\n",
    "elif \"yellow\" in sentence:\n",
    "    print(\"Red!\")\n",
    "elif \"blue\" in sentence:\n",
    "    print(\"Red!\")    \n",
    "else:\n",
    "    print(\"This sentence has no good colors!\")"
   ]
  },
  {
   "cell_type": "markdown",
   "metadata": {},
   "source": [
    "### Nested conditions in detail\n",
    "\n",
    "As we saw before with simple sequences of `if`s, a block of `if`-`elif`-`else` statements can be embedded inside another block:\n",
    "\n",
    "```\n",
    "if condition1:\n",
    "\n",
    "    code that is executed if condition1 is True\n",
    "    \n",
    "    if condition2:\n",
    "        code that is executed if condition1 and condition2 are True\n",
    "    else:\n",
    "        code that is executed if condition1 is True and condition2 is False\n",
    "        \n",
    "else:\n",
    "    code that is executed if condition1 is False\n",
    "```"
   ]
  },
  {
   "cell_type": "code",
   "execution_count": null,
   "metadata": {},
   "outputs": [],
   "source": [
    "user_mood = input(\"Enter your mood: \")\n",
    "\n",
    "if \"happy\" in user_mood:\n",
    "    print(\"Good that you are feeling happy!\")\n",
    "    if \"relaxed\" in user_mood:\n",
    "        print(\"And you are relaxed as well, it's nice.\")\n",
    "    else:\n",
    "        print(\"Try to relax!\")\n",
    "else:\n",
    "    print(\"Smile! :)\")"
   ]
  },
  {
   "cell_type": "markdown",
   "metadata": {},
   "source": [
    "**Practice:** rewrite the code above using the `elif` statement and complex boolean expressions."
   ]
  },
  {
   "cell_type": "code",
   "execution_count": 24,
   "metadata": {},
   "outputs": [
    {
     "name": "stdout",
     "output_type": "stream",
     "text": [
      "Hello\n"
     ]
    }
   ],
   "source": [
    "test = \"Table is 30\"\n",
    "\n",
    "if \"Cat\" and \"30\" in test:\n",
    "    print(\"Hello\")\n",
    "else:\n",
    "    print(\"bye\")"
   ]
  },
  {
   "cell_type": "markdown",
   "metadata": {},
   "source": [
    "**Warning:** be careful when combining boolean expressions."
   ]
  },
  {
   "cell_type": "code",
   "execution_count": 2,
   "metadata": {},
   "outputs": [
    {
     "name": "stdout",
     "output_type": "stream",
     "text": [
      "Happy to hear!\n"
     ]
    }
   ],
   "source": [
    "sentence = \"bad and horrible\"\n",
    "if \"good\" or \"awesome\" in sentence:\n",
    "    print(\"Happy to hear!\")\n",
    "    \n",
    "if \"good\" in sentence or \"awesome\" in sentence:\n",
    "    print(\"Happy to hear2!\")\n",
    "    \n",
    "if \"c\" in sentence and \"d\" in sentence or \"cheese\" in sentence:\n",
    "    print(\"Happy to hear 3!\")"
   ]
  },
  {
   "cell_type": "markdown",
   "metadata": {},
   "source": [
    "Remember, that the operator `or` combines boolean expression together:\n",
    "\n",
    "            expression1 and expression2\n",
    "\n",
    "The `if`-statement above depends on two expressions: ``''good''`` and ``''awesome'' in sentence``. In fact, in Python, strings have truth values: non-empty string evaluates to True, whereas the empty one evaluates to False."
   ]
  },
  {
   "cell_type": "code",
   "execution_count": 4,
   "metadata": {},
   "outputs": [
    {
     "name": "stdout",
     "output_type": "stream",
     "text": [
      "Non-empty strings evaluate to True.\n",
      "Nothing to be seen here?\n"
     ]
    }
   ],
   "source": [
    "if \"string is non-empty\":\n",
    "    print(\"Non-empty strings evaluate to True.\")\n",
    "\n",
    "if \"\":\n",
    "    print(\"Nothing to be seen here.\")\n",
    "\n",
    "if \"      \":\n",
    "    print(\"Nothing to be seen here?\")"
   ]
  },
  {
   "cell_type": "markdown",
   "metadata": {},
   "source": [
    "### Practice: a simple chatbot\n",
    "\n",
    "Ask the user if they are in a chatty mood. If the user said something apart from \"yes\", wish them a good day. Otherwise ask them how they are doing. Have different responses for the cases when the sentence contains\n",
    " -  \"nice\" or \"good\"\n",
    " -  \"bad\" or \"horrible\"\n",
    " -   anything else."
   ]
  },
  {
   "cell_type": "code",
   "execution_count": null,
   "metadata": {},
   "outputs": [],
   "source": []
  },
  {
   "cell_type": "markdown",
   "metadata": {},
   "source": [
    "## 2. Indexing\n",
    "\n",
    "Let's now take a break from the flow of the program, and talk about a core property of several data types in Python: **indexing**.\n",
    "\n",
    "Indexing is a way of assigning order to elements in some container. \n",
    "**Containers** are objects that can contain an arbitrary number of other objects within themselves.\n",
    "So far, we have encountered one instance of a container data type: strings.\n",
    "Strings are containers, because they can consist of any numbers of characters. \n",
    "As we know, the order of symbols in a string matters (\"lived\" is not the same as \"devil\"), this is the fundamental intuition about indexing: each element in a container is assigned a position!\n",
    "\n",
    "As a notational peculiarity, indexing starts from $0$, and a symbol on the position $n$ can be accessed as ``string[n]``."
   ]
  },
  {
   "cell_type": "code",
   "execution_count": 5,
   "metadata": {},
   "outputs": [
    {
     "name": "stdout",
     "output_type": "stream",
     "text": [
      "h\n",
      "P\n"
     ]
    }
   ],
   "source": [
    "print(\"happy\"[0])\n",
    "print(\"hapPy\"[3])\n"
   ]
  },
  {
   "cell_type": "markdown",
   "metadata": {},
   "source": [
    "Integers, floats, and booleans are not indexed: they don't have any defined sub-objects (technically, they are not _subscriptable_)."
   ]
  },
  {
   "cell_type": "code",
   "execution_count": 7,
   "metadata": {},
   "outputs": [
    {
     "data": {
      "text/plain": [
       "'6'"
      ]
     },
     "execution_count": 7,
     "metadata": {},
     "output_type": "execute_result"
    }
   ],
   "source": [
    "1964[2]"
   ]
  },
  {
   "cell_type": "markdown",
   "metadata": {},
   "source": [
    "Finally, recall that a variable is just a referent to whatever object it contains!"
   ]
  },
  {
   "cell_type": "code",
   "execution_count": 8,
   "metadata": {},
   "outputs": [
    {
     "name": "stdout",
     "output_type": "stream",
     "text": [
      "h\n",
      "a\n",
      "p\n",
      "p\n",
      "y\n"
     ]
    }
   ],
   "source": [
    "str1 = \"happy\"\n",
    "print(str1[0])\n",
    "print(str1[1])\n",
    "print(str1[2])\n",
    "print(str1[3])\n",
    "print(str1[4])"
   ]
  },
  {
   "cell_type": "markdown",
   "metadata": {},
   "source": [
    "### Slices\n",
    "\n",
    "Slices are subparts of the original string. They can be accessed as:\n",
    "\n",
    "            string[start:end]\n",
    "\n",
    "The ``start`` argument is the first index _included_ in the slice, and the ``end`` is the first index _not included_ in it."
   ]
  },
  {
   "cell_type": "code",
   "execution_count": 9,
   "metadata": {},
   "outputs": [
    {
     "name": "stdout",
     "output_type": "stream",
     "text": [
      "derfu\n"
     ]
    }
   ],
   "source": [
    "print(\"wonderful\"[3:8])"
   ]
  },
  {
   "cell_type": "markdown",
   "metadata": {},
   "source": [
    "If the value of `start` is $0$, or if the value of `end` is larger then the last available index in the string, the corresponding argument can be ommitted."
   ]
  },
  {
   "cell_type": "code",
   "execution_count": 10,
   "metadata": {},
   "outputs": [
    {
     "data": {
      "text/plain": [
       "'wonderf'"
      ]
     },
     "execution_count": 10,
     "metadata": {},
     "output_type": "execute_result"
    }
   ],
   "source": [
    "\"wonderful\"[:7]"
   ]
  },
  {
   "cell_type": "code",
   "execution_count": 11,
   "metadata": {},
   "outputs": [
    {
     "data": {
      "text/plain": [
       "'derful'"
      ]
     },
     "execution_count": 11,
     "metadata": {},
     "output_type": "execute_result"
    }
   ],
   "source": [
    "\"wonderful\"[3:]"
   ]
  },
  {
   "cell_type": "code",
   "execution_count": 12,
   "metadata": {},
   "outputs": [
    {
     "data": {
      "text/plain": [
       "'wonderful'"
      ]
     },
     "execution_count": 12,
     "metadata": {},
     "output_type": "execute_result"
    }
   ],
   "source": [
    "\"wonderful\"[:]"
   ]
  },
  {
   "cell_type": "markdown",
   "metadata": {},
   "source": [
    "**Practice** Ask the user for a word, and print the last available index in the string corresponding to that word."
   ]
  },
  {
   "cell_type": "code",
   "execution_count": 13,
   "metadata": {},
   "outputs": [
    {
     "name": "stdout",
     "output_type": "stream",
     "text": [
      "lol\n",
      "The last index is 2\n"
     ]
    }
   ],
   "source": [
    "word = input(\"Give me a word!\")\n",
    "\n",
    "#add here some code to find the value for the last index\n",
    "# Store it in the \"index\" variable below so that it gets printed.\n",
    "# Hint: you know how to find out how long a string is...\n",
    "\n",
    "index = len(word) - 1\n",
    "print(\"The last index is\", index)"
   ]
  },
  {
   "cell_type": "code",
   "execution_count": 15,
   "metadata": {},
   "outputs": [
    {
     "name": "stdout",
     "output_type": "stream",
     "text": [
      "Give me a word!lol\n",
      "The last index is 2\n"
     ]
    }
   ],
   "source": [
    "print(\"The last index is\", len(input(\"Give me a word!\")) - 1)"
   ]
  },
  {
   "cell_type": "markdown",
   "metadata": {},
   "source": [
    "Apart from the `start` and `end` parameters, there is an optional one: `step`. The **step** of the slice is the difference of the current and the following elements of the slice in the original string. This is useful if, for example, only every third item needs to be included in the slice."
   ]
  },
  {
   "cell_type": "code",
   "execution_count": 18,
   "metadata": {},
   "outputs": [
    {
     "data": {
      "text/plain": [
       "'n'"
      ]
     },
     "execution_count": 18,
     "metadata": {},
     "output_type": "execute_result"
    }
   ],
   "source": [
    "\"wonderful\"[2:5:2]"
   ]
  },
  {
   "cell_type": "code",
   "execution_count": 19,
   "metadata": {},
   "outputs": [
    {
     "data": {
      "text/plain": [
       "'wr'"
      ]
     },
     "execution_count": 19,
     "metadata": {},
     "output_type": "execute_result"
    }
   ],
   "source": [
    "\"wonderful\"[::5]"
   ]
  },
  {
   "cell_type": "markdown",
   "metadata": {},
   "source": [
    "The distance can be negative, and in this case, the selected positions start from the bigger indecies and go down to the smaller ones, therefore the `start` argument is bigger than the `end` one."
   ]
  },
  {
   "cell_type": "code",
   "execution_count": 20,
   "metadata": {},
   "outputs": [
    {
     "data": {
      "text/plain": [
       "'lr'"
      ]
     },
     "execution_count": 20,
     "metadata": {},
     "output_type": "execute_result"
    }
   ],
   "source": [
    "\"wonderful\"[8:2:-3]"
   ]
  },
  {
   "cell_type": "markdown",
   "metadata": {},
   "source": [
    "**Practice** Can you think of how to reverse a string (e.g. \"lived\" -> \"devil\") using slicing?"
   ]
  },
  {
   "cell_type": "code",
   "execution_count": null,
   "metadata": {},
   "outputs": [],
   "source": []
  },
  {
   "cell_type": "markdown",
   "metadata": {},
   "source": [
    "### Negative indexing\n",
    "\n",
    "Python supports negative indexing. In this case, _the index of the final element_ is $-1$, pre-final one is $-2$, and so on."
   ]
  },
  {
   "cell_type": "code",
   "execution_count": 21,
   "metadata": {},
   "outputs": [
    {
     "data": {
      "text/plain": [
       "'e'"
      ]
     },
     "execution_count": 21,
     "metadata": {},
     "output_type": "execute_result"
    }
   ],
   "source": [
    "\"apple\"[-1]"
   ]
  },
  {
   "cell_type": "code",
   "execution_count": 23,
   "metadata": {},
   "outputs": [
    {
     "name": "stdout",
     "output_type": "stream",
     "text": [
      "ppl\n",
      "ppl\n"
     ]
    }
   ],
   "source": [
    "print(\"apple\"[-4:-1])\n",
    "print(\"apple\"[1:4])"
   ]
  },
  {
   "cell_type": "code",
   "execution_count": null,
   "metadata": {},
   "outputs": [],
   "source": [
    "\"antidisestablishmentarianism\"[-3:-13:-3]"
   ]
  },
  {
   "cell_type": "markdown",
   "metadata": {},
   "source": [
    "Here, the first included index is $-3$. The second is $-3-3$, or $-6$. Then $-9$ and $-12$, and $-15$ is not included because it is bigger than $-13$."
   ]
  },
  {
   "cell_type": "markdown",
   "metadata": {},
   "source": [
    "### The `find` method\n",
    "\n",
    "`str.find(string, substring)` returns the index of the string where the given substring starts, or `-1` if the substring is not found."
   ]
  },
  {
   "cell_type": "code",
   "execution_count": 27,
   "metadata": {},
   "outputs": [
    {
     "data": {
      "text/plain": [
       "3"
      ]
     },
     "execution_count": 27,
     "metadata": {},
     "output_type": "execute_result"
    }
   ],
   "source": [
    "str.find(\"an apple\", \"ap\")"
   ]
  },
  {
   "cell_type": "code",
   "execution_count": 26,
   "metadata": {},
   "outputs": [
    {
     "data": {
      "text/plain": [
       "3"
      ]
     },
     "execution_count": 26,
     "metadata": {},
     "output_type": "execute_result"
    }
   ],
   "source": []
  },
  {
   "cell_type": "code",
   "execution_count": 28,
   "metadata": {},
   "outputs": [
    {
     "data": {
      "text/plain": [
       "-1"
      ]
     },
     "execution_count": 28,
     "metadata": {},
     "output_type": "execute_result"
    }
   ],
   "source": [
    "str.find(\"apple\", \"abc\")"
   ]
  },
  {
   "cell_type": "markdown",
   "metadata": {},
   "source": [
    "However, if the substring is found more then once, `find` returns the starting index only of its first occurrence."
   ]
  },
  {
   "cell_type": "code",
   "execution_count": 29,
   "metadata": {},
   "outputs": [
    {
     "data": {
      "text/plain": [
       "0"
      ]
     },
     "execution_count": 29,
     "metadata": {},
     "output_type": "execute_result"
    }
   ],
   "source": [
    "str.find(\"rock and roll\", \"ro\")"
   ]
  },
  {
   "cell_type": "markdown",
   "metadata": {},
   "source": [
    "A more precise name for functions such as `find`, `upper`, `lower`, etc. are **methods**. Methods are defined for specific types of objects, and they can be called either by the full reference, as `str.upper(some_string)`, or by the short one as `some_string.upper()`.\n",
    "\n",
    "Intuitively, **methods** depend on the type of the object they operate with. For example, the definition of the object `str` includes the definition of the method `upper`.\n",
    "**Functions** operate with objects, but they are defined independently of those objects.\n",
    "\n",
    "If this is a bit too much, don't worry! We will come back to these concepts in the future.\n",
    "For now, try to remember that specific data types have some properties that are unique to them (kind of a special attack for a subtype of Pokemons)."
   ]
  },
  {
   "cell_type": "code",
   "execution_count": null,
   "metadata": {},
   "outputs": [],
   "source": [
    "str.upper(\"heLLo wORld\") == \"heLLo wORld\".upper()"
   ]
  },
  {
   "cell_type": "code",
   "execution_count": null,
   "metadata": {},
   "outputs": [],
   "source": [
    "str.find(\"Hello\", \"ll\") == \"Hello\".find(\"ll\")"
   ]
  },
  {
   "cell_type": "markdown",
   "metadata": {},
   "source": [
    "### Practice: calculating initial and final indexes\n",
    "\n",
    "Write a program that asks the user for a string and its substring. It then prints the initial and final indexes of the substring in that string in positive and in negative representations. For example:\n",
    "\n",
    "    String: subsequential\n",
    "    Substring: quen\n",
    "    \n",
    "    The non-negative slice is [5:9].\n",
    "    The negative slice is [-8:-4]."
   ]
  },
  {
   "cell_type": "code",
   "execution_count": 37,
   "metadata": {},
   "outputs": [
    {
     "name": "stdout",
     "output_type": "stream",
     "text": [
      "Give me a string: hello\n",
      "Give me a substring: hell\n",
      "The non-negative slice is: [0:4]\n",
      "The negative slice is: -5 -1\n"
     ]
    }
   ],
   "source": []
  },
  {
   "cell_type": "markdown",
   "metadata": {},
   "source": [
    "# Homework 2\n",
    "\n",
    "Self reflection is worth 3 points and is mandatory. Passing the homework requires a minimum of 7 points.\n",
    "\n",
    "Upload your modified notebook on Canvas, adding your name to the existing file name (e.g. 02_control_flow_Aniello.ipynb).\n",
    "\n",
    "**Be careful:**\n",
    "\n",
    "    - The file extension needs to be .ipynb! Do not change that"
   ]
  },
  {
   "cell_type": "markdown",
   "metadata": {},
   "source": [
    "**Peoblem 1 (4 points).**\n",
    "You might have heard of *Dungeons & Dragons*, a pen-and-paper roleplaying game where the player creates their own fantasy character and then plays this character in a series of adventures.\n",
    "There are different types of characters to choose from, but they must satisfy certain requirements.\n",
    "\n",
    "_Alignment_ places the character's ethics and morals along two axes: lawful-neutral-chaotic, and good-neutral-evil. Here is a selection of alignments of the characters:\n",
    "\n",
    "- _Paladin:_ lawful-good\n",
    "- _Antipaladin:_ chaotic-evil\n",
    "- _Monk:_ any combination with lawful\n",
    "- _Rogue:_ any combination that's not lawful\n",
    "- _Druid:_ must not be lawful-good or chaotic-good\n",
    "- _Fighter:_ anything goes\n",
    "\n",
    "Ask the user for their preferred position on these two axes, and print on the screen possible characters for the user. The list should not contain any duplicates.\n",
    "If the user enters a choice that does not exist, tell them so and assume `neutral` instead.\n",
    "Here is an example of user choices and the resulting alignment!\n",
    "\n",
    "    Choose one from lawful-neutral-chaotic: chaotic\n",
    "    Choose one from good-neutral-evil: good\n",
    "    \n",
    "    You are chaotic-good. You can be:\n",
    "    - rogue\n",
    "    - fighter\n",
    "    \n",
    " **Hint.** Before you start coding, take a piece of paper and think of how you would structure the program:\n",
    " \n",
    " - how many choice points will the user have?\n",
    " - will some choices depend exclusively on others?\n",
    " - how would you nest then then?\n",
    " \n",
    "Drawing the flow of options and possibilities down can also help!"
   ]
  },
  {
   "cell_type": "code",
   "execution_count": null,
   "metadata": {},
   "outputs": [],
   "source": []
  },
  {
   "cell_type": "markdown",
   "metadata": {},
   "source": [
    "**Problem 2 (3 points).** You are given the following list of words whose reversals are words as well. There are [more](https://www.buzzfeed.com/kellyoakes/words-that-mean-something-different-backwards) of those, but let's assume for this exercise that the list is comprehensive and contains all possible words on this kind."
   ]
  },
  {
   "cell_type": "code",
   "execution_count": null,
   "metadata": {},
   "outputs": [],
   "source": [
    "reversal_words = [\"desserts\", \"stressed\", \"live\", \"evil\", \"knits\", \"stink\", \"sports\", \"strops\",\n",
    "                 \"regal\", \"lager\", \"pupils\", \"slipup\", \"raw\", \"war\", \"pals\", \"slap\"]\n",
    "\n"
   ]
  },
  {
   "cell_type": "code",
   "execution_count": null,
   "metadata": {},
   "outputs": [],
   "source": [
    "#Note: You can check whether something is in a list the same way you do with a string\n",
    "#E.g.\n",
    "\"regal\" in reversal_words"
   ]
  },
  {
   "cell_type": "markdown",
   "metadata": {},
   "source": [
    "Remember, that if you ran the previous cell where the variable `reversal_words` was defined, you can refer to that list later in the notebook."
   ]
  },
  {
   "cell_type": "code",
   "execution_count": null,
   "metadata": {},
   "outputs": [],
   "source": [
    "reversal_words[3]"
   ]
  },
  {
   "cell_type": "markdown",
   "metadata": {},
   "source": [
    "Implement a routine with the following behavior:\n",
    "\n",
    "    The input word: knits\n",
    "    \n",
    "    This word remains a word when reversed!\n",
    "    The reversal of that word: stink"
   ]
  },
  {
   "cell_type": "code",
   "execution_count": null,
   "metadata": {},
   "outputs": [],
   "source": []
  },
  {
   "cell_type": "markdown",
   "metadata": {},
   "source": [
    "**Problem 3 (3 points).** Leap and non-leap years.\n",
    "\n",
    "    A year is leap year if it is divisible by 4 unless it is a century year (i.e. ends with 00). A century year is only leap when it is divisible by 400.\n",
    "    \n",
    "For this exercise, it would be convenient to use the modulo division operator `%`:"
   ]
  },
  {
   "cell_type": "code",
   "execution_count": null,
   "metadata": {},
   "outputs": [],
   "source": [
    "print(\"107 % 25 =\", 107 % 25)\n",
    "print(\"13 % 2 =\", 13 % 2)"
   ]
  },
  {
   "cell_type": "markdown",
   "metadata": {},
   "source": [
    "Write a code that tells you if the year provided by a user is a leap year or not."
   ]
  },
  {
   "cell_type": "code",
   "execution_count": null,
   "metadata": {},
   "outputs": [],
   "source": []
  },
  {
   "cell_type": "markdown",
   "metadata": {},
   "source": [
    "**Self Reflection**. Some things to consider: How well do you think you did? How much time did you spend on the homework? And how much time did you spend preparing for it (e.g. rereading the lecture notes)? How well do you feel you are retaining the concepts learned so far? What did you struggle with the most, and why do you think that is? \n",
    "\n",
    "**You can add your answer here by doble clicking on the markdown cell **"
   ]
  },
  {
   "cell_type": "code",
   "execution_count": null,
   "metadata": {},
   "outputs": [],
   "source": []
  }
 ],
 "metadata": {
  "kernelspec": {
   "display_name": "Python 3",
   "language": "python",
   "name": "python3"
  },
  "language_info": {
   "codemirror_mode": {
    "name": "ipython",
    "version": 3
   },
   "file_extension": ".py",
   "mimetype": "text/x-python",
   "name": "python",
   "nbconvert_exporter": "python",
   "pygments_lexer": "ipython3",
   "version": "3.8.5"
  }
 },
 "nbformat": 4,
 "nbformat_minor": 2
}
