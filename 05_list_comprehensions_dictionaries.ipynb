{
 "cells": [
  {
   "cell_type": "markdown",
   "metadata": {},
   "source": [
    "|<div style=\"text-align: right\">\n",
    "    <i>\n",
    "        LING 3300: Computers & Language <br>\n",
    "        Fall 2021 <br>\n",
    "        Aniello De Santo\n",
    "    </i>\n",
    "</div>\n",
    "\n",
    "# Notebook 5: list comprehensions and dictionaries\n",
    "\n",
    "This notebook shows a way to dynamically construct list by defining a _list comprehension_, and then introduces a new basic Python data type: dictionary.\n",
    "\n",
    "An optional advanced section introduces `map`."
   ]
  },
  {
   "cell_type": "markdown",
   "metadata": {},
   "source": [
    "## List comprehensions\n",
    "\n",
    "Let's say we have the following task. We are given a list of words:"
   ]
  },
  {
   "cell_type": "code",
   "execution_count": null,
   "metadata": {},
   "outputs": [],
   "source": [
    "words = [\"sky\", \"water\", \"air\", \"nature\", \"forest\", \"ice\"]"
   ]
  },
  {
   "cell_type": "markdown",
   "metadata": {},
   "source": [
    "We want to create a list where we will collect the length of the words from `words`. Using what we have learned about Python so far,a solution could look like the one below."
   ]
  },
  {
   "cell_type": "code",
   "execution_count": null,
   "metadata": {},
   "outputs": [],
   "source": [
    "lengths = []\n",
    "\n",
    "for w in words:\n",
    "    lengths.append(len(w))\n",
    "    \n",
    "print(lengths)"
   ]
  },
  {
   "cell_type": "markdown",
   "metadata": {},
   "source": [
    "How does this code work? We\n",
    "\n",
    "- Instantiate an empty list.\n",
    "- Loop over an iterable or range of elements.\n",
    "- Compute the length for each element and append it to the end of the list.\n"
   ]
  },
  {
   "cell_type": "markdown",
   "metadata": {},
   "source": [
    "### Basics of list comprehensions\n",
    "\n",
    "**List comprehensions** are a second, elegant way of dynamically constructing lists using a single line of code.\n",
    "Style wise, this approach is considered more \"Pythonic\",as it allows you to focus of the logic behind the new list and worry less about the way it is constructed.\n",
    "\n",
    "In the example above, we used the following code:\n",
    "\n",
    "    new_list = []\n",
    "    for item in some_iterable:\n",
    "      new_list.append(function(item))\n",
    "      \n",
    "Now, rather than creating an empty list and adding each element to the end, we can do:\n",
    "\n",
    "    \n",
    "    new_list = [expression for item in some_iterable]\n",
    "    \n",
    "This allows us to simply define the list and its contents at the same time."
   ]
  },
  {
   "cell_type": "code",
   "execution_count": null,
   "metadata": {},
   "outputs": [],
   "source": [
    "lengths = [len(w) for w in words]\n",
    "print(lengths)"
   ]
  },
  {
   "cell_type": "markdown",
   "metadata": {},
   "source": [
    "Every list comprehension in Python includes three elements:\n",
    "\n",
    "- the *expression* is the item itself, a call to a method, or any other valid expression that returns a value. In the example above, the expression `len(w)` gets you the length of each item.\n",
    "- the *item* is the object or value in the list or iterable. In the example above, the member value is `w`.\n",
    "- *some_iterable* is a list, set, sequence, generator, or any other object that can return its elements one at a time. In the example above, the iterable is the list `words`.\n",
    "\n",
    "Note the the requirements on how the expression is defined are very flexible.\n",
    "For instance, we can create a new list where every single word from the old list would be reversed."
   ]
  },
  {
   "cell_type": "code",
   "execution_count": null,
   "metadata": {},
   "outputs": [],
   "source": [
    "reversals = [w[::-1] for w in words]\n",
    "print(reversals)"
   ]
  },
  {
   "cell_type": "markdown",
   "metadata": {},
   "source": [
    "Or maybe you want to create a list where all letters in `words` are masked:"
   ]
  },
  {
   "cell_type": "code",
   "execution_count": null,
   "metadata": {},
   "outputs": [],
   "source": [
    "masked_words = [\"*\" * len(w) for w in words]\n",
    "print(masked_words)"
   ]
  },
  {
   "cell_type": "markdown",
   "metadata": {},
   "source": [
    "And, of course, it is possible to map all values of the variable `w` to something that does not depend on `w` at all:"
   ]
  },
  {
   "cell_type": "code",
   "execution_count": null,
   "metadata": {},
   "outputs": [],
   "source": [
    "masked_words_revisited = [\"WORD\" for w in words]\n",
    "print(masked_words_revisited)"
   ]
  },
  {
   "cell_type": "markdown",
   "metadata": {},
   "source": [
    "**Practice 1:** create a list containing the last letter of every word in `words`."
   ]
  },
  {
   "cell_type": "code",
   "execution_count": null,
   "metadata": {},
   "outputs": [],
   "source": []
  },
  {
   "cell_type": "markdown",
   "metadata": {},
   "source": [
    "**Practice 2:** You are given two lists: `words` and `new_indices`."
   ]
  },
  {
   "cell_type": "code",
   "execution_count": null,
   "metadata": {},
   "outputs": [],
   "source": [
    "words = [\"sky\", \"water\", \"air\", \"nature\", \"forest\", \"ice\"]\n",
    "new_indices = [3, 0, 5, 1, 2, 4]"
   ]
  },
  {
   "cell_type": "markdown",
   "metadata": {},
   "source": [
    "Write a list comprehension that would yield the following list:\n",
    "\n",
    "    ['nature', 'sky', 'ice', 'water', 'air', 'forest']"
   ]
  },
  {
   "cell_type": "code",
   "execution_count": null,
   "metadata": {},
   "outputs": [],
   "source": []
  },
  {
   "cell_type": "markdown",
   "metadata": {},
   "source": [
    "As mentioned, list comprehensions are also **more declarative** than loops, which means they’re easier to read and understand.\n",
    "Loops need you to focus on how the list is created. You have to manually create an empty list, loop over the elements, and add each of them to the end of the list. With a list comprehension in Python, you can instead focus on what you want to go in the list and trust that Python will take care of how the list construction takes place.\n",
    "\n",
    "To read more about the advantages of this technique, you can check out [this blog posts and references therein](https://towardsdatascience.com/python-basics-list-comprehensions-631278f22c40)."
   ]
  },
  {
   "cell_type": "markdown",
   "metadata": {},
   "source": [
    "### Adding conditions to list comprehensions\n",
    "\n",
    "So far the list comprehensions we wrote were using the following logic:\n",
    "  \n",
    "  1. consider an item from some iterable;\n",
    "  2. based on the value of item, create some new item;\n",
    "  3. add this new item to a new list.\n",
    "  \n",
    "However, comprehensions would be less useful if we couldn't add *conditionals* to the way the build lists.\n",
    "Consider now the following two lists: `swadesh` and `words`."
   ]
  },
  {
   "cell_type": "code",
   "execution_count": null,
   "metadata": {},
   "outputs": [],
   "source": [
    "swadesh = [\"fish\", \"bird\", \"dog\", \"house\", \"tree\", \"seed\"]\n",
    "words = [\"bird\", \"laptop\", \"puppy\", \"house\", \"seed\", \"Python\"]"
   ]
  },
  {
   "cell_type": "markdown",
   "metadata": {},
   "source": [
    "The task is to make a copy of `words` that will contain only the words that are also included in the Swadesh list."
   ]
  },
  {
   "cell_type": "code",
   "execution_count": null,
   "metadata": {},
   "outputs": [],
   "source": [
    "# Standard implementation Using Loops\n",
    "\n",
    "words_copy = []\n",
    "for w in words:\n",
    "    if w in swadesh:\n",
    "        words_copy.append(w)\n",
    "print(words_copy)"
   ]
  },
  {
   "cell_type": "markdown",
   "metadata": {},
   "source": [
    "It is also possible to do it using a list comprehension. The syntax will be the following:\n",
    "\n",
    "    new_list = [expression for item in some_iterable if condition]"
   ]
  },
  {
   "cell_type": "code",
   "execution_count": null,
   "metadata": {
    "scrolled": true
   },
   "outputs": [],
   "source": [
    "words_copy = [w for w in words if w in swadesh]\n",
    "print(words_copy)"
   ]
  },
  {
   "cell_type": "markdown",
   "metadata": {},
   "source": [
    "As with loops, conditionals are important as they allow us to filter out unwanted values."
   ]
  },
  {
   "cell_type": "markdown",
   "metadata": {},
   "source": [
    "**Practice.** Make a copy of the list `swadesh` that will only contain words that end with a vowel. If it helps, write the standard for loop first, and then write a version with a list comprehension."
   ]
  },
  {
   "cell_type": "code",
   "execution_count": null,
   "metadata": {},
   "outputs": [],
   "source": [
    "swadesh = [\"fish\", \"bird\", \"dog\", \"house\", \"tree\", \"seed\"]\n",
    "\n",
    "# your code"
   ]
  },
  {
   "cell_type": "markdown",
   "metadata": {},
   "source": [
    "### More complicated list comprehensions \n",
    "\n",
    "It is also possible to add `else` and a second `for` loop in list comprehensions. However, more \"overloaded\" the list comprehension is, less readable it is. \n",
    "However, consider the following examples of list comprehensions and their \"unfolded\" versions.\n",
    "\n",
    "**Example 1.** Make a copy of the list `words`. Leave the words unmasked if those words are included in the `swadesh` list, otherwise mask them as \"UNK\"."
   ]
  },
  {
   "cell_type": "code",
   "execution_count": null,
   "metadata": {},
   "outputs": [],
   "source": [
    "swadesh = [\"fish\", \"bird\", \"dog\", \"house\", \"tree\", \"seed\"]\n",
    "words = [\"bird\", \"laptop\", \"puppy\", \"house\", \"seed\", \"Python\"]"
   ]
  },
  {
   "cell_type": "markdown",
   "metadata": {},
   "source": [
    "**Solution 1**: No list comprehension:"
   ]
  },
  {
   "cell_type": "code",
   "execution_count": null,
   "metadata": {},
   "outputs": [],
   "source": [
    "words_1 = []\n",
    "for w in words:\n",
    "    if w in swadesh:\n",
    "        words_1.append(w)\n",
    "    else:\n",
    "        words_1.append(\"UNK\")\n",
    "print(words_1)"
   ]
  },
  {
   "cell_type": "markdown",
   "metadata": {},
   "source": [
    "**Solution 2**: With a list comprehension:"
   ]
  },
  {
   "cell_type": "code",
   "execution_count": null,
   "metadata": {},
   "outputs": [],
   "source": [
    "words_2 = [w if (w in swadesh) else \"UNK\" for w in words]\n",
    "print(words_2)"
   ]
  },
  {
   "cell_type": "markdown",
   "metadata": {},
   "source": [
    "In this case, the nested list comprehensions solution is arguably still more readable than the one using nested loops."
   ]
  },
  {
   "cell_type": "markdown",
   "metadata": {},
   "source": [
    "**Example 2.** Imagine we want to create a list of letters all letters from `words` while preserving their order."
   ]
  },
  {
   "cell_type": "code",
   "execution_count": null,
   "metadata": {},
   "outputs": [],
   "source": [
    "letters_1 = []\n",
    "for w in words:\n",
    "    for letter in w:\n",
    "        letters.append(letter)\n",
    "print(letters)"
   ]
  },
  {
   "cell_type": "markdown",
   "metadata": {},
   "source": [
    "It is also possible to do using a list comprehension:"
   ]
  },
  {
   "cell_type": "code",
   "execution_count": null,
   "metadata": {},
   "outputs": [],
   "source": [
    "letters_2 = [letter for w in words for letter in w]\n",
    "print(letters_2)"
   ]
  },
  {
   "cell_type": "markdown",
   "metadata": {},
   "source": [
    "Bonus way to get the same output:"
   ]
  },
  {
   "cell_type": "code",
   "execution_count": null,
   "metadata": {
    "scrolled": true
   },
   "outputs": [],
   "source": [
    "letters_3 = list(\"\".join(words))\n",
    "print(letters_3)"
   ]
  },
  {
   "cell_type": "markdown",
   "metadata": {},
   "source": [
    "## Dictionaries\n",
    "\n",
    "Ok, let's not take a (short) break from loops, and talk about an useful new data structure.\n",
    "\n",
    "Studying objects like strings and lists, we have learned to uniquely identify an item within an object _by its index_. However, in order to be able to access something by index, objects need to be ordered.\n",
    "\n",
    "When working with complex data though, it is sometimes useful to create objects that are not intrinsically ordered.\n",
    "However, we would still need to be able to uniquely refer to elements within such objects.\n",
    "A **Dictionary** is an unordered data type (`dict`) that associates every _value_ with its _key_.\n",
    "\n",
    "    dictionary = {key_1:value_1, key_2:value_2, ..., key_n:value_n}\n",
    "    \n",
    "Thus, we can uniquely identify elements within a dictionary (the values)  by their name (by key_).\n",
    "    \n",
    "### Requirements for keys and values\n",
    "\n",
    "-  The **keys** must be unique (of course, because they are used _instead_ of indices). The data type of the key must be _immutable_. **Immutable** objects cannot be modified directly after they are created. Remember how difficult it is to modify a string and how easy it is to modify a list? Strings are _immutable objects_, and lists are _mutable_.\n",
    "\n",
    "**Question** Why do yu think it is important to use *Immutable* objects as keys?\n",
    "\n",
    "- The **values** can be anything, and they can be repeated as well."
   ]
  },
  {
   "cell_type": "code",
   "execution_count": null,
   "metadata": {},
   "outputs": [],
   "source": [
    "int_keys = {37: \"hello\", 9: \"world\"}\n",
    "float_keys = {48.2: \"hello\", 3.0: \"world\"}\n",
    "string_keys = {\"hello\": \"world\", \"goodbye\": \"earth\"}\n",
    "bool_keys = {True: \"hello\", False: \"world\"}"
   ]
  },
  {
   "cell_type": "markdown",
   "metadata": {},
   "source": [
    "Lists are mutable, and therefore they cannot be used as keys. Note the error Python gives you: ` unhashable ` types are mutable (the can be changed once instantiated)."
   ]
  },
  {
   "cell_type": "code",
   "execution_count": 2,
   "metadata": {},
   "outputs": [
    {
     "ename": "TypeError",
     "evalue": "unhashable type: 'list'",
     "output_type": "error",
     "traceback": [
      "\u001b[0;31m----------------------------------------------------------------------\u001b[0m",
      "\u001b[0;31mTypeError\u001b[0m                            Traceback (most recent call last)",
      "\u001b[0;32m<ipython-input-2-120b23818804>\u001b[0m in \u001b[0;36m<module>\u001b[0;34m\u001b[0m\n\u001b[0;32m----> 1\u001b[0;31m \u001b[0mlist_keys\u001b[0m \u001b[0;34m=\u001b[0m \u001b[0;34m{\u001b[0m\u001b[0;34m[\u001b[0m\u001b[0;36m1\u001b[0m\u001b[0;34m,\u001b[0m \u001b[0;36m2\u001b[0m\u001b[0;34m]\u001b[0m\u001b[0;34m:\u001b[0m \u001b[0;34m\"Hello\"\u001b[0m\u001b[0;34m}\u001b[0m\u001b[0;34m\u001b[0m\u001b[0;34m\u001b[0m\u001b[0m\n\u001b[0m",
      "\u001b[0;31mTypeError\u001b[0m: unhashable type: 'list'"
     ]
    }
   ],
   "source": [
    "list_keys = {[1, 2]: \"Hello\"}"
   ]
  },
  {
   "cell_type": "markdown",
   "metadata": {},
   "source": [
    "But they can be easily used as values."
   ]
  },
  {
   "cell_type": "code",
   "execution_count": 1,
   "metadata": {},
   "outputs": [],
   "source": [
    "list_val = {\"list1\": [1, 2]}"
   ]
  },
  {
   "cell_type": "markdown",
   "metadata": {},
   "source": [
    "As we learned earlier, keys must be _unique_. If several different dictionary items are defined with the same key, only the item that was mentioned the last will be included in the dictionary.\n",
    "\n",
    "**Warning** This means that if you instatiate a dictionary with duplicate keys, Python will not raise an error. But your code will not work as expected."
   ]
  },
  {
   "cell_type": "code",
   "execution_count": 3,
   "metadata": {},
   "outputs": [
    {
     "name": "stdout",
     "output_type": "stream",
     "text": [
      "{42: 'again', 0: 'world'}\n"
     ]
    }
   ],
   "source": [
    "int_keys = {42: \"hello\", 0: \"world\", 42: \"again\"}\n",
    "print(int_keys)"
   ]
  },
  {
   "cell_type": "markdown",
   "metadata": {},
   "source": [
    "**Question:** what is the maximal size of a dictionary where all the keys are of the type `bool`?"
   ]
  },
  {
   "cell_type": "markdown",
   "metadata": {},
   "source": [
    "**A Case Study: A Dictionary with ISO 639 language codes**\n",
    "\n",
    "Consider the following dictionary with some of the [ISO 639](https://en.wikipedia.org/wiki/List_of_ISO_639-1_codes) codes of languages."
   ]
  },
  {
   "cell_type": "code",
   "execution_count": null,
   "metadata": {},
   "outputs": [],
   "source": [
    "iso_639 = {'ny': ['Chichewa', 'Chewa', 'Nyanja'], \n",
    "           'zh': ['Chinese'], \n",
    "           'cs': ['Czech'], \n",
    "           'da': ['Danish'], \n",
    "           'dv': ['Divehi', 'Maldivian']}"
   ]
  },
  {
   "cell_type": "markdown",
   "metadata": {},
   "source": [
    "Values can be accessed by keys in the same way as we were accessing them by indices before:"
   ]
  },
  {
   "cell_type": "code",
   "execution_count": null,
   "metadata": {},
   "outputs": [],
   "source": [
    "print(\"The value of \\\"ny\\\" is\", iso_639[\"ny\"])\n",
    "print(\"The value of \\\"da\\\" is\", iso_639[\"da\"])"
   ]
  },
  {
   "cell_type": "markdown",
   "metadata": {},
   "source": [
    "**Question.** How to access the string \"Chewa\"?"
   ]
  },
  {
   "cell_type": "code",
   "execution_count": null,
   "metadata": {},
   "outputs": [],
   "source": []
  },
  {
   "cell_type": "markdown",
   "metadata": {},
   "source": [
    "Adding a new item to the dictionary is extremely easy.\n",
    "    \n",
    "    dictionary[new_key] = new_value"
   ]
  },
  {
   "cell_type": "code",
   "execution_count": 4,
   "metadata": {},
   "outputs": [
    {
     "ename": "NameError",
     "evalue": "name 'iso_639' is not defined",
     "output_type": "error",
     "traceback": [
      "\u001b[0;31m----------------------------------------------------------------------\u001b[0m",
      "\u001b[0;31mNameError\u001b[0m                            Traceback (most recent call last)",
      "\u001b[0;32m<ipython-input-4-f34a208be404>\u001b[0m in \u001b[0;36m<module>\u001b[0;34m\u001b[0m\n\u001b[0;32m----> 1\u001b[0;31m \u001b[0miso_639\u001b[0m\u001b[0;34m[\u001b[0m\u001b[0;34m\"ru\"\u001b[0m\u001b[0;34m]\u001b[0m \u001b[0;34m=\u001b[0m \u001b[0;34m[\u001b[0m\u001b[0;34m\"Russian\"\u001b[0m\u001b[0;34m]\u001b[0m\u001b[0;34m\u001b[0m\u001b[0;34m\u001b[0m\u001b[0m\n\u001b[0m\u001b[1;32m      2\u001b[0m \u001b[0mprint\u001b[0m\u001b[0;34m(\u001b[0m\u001b[0miso_639\u001b[0m\u001b[0;34m)\u001b[0m\u001b[0;34m\u001b[0m\u001b[0;34m\u001b[0m\u001b[0m\n",
      "\u001b[0;31mNameError\u001b[0m: name 'iso_639' is not defined"
     ]
    }
   ],
   "source": [
    "iso_639[\"ru\"] = [\"Russian\"]\n",
    "print(iso_639)"
   ]
  },
  {
   "cell_type": "markdown",
   "metadata": {},
   "source": [
    "### Iterating over dictionaries\n",
    "\n",
    "Dictionaries can be iterated over. But the thing to be beware of is that iterating over the dictionary actually **iterates over the keys**."
   ]
  },
  {
   "cell_type": "code",
   "execution_count": null,
   "metadata": {},
   "outputs": [],
   "source": [
    "for language in iso_639:\n",
    "    print(language, end=\" \")"
   ]
  },
  {
   "cell_type": "markdown",
   "metadata": {},
   "source": [
    "**Practice.** Modify the for loop above so that it produces the following output:\n",
    "\n",
    "    ny -> ['Chichewa', 'Chewa', 'Nyanja']\n",
    "    zh -> ['Chinese']\n",
    "    cs -> ['Czech']\n",
    "    da -> ['Danish']\n",
    "    dv -> ['Divehi', 'Maldivian']\n",
    "    ru -> ['Russian']"
   ]
  },
  {
   "cell_type": "code",
   "execution_count": null,
   "metadata": {},
   "outputs": [],
   "source": [
    "#write your code here"
   ]
  },
  {
   "cell_type": "markdown",
   "metadata": {},
   "source": [
    "One way to iterate over the `key:value` pairs is to apply `.items()` method to the dictionary.\n",
    "That method extracts each `key:value` pair as a single element, by turning them into a _tuple_. (Remember `zip` and `enumerate`? Tuples are basically _immutable_ versions of lists.)"
   ]
  },
  {
   "cell_type": "code",
   "execution_count": null,
   "metadata": {},
   "outputs": [],
   "source": [
    "for pair in iso_639.items():\n",
    "    print(\"Pair:\", pair)\n",
    "    print(\"Key:\", pair[0])\n",
    "    print(\"Value:\", pair[1], \"\\n\")"
   ]
  },
  {
   "cell_type": "markdown",
   "metadata": {},
   "source": [
    "### Methods defined for dictionaries\n",
    "\n",
    "As for lists and strings, there are many useful methods associated to dictionaries.\n",
    "This section of the notebooks exemplifies a few important ones.\n",
    "\n",
    "  * method `.keys()` returns a collection of keys;\n",
    "  * method `.values()` returns a collection of values;\n",
    "  * method `.clear()` removes all items from a dictionary;\n",
    "  * operator `del` deletes an item by its key.\n",
    "  \n",
    "Click on [this link](https://www.programiz.com/python-programming/methods/dictionary) if you want to learn more.\n",
    "Consider now the following dictionary:"
   ]
  },
  {
   "cell_type": "code",
   "execution_count": null,
   "metadata": {},
   "outputs": [],
   "source": [
    "zip_codes = {\"Stony Brook\": [11733, 11790, 11794],\n",
    "             \"Port Jefferson\": [11777],\n",
    "             \"Lake Grove\": [11755, 11790]\n",
    "            }"
   ]
  },
  {
   "cell_type": "markdown",
   "metadata": {},
   "source": [
    "First of all, it is possible to separate a dictionary into independent collections of keys and list of values.\n",
    "The method `.keys()` returns a collection of keys from a dictionary, and it can easily be typecasted into a list."
   ]
  },
  {
   "cell_type": "code",
   "execution_count": null,
   "metadata": {},
   "outputs": [],
   "source": [
    "print(\"Keys:            \", zip_codes.keys())\n",
    "print(\"Keys (as a list):\", list(zip_codes.keys()))"
   ]
  },
  {
   "cell_type": "markdown",
   "metadata": {},
   "source": [
    "The method `.values()` returns a collection of values, and it also can easily be typecasted into a list."
   ]
  },
  {
   "cell_type": "code",
   "execution_count": null,
   "metadata": {},
   "outputs": [],
   "source": [
    "print(\"Values:            \", zip_codes.values())\n",
    "print(\"Values (as a list):\", list(zip_codes.values()))"
   ]
  },
  {
   "cell_type": "markdown",
   "metadata": {},
   "source": [
    "**Practice 1.** Create a list of keys in `zip_codes` using a list comprehension."
   ]
  },
  {
   "cell_type": "code",
   "execution_count": null,
   "metadata": {},
   "outputs": [],
   "source": []
  },
  {
   "cell_type": "markdown",
   "metadata": {},
   "source": [
    "**Practice 2.** Now create a list of values in `zip_codes` using a list comprehension."
   ]
  },
  {
   "cell_type": "code",
   "execution_count": null,
   "metadata": {},
   "outputs": [],
   "source": []
  },
  {
   "cell_type": "markdown",
   "metadata": {},
   "source": [
    "Similarly to lists, the operator `del` removes an item from a dictionary.\n",
    "\n",
    "When we were looking at the list methods, we saw the `del` deletes an item by its index. Dictionary items do not have indices, but they have keys, so `del` deletes an object from a dictionary _by key_."
   ]
  },
  {
   "cell_type": "code",
   "execution_count": null,
   "metadata": {},
   "outputs": [],
   "source": [
    "del zip_codes[\"Stony Brook\"]\n",
    "print(zip_codes)"
   ]
  },
  {
   "cell_type": "markdown",
   "metadata": {},
   "source": [
    "Finally, `.clear()` completely wipes the dictionary:"
   ]
  },
  {
   "cell_type": "code",
   "execution_count": null,
   "metadata": {
    "scrolled": true
   },
   "outputs": [],
   "source": [
    "zip_codes.clear()\n",
    "print(zip_codes)"
   ]
  },
  {
   "cell_type": "markdown",
   "metadata": {},
   "source": [
    "**Example.** Let's look at a practicl example of how to use dictionaries. We are given lists `fruits` and `prices`."
   ]
  },
  {
   "cell_type": "code",
   "execution_count": null,
   "metadata": {},
   "outputs": [],
   "source": [
    "fruits = [\"banana\", \"apple\", \"apple\", \"peach\", \"kiwi\", \"kiwi\", \"kiwi\"]\n",
    "prices = [\"$1.20\", \"$0.87\", \"$0.48\", \"$2.9\", \"$0.93\", \"$1.48\", \"$1.05\"]"
   ]
  },
  {
   "cell_type": "markdown",
   "metadata": {},
   "source": [
    "It means that the only observed price of a banana is $\\$1.20$. In different stores, apples cost $\\$0.87$ and $\\$0.48$, and so on. We want to create a dictionary that will store all the prices in the following way:\n",
    "\n",
    "    {'banana': ['$1.20'], 'apple': ['$0.87', '$0.48'], 'peach': ['$2.9'], 'kiwi': ['$0.93', '$1.48', '$1.05']}"
   ]
  },
  {
   "cell_type": "code",
   "execution_count": null,
   "metadata": {},
   "outputs": [],
   "source": [
    "fruit_prices = {}\n",
    "for i in range(len(fruits)):\n",
    "    if fruits[i] not in fruit_prices:\n",
    "        fruit_prices[fruits[i]] = [prices[i]]\n",
    "    else:\n",
    "        fruit_prices[fruits[i]].append(prices[i])\n",
    "print(fruit_prices)"
   ]
  },
  {
   "cell_type": "markdown",
   "metadata": {},
   "source": [
    "**Practice.** An easy way to calculate a sum of all numbers before a certain integer (excluding that integer) is the following one:"
   ]
  },
  {
   "cell_type": "code",
   "execution_count": null,
   "metadata": {},
   "outputs": [],
   "source": [
    "a = 8\n",
    "print(\"1 + 2 + 3 + 4 + 5 + 6 + 7 =\", sum(range(a)))\n",
    "\n",
    "b = 16\n",
    "print(\"1 + 2 + 3 + ... + 14 + 15 =\", sum(range(b)))"
   ]
  },
  {
   "cell_type": "markdown",
   "metadata": {},
   "source": [
    "Create a dictionary where keys will be natural numbers from $1$ to $10$. For every key $n$, its value is the sum of all numbers from $0$ up to $n-1$.\n",
    "\n",
    "    sums = {1: 0, 2: 1, 3: 3, 4: 6, 5: 10, 6: 15, 7: 21, 8: 28, 9: 36, 10: 45}"
   ]
  },
  {
   "cell_type": "code",
   "execution_count": null,
   "metadata": {},
   "outputs": [],
   "source": []
  },
  {
   "cell_type": "markdown",
   "metadata": {},
   "source": [
    "## A Special Dictionary: `Counter`\n",
    "\n",
    "When working with langauge data, it will often be useful to be able to count objects (words, phonemes, etc.). \n",
    "For example, consider the list below:"
   ]
  },
  {
   "cell_type": "code",
   "execution_count": null,
   "metadata": {},
   "outputs": [],
   "source": [
    "words = [\"apple\", \"banana\", \"apple\", \"kiwi\",\"apple\", \"orange\", \"kiwi\"]"
   ]
  },
  {
   "cell_type": "markdown",
   "metadata": {},
   "source": [
    "Given what we have studied so far, you should be able to write a simple for loop, creating a dictionary where each individual word type is a key, having as value the number of tokes in the list. Practice writing a code for this below."
   ]
  },
  {
   "cell_type": "code",
   "execution_count": null,
   "metadata": {},
   "outputs": [],
   "source": [
    "# Write your code here"
   ]
  },
  {
   "cell_type": "markdown",
   "metadata": {},
   "source": [
    "Counting plays a fundamental role in many applications based on frequencies, and it's therefore ubiquitous in language technology. Let's see another example."
   ]
  },
  {
   "cell_type": "code",
   "execution_count": 3,
   "metadata": {},
   "outputs": [
    {
     "name": "stdout",
     "output_type": "stream",
     "text": [
      "{'m': 1, 'i': 4, 's': 4, 'p': 2}\n"
     ]
    }
   ],
   "source": [
    "word = \"mississippi\"\n",
    "counter = {}\n",
    "\n",
    "for letter in word:\n",
    "     if letter not in counter:\n",
    "         counter[letter] = 0\n",
    "     counter[letter] += 1\n",
    "\n",
    "\n",
    "print(counter)"
   ]
  },
  {
   "cell_type": "markdown",
   "metadata": {},
   "source": [
    "Counting several repeated objects at once is a common problem in programming. \n",
    "It seems then a bit tedious that we have to reimplement a counting mechanism every time.\n",
    "\n",
    "Luckily for us, Python offers a special data type, the 'Counter': this is a sublclass of a standard 'dictionary' which provides a clean and efficient solution to the counting problem.\n",
    "In order to use 'Counter' and its functionalities, we need to import it from 'collections'.\n",
    "Let's see how we can use it to solve the problem above."
   ]
  },
  {
   "cell_type": "code",
   "execution_count": 1,
   "metadata": {},
   "outputs": [
    {
     "name": "stdout",
     "output_type": "stream",
     "text": [
      "Counter({'i': 4, 's': 4, 'p': 2, 'm': 1})\n"
     ]
    }
   ],
   "source": [
    "from collections import Counter\n",
    "\n",
    "# Use a string as an argument\n",
    "count = Counter(\"mississippi\")\n",
    "print(count)"
   ]
  },
  {
   "cell_type": "markdown",
   "metadata": {},
   "source": [
    "Strings are not the only possible input for 'Counters'."
   ]
  },
  {
   "cell_type": "code",
   "execution_count": 2,
   "metadata": {},
   "outputs": [
    {
     "name": "stdout",
     "output_type": "stream",
     "text": [
      "Counter({'i': 4, 's': 4, 'p': 2, 'm': 1})\n"
     ]
    }
   ],
   "source": [
    "# Use a list as an argument\n",
    "count = Counter(list(\"mississippi\"))\n",
    "print(count)"
   ]
  },
  {
   "cell_type": "markdown",
   "metadata": {},
   "source": [
    "**Practice.** Can you use a counter to get a dictionary with word counts from the string 'text' given below?"
   ]
  },
  {
   "cell_type": "code",
   "execution_count": 4,
   "metadata": {},
   "outputs": [],
   "source": [
    "text = \"It was dark, like the bottom of a well. There was a pattern of skulls and bones around \\\n",
    "the frame, for the sake of appearances; Death could not look himself in the skull in a mirror \\\n",
    "with cherubs and roses around it. The Death of Rats climbed the frame in a scrabble of claws and \\\n",
    "looked at Death expectantly from the top. Quoth fluttered over and pecked briefly at his own \\\n",
    "reflection, on the basis that anything was worth a try. Show me, said Death, show me my thoughts. \\\n",
    "A chessboard appeared, but it was triangular, and so big that only the nearest point could be seen. \\\n",
    "Right on this point was the world - turtle, elephants, the little orbiting sun and all. It was the \\\n",
    "Discworld, which existed only just this side of total improbability and, therefore, in border country. \\\n",
    "In border country the border gets crossed, and sometimes things creep into the universe that have \\\n",
    "rather more on their mind than a better life for their children and a wonderful future in the \\\n",
    "fruit picking and domestic service industries. On every other black or white triangle of the \\\n",
    "chessboard, all the way to infinity, was a small grey shape, rather like an empty hooded robe.\"\n",
    "\n",
    "# Put yoru code here"
   ]
  },
  {
   "cell_type": "markdown",
   "metadata": {},
   "source": [
    "Counters are powerful and useful objects. We will use them a lot as we go on. For now, keep in mind that they exist and that they inherit most of the core functionalities of standard dictionaries."
   ]
  },
  {
   "cell_type": "markdown",
   "metadata": {},
   "source": [
    "## (Optional) Extra unit: Creating lists with `map`\n",
    "\n",
    "`map` is a third way to create lists, similalry to loops and list comprehensions.\n",
    "The idea is to \"map\" every single item of a given iterable to a new value. \n",
    "    \n",
    "    new_iterable = map(expression, old_iterable)\n",
    "    \n",
    "The parameter `expression` represents any function such as `len`, `sum`, `range`, or others. `map` creates a _map_ object that can be easily converted to a list. (You can also use your own customized functions, as we will learn in a few weeks!)"
   ]
  },
  {
   "cell_type": "code",
   "execution_count": null,
   "metadata": {},
   "outputs": [],
   "source": [
    "lengths = map(len, words)\n",
    "print(\"Map object:\", lengths)\n",
    "print(\"Map object:\", list(lengths))"
   ]
  },
  {
   "cell_type": "markdown",
   "metadata": {},
   "source": [
    "**A very advanced question:** You are given the `initial_range`."
   ]
  },
  {
   "cell_type": "code",
   "execution_count": 1,
   "metadata": {},
   "outputs": [
    {
     "name": "stdout",
     "output_type": "stream",
     "text": [
      "[0, 1, 2, 3, 4, 5, 6, 7, 8, 9, 10, 11]\n"
     ]
    }
   ],
   "source": [
    "initial_range = list(range(12))\n",
    "print(initial_range)"
   ]
  },
  {
   "cell_type": "markdown",
   "metadata": {},
   "source": [
    "Find a way to create the following list (the shape of the representation doesn't matter):\n",
    "\n",
    "        [[],\n",
    "         [0],\n",
    "         [0, 1],\n",
    "         [0, 1, 2],\n",
    "         [0, 1, 2, 3],\n",
    "         [0, 1, 2, 3, 4],\n",
    "         [0, 1, 2, 3, 4, 5],\n",
    "         [0, 1, 2, 3, 4, 5, 6],\n",
    "         [0, 1, 2, 3, 4, 5, 6, 7],\n",
    "         [0, 1, 2, 3, 4, 5, 6, 7, 8],\n",
    "         [0, 1, 2, 3, 4, 5, 6, 7, 8, 9],\n",
    "         [0, 1, 2, 3, 4, 5, 6, 7, 8, 9, 10]]\n",
    "         \n",
    "You might need to use `map` twice!"
   ]
  },
  {
   "cell_type": "code",
   "execution_count": 3,
   "metadata": {},
   "outputs": [
    {
     "name": "stdout",
     "output_type": "stream",
     "text": [
      "<map object at 0x7fced9e50640>\n"
     ]
    }
   ],
   "source": [
    "x =  map(list, range(12))\n",
    "print(x)"
   ]
  },
  {
   "cell_type": "markdown",
   "metadata": {},
   "source": [
    "# Homework 4\n",
    "\n",
    "\n",
    "Self reflection is worth 3 points and is mandatory. Passing the homework requires a minimum of 10 points.\n",
    "\n",
    "Upload your modified notebook on Canvas, adding your name to the existing file name (e.g. 05_list_comprehensions_dictionaries_Aniello.ipynb).\n",
    "\n",
    "**Be careful:**\n",
    "\n",
    "    - The file extension needs to be .ipynb! Do not change that"
   ]
  },
  {
   "cell_type": "markdown",
   "metadata": {},
   "source": [
    "**Problem 1. (6 points - 2pt/subproblem)** Below you will find several codes that build lists. Rewrite these codes using list comprehensions.\n",
    "\n",
    "**Subproblem A.** No list comprehension:"
   ]
  },
  {
   "cell_type": "code",
   "execution_count": null,
   "metadata": {},
   "outputs": [],
   "source": [
    "words = [\"apple\", \"banana\", \"kiwi\", \"orange\"]\n",
    "masked_words = []\n",
    "\n",
    "for w in words:\n",
    "    masked_words.append(\"UNK\")\n",
    "    \n",
    "print(masked_words)"
   ]
  },
  {
   "cell_type": "markdown",
   "metadata": {},
   "source": [
    "List comprehension:"
   ]
  },
  {
   "cell_type": "code",
   "execution_count": null,
   "metadata": {},
   "outputs": [],
   "source": [
    "# your code"
   ]
  },
  {
   "cell_type": "markdown",
   "metadata": {},
   "source": [
    "**Subproblem B.** No list comprehension:"
   ]
  },
  {
   "cell_type": "code",
   "execution_count": null,
   "metadata": {},
   "outputs": [],
   "source": [
    "names = [\"andrew\", \"Mary\", \"jimmy\", \"Noam\"]\n",
    "title_names = []\n",
    "\n",
    "for name in names:\n",
    "    if name.istitle():\n",
    "        title_names.append(name)\n",
    "        \n",
    "print(title_names)"
   ]
  },
  {
   "cell_type": "markdown",
   "metadata": {},
   "source": [
    "List comprehension:"
   ]
  },
  {
   "cell_type": "code",
   "execution_count": null,
   "metadata": {},
   "outputs": [],
   "source": [
    "# your code"
   ]
  },
  {
   "cell_type": "markdown",
   "metadata": {},
   "source": [
    "**Subproblem C.** No list comprehension:"
   ]
  },
  {
   "cell_type": "code",
   "execution_count": null,
   "metadata": {},
   "outputs": [],
   "source": [
    "numbers = range(30)\n",
    "even = []\n",
    "\n",
    "for i in numbers:\n",
    "    if i % 2 == 0:\n",
    "        even.append(i)\n",
    "        \n",
    "print(even)"
   ]
  },
  {
   "cell_type": "markdown",
   "metadata": {},
   "source": [
    "List comprenension:"
   ]
  },
  {
   "cell_type": "code",
   "execution_count": null,
   "metadata": {},
   "outputs": [],
   "source": [
    "# your code"
   ]
  },
  {
   "cell_type": "markdown",
   "metadata": {},
   "source": [
    "**Problem 2. (4 points)** You are given the following lists: `text` and `words`."
   ]
  },
  {
   "cell_type": "code",
   "execution_count": null,
   "metadata": {},
   "outputs": [],
   "source": [
    "text = ['a', 'infinity', 'reflection', 'with', 'like', 'big', 'briefly', 'into', 'children', 'which', \n",
    "        'fruit', 'picking', 'there', 'try', 'little', 'around', 'appearances', 'appeared', 'all', \n",
    "        'crossed', 'basis', 'improbability', 'their', 'discworld', 'black', 'to', 'death', 'future', \n",
    "        'only', 'my', 'robe', 'things', 'for', 'it', 'existed', 'said', 'sake', 'sometimes', 'right', \n",
    "        'way', 'that', 'country', 'chessboard', 'quoth', 'well', 'domestic', 'skull', 'wonderful', \n",
    "        'hooded', 'or', 'empty', 'bottom', 'mirror', 'himself', 'rather', 'over', 'every', 'triangle', \n",
    "        'roses', 'border', 'orbiting', 'was', 'from', 'show', 'be', 'pecked', 'bones', 'just', 'universe', \n",
    "        'me', 'triangular', 'gets', 'worth', 'have', 'climbed', 'service', 'fluttered', 'top', 'but', \n",
    "        'grey', 'claws', 'at', 'rats', 'creep', 'own', 'pattern', 'point', 'white', 'than', 'dark', \n",
    "        'therefore', 'frame', 'this', 'not', 'the', 'could', 'mind', 'turtle', 'scrabble', 'better', \n",
    "        'industries', 'looked', 'an', 'cherubs', 'life', 'anything', 'more', 'small', 'and', 'of', 'his', \n",
    "        'on', 'skulls', 'elephants', 'in', 'thoughts', 'seen', 'nearest', 'expectantly', 'other', 'side', \n",
    "        'shape', 'total', 'so', 'world', 'look', 'sun']\n",
    "\n",
    "words = [\"shape\", \"linguistics\", \"every\", \"even\", \"world\", \"chessboard\", \"water\", \"sake\"]"
   ]
  },
  {
   "cell_type": "markdown",
   "metadata": {},
   "source": [
    "Create a dicionary where words from the list `words` are the keys, and their values are `True` or `False` depending on these words being present in `text` or not. Expected output:\n",
    "    \n",
    "    {'shape': True, 'lingusitics': False, 'every': True, 'even': False, 'world': True, \n",
    "     'chessboard': True, 'water': False, 'sake': True}"
   ]
  },
  {
   "cell_type": "code",
   "execution_count": null,
   "metadata": {},
   "outputs": [],
   "source": []
  },
  {
   "cell_type": "markdown",
   "metadata": {},
   "source": [
    "**Problem 3. (2 points)** You are given the following list of numbers:"
   ]
  },
  {
   "cell_type": "code",
   "execution_count": null,
   "metadata": {},
   "outputs": [],
   "source": [
    "numbers = [1, 2, 3, 4, 5]"
   ]
  },
  {
   "cell_type": "markdown",
   "metadata": {},
   "source": [
    "Find a way to get the following output:\n",
    "\n",
    "    [2.0, 1.5, 1.3333333333333333, 1.25]\n",
    "    \n",
    "Notice, that $2 / 1 = 2$, $3 / 2 = 1.5$, and so on. Use a list comprehension if you can."
   ]
  },
  {
   "cell_type": "code",
   "execution_count": null,
   "metadata": {},
   "outputs": [],
   "source": []
  },
  {
   "cell_type": "markdown",
   "metadata": {},
   "source": [
    "**Self Reflection**. Some things to consider: How well do you think you did? How much time did you spend on the homework? And how much time did you spend preparing for it (e.g. rereading the lecture notes)? How well do you feel you are retaining the concepts learned so far? What did you struggle with the most, and why do you think that is? \n",
    "\n",
    "**You can add your answer here by doble clicking on the markdown cell **"
   ]
  }
 ],
 "metadata": {
  "kernelspec": {
   "display_name": "Python 3",
   "language": "python",
   "name": "python3"
  },
  "language_info": {
   "codemirror_mode": {
    "name": "ipython",
    "version": 3
   },
   "file_extension": ".py",
   "mimetype": "text/x-python",
   "name": "python",
   "nbconvert_exporter": "python",
   "pygments_lexer": "ipython3",
   "version": "3.8.5"
  }
 },
 "nbformat": 4,
 "nbformat_minor": 2
}
