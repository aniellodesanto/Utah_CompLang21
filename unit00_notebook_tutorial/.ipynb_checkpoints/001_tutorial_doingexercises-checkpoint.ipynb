{
 "cells": [
  {
   "cell_type": "markdown",
   "metadata": {},
   "source": [
    "# Congratulations!\n",
    "\n",
    "You have successfully loaded a Python notebook.\n",
    "Click on the cell below and press the *Run* button on the left of the cell to execute the Python code."
   ]
  },
  {
   "cell_type": "code",
   "execution_count": null,
   "metadata": {},
   "outputs": [],
   "source": [
    "print(\"Your Python setup is working correctly!\")"
   ]
  },
  {
   "cell_type": "markdown",
   "metadata": {},
   "source": [
    "# Learning about Python notebooks\n",
    "\n",
    "Before you can start to learn about Python, you have to master the usage of Python notebooks.\n",
    "Don't worry, it's very easy and will be like second nature to you after a week or two.\n",
    "This notebook covers everything you need to know to get going."
   ]
  },
  {
   "cell_type": "markdown",
   "metadata": {},
   "source": [
    "## What is a Python notebook, and why do we use it?\n",
    "\n",
    "A Python notebook is very different from the environments professional programmers use to develop software.\n",
    "It is more like a scratch pad where code can be interwoven with normal text, images, links to videos, and so on.\n",
    "While a programmer would rarely need those things, they are very useful for a beginner who is still learning the ropes.\n",
    "For this course, you can think of the notebooks as chapters of a highly interactive textbook.\n",
    "Any code in this \"textbook\" can be run to see what it does.\n",
    "And you can add your own code to run it.\n",
    "That's the really cool thing about Python notebooks.\n",
    "It's as if you could scribble your code directly on the pages of a textbook and run it right there.\n",
    "\n",
    "## How will notebooks be used in this course?\n",
    "\n",
    "The notebooks are both your **primary Python reference** and **your Python homeworks**.\n",
    "Each notebook contains a number of exercises.\n",
    "For each exercise, you write down your answer right below it in the notebook and then save the notebook.\n",
    "That's it.\n",
    "\n",
    "\n",
    "Importantly, instead of running Python locally on your computers, we will be using Google Colab.\n",
    "As you are reading this, you should have got the general gist of how Colab works. But if you want, you can check out this short introductory video (if you don't see the youtube window, run the cell below with Python code)."
   ]
  },
  {
   "cell_type": "code",
   "execution_count": 1,
   "metadata": {},
   "outputs": [
    {
     "data": {
      "text/html": [
       "\n",
       "        <iframe\n",
       "            width=\"700\"\n",
       "            height=\"350\"\n",
       "            src=\"https://www.youtube.com/embed/inN8seMm7UI\"\n",
       "            frameborder=\"0\"\n",
       "            allowfullscreen\n",
       "        ></iframe>\n",
       "        "
      ],
      "text/plain": [
       "<IPython.lib.display.IFrame at 0x7fc58e729fd0>"
      ]
     },
     "execution_count": 1,
     "metadata": {},
     "output_type": "execute_result"
    }
   ],
   "source": [
    "from IPython.display import IFrame\n",
    "IFrame('https://www.youtube.com/embed/inN8seMm7UI', width=700, height=350)"
   ]
  },
  {
   "cell_type": "markdown",
   "metadata": {},
   "source": [
    "Since we are using Colab, all your files are saved authomatically in the cloud. \n",
    "I still recommend that you manually save before closing the notebook, just to be sure nothing is lost.\n",
    "You can also create copies of your notebook, if you want to be creative and experiment without losing some finished solution.\n",
    "\n",
    "Once you are done with an assignment, you can download your finished product and email it to me.\n",
    "You just write your answers directly into the notebook, save it, and submit via email.\n",
    "\n",
    "\n",
    "## How exactly does this work?\n",
    "\n",
    "Here's a very simple example, which also happpens to be your first exercise."
   ]
  },
  {
   "cell_type": "markdown",
   "metadata": {},
   "source": [
    "**Exercise.**\n",
    "The cell below contains a short piece of Python code. Do not worry about udnerstanding the code! We are justy practicing the environment.\n",
    "\n",
    "Click on the cell to highlight it, then run it to see the output.\n",
    "If you are in Colab, you can run a cell by clicking on the *RUN* icon left of the code, or with the keyboard combination *shift* + *return*.\n",
    "\n",
    "Now click it again, move the blinking cursor to the line with `x = 5`, and change the value from 5 to 10.\n",
    "Run the cell again to see the new output."
   ]
  },
  {
   "cell_type": "code",
   "execution_count": null,
   "metadata": {},
   "outputs": [],
   "source": [
    "x = 5\n",
    "print(x*2 + 1)"
   ]
  },
  {
   "cell_type": "markdown",
   "metadata": {},
   "source": [
    "If you've done everything correctly, you should now see 21 under the code cell.\n",
    "At this point, save your progress by clicking on save under the File drop down menu."
   ]
  },
  {
   "cell_type": "markdown",
   "metadata": {},
   "source": [
    "Some exercises do not involve any Python code, instead you have to write down your answer in plain English.\n",
    "For these exercises, you have to edit a text cell (like the one you're currently reading).\n",
    "The process is pretty much exactly the same, except that you have to double-click a text cell to edit it (on Cocalc, you can also push the edit button next to it).\n",
    "Guess what's your next exercise?"
   ]
  },
  {
   "cell_type": "markdown",
   "metadata": {},
   "source": [
    "**Exercise.**\n",
    "Double click the text cell below to make it editable.\n",
    "Enter a short piece of text of your choice (a particularly creative one might brighten the day of your Instructor).\n",
    "Then run the cell like a code cell, and observe how it now looks a lot nicer now.\n",
    "Don't forget to save your notebook."
   ]
  },
  {
   "cell_type": "markdown",
   "metadata": {},
   "source": [
    "*Replace this text by your own message*"
   ]
  },
  {
   "cell_type": "markdown",
   "metadata": {},
   "source": [
    "**First Submission (due Tuesday August 25, 11.59pm)** Now that you are done, try to submit this as an assignment. Download the notebook on your computer: go to File, and select *Download .pynb*. I suggest saving all your local files in the same folder, for  your records. Then, send me the resulting .pynb file via email, putting *LING 5981/6080, HW 0* in the subjectof your email.\n",
    "\n",
    "Note: this won't be graded. I just need to make sure we are all on the same page re: accessing and submitting notebooks."
   ]
  }
 ],
 "metadata": {
  "kernelspec": {
   "display_name": "Python 3",
   "language": "python",
   "name": "python3"
  },
  "language_info": {
   "codemirror_mode": {
    "name": "ipython",
    "version": 3
   },
   "file_extension": ".py",
   "mimetype": "text/x-python",
   "name": "python",
   "nbconvert_exporter": "python",
   "pygments_lexer": "ipython3",
   "version": "3.8.5"
  }
 },
 "nbformat": 4,
 "nbformat_minor": 2
}
