{
 "cells": [
  {
   "cell_type": "markdown",
   "metadata": {},
   "source": [
    "<div style=\"text-align: right\">\n",
    "    <i>\n",
    "        LING 5981/6080: Fundamentals of Python <br>\n",
    "        Fall 2020 <br>\n",
    "        Aniello De Santo\n",
    "    </i>\n",
    "</div>\n",
    "\n",
    "\n",
    "# Notebook 10: Regular Expressions\n",
    "\n",
    "This notebook focuses on working with regular languages using the `re` library."
   ]
  },
  {
   "cell_type": "markdown",
   "metadata": {},
   "source": [
    "## Why Regular Expressions\n",
    "\n",
    "\n",
    "In previous notebooks, we have often worked with user input by ignoring issues like punctuation.\n",
    "For instance, when asking a user to answer a question we did not allow for variation in answers like  *Yes!* or *yes...*.\n",
    "To fix this, we would like to tell Python to delete all punctuation markers from the input before we test it.\n",
    "This is done with a powerful tool called *regular expressions*.\n",
    "\n",
    "You might have already used regular expressions without realizing it.\n",
    "For example, if you have a black belt in Google-fu then you know that you can enter `\"smashing .* pumpkins\"` to match any website that contains the words *Smashing* and *Pumpkins* in this order, possibly with other material inbetween.\n",
    "That would of course include websites that talk about the *The Smashing Pumpkins*, but it also includes variations like *smashing rotten pumpkins*, *Smashing ABC Pumpkins*, and *Smashing Marilyn and Pumpkins Manson* (those are actual Google hits).\n",
    "\n",
    "You can also use regular expressions when you search for a book in a library catalog, or even with a word processor to find specific patterns.\n",
    "\n",
    "When working with large corpora, regular expressions turn out to be increadibly useful. This notebook will show you some of the things we can do with them.\n",
    "\n",
    "Additonally, this is a good video tutorial walking you through the main intuitions behind Regex: https://www.youtube.com/watch?v=7DG3kCDx53c"
   ]
  },
  {
   "cell_type": "markdown",
   "metadata": {},
   "source": [
    "## Working with Regular expressions"
   ]
  },
  {
   "cell_type": "markdown",
   "metadata": {},
   "source": [
    "In order to work with regexes through the Python interface, let's import the `re` library."
   ]
  },
  {
   "cell_type": "code",
   "execution_count": 7,
   "metadata": {},
   "outputs": [],
   "source": [
    "import re"
   ]
  },
  {
   "cell_type": "markdown",
   "metadata": {},
   "source": [
    "## Kleene star\n",
    "\n",
    "The basic concept introducing infinity in regular expressions is **Klenee star**.\n",
    "It is denoted as `*`, and it simply means \"arbitrary instances of the preceding symbol\".\n",
    "Here and further in the notebook, I'll be using `\"\"` to denote an empty string.\n",
    "\n",
    "    RegEx:  a*\n",
    "    Matched Strings: \"\", a, aa, aaa, aaaaa, ..., aaaaaaaaaaaaaaaaaaaaaaaaaaaaaaaaaa, ...\n",
    "    \n",
    "### Function `re.search`\n",
    "    \n",
    "The function `re.search` searches for the first substring that correspond to a given regular expressions within the given string. It returns a _match object_ if matching substrings were detected, and `None` otherwise.\n",
    "\n",
    "    re.search(r\"regex\", r\"string\")\n",
    "    \n",
    "Notice the `r` before the strings: it means \"raw string\". As you already know, there are characters that have special meaning to regular expressions, and to avoid any confusion, it is easier to work with the raw strings."
   ]
  },
  {
   "cell_type": "code",
   "execution_count": 2,
   "metadata": {},
   "outputs": [
    {
     "name": "stdout",
     "output_type": "stream",
     "text": [
      "<re.Match object; span=(0, 5), match='aaaaa'>\n"
     ]
    }
   ],
   "source": [
    "print(re.search(r\"a*\", r\"aaaaa\"))"
   ]
  },
  {
   "cell_type": "markdown",
   "metadata": {},
   "source": [
    "Indeed, a string \"aaaaa\" can be matched by the regular expression $a^{*}$."
   ]
  },
  {
   "cell_type": "code",
   "execution_count": 3,
   "metadata": {},
   "outputs": [
    {
     "name": "stdout",
     "output_type": "stream",
     "text": [
      "<re.Match object; span=(0, 4), match='aaaa'>\n"
     ]
    }
   ],
   "source": [
    "print(re.search(r\"a*\", r\"aaaabaa\"))"
   ]
  },
  {
   "cell_type": "markdown",
   "metadata": {},
   "source": [
    "The string \"aaaabaa\" contains $2$ substrings that can be matched by a regular expression $a^{*}$: \"**aaaa**baa\" and \"aaaab**aa**\", but `re.search` only looks for the first appropriate match, therefore the span that was detected is `span=(0, 4)`.\n",
    "\n",
    "The values of `span` can be extracted in the following manner:"
   ]
  },
  {
   "cell_type": "code",
   "execution_count": 5,
   "metadata": {},
   "outputs": [
    {
     "name": "stdout",
     "output_type": "stream",
     "text": [
      "(0, 4)\n"
     ]
    }
   ],
   "source": [
    "matched_object = re.search(r\"a*\", r\"aaaabaa\")\n",
    "span = matched_object.span()\n",
    "print(span)"
   ]
  },
  {
   "cell_type": "markdown",
   "metadata": {},
   "source": [
    "To extract the matched substring, we need to apply `.group(0)` to the matched object."
   ]
  },
  {
   "cell_type": "code",
   "execution_count": 6,
   "metadata": {
    "scrolled": true
   },
   "outputs": [
    {
     "name": "stdout",
     "output_type": "stream",
     "text": [
      "aaaa\n"
     ]
    }
   ],
   "source": [
    "match = matched_object.group(0)\n",
    "print(match)"
   ]
  },
  {
   "cell_type": "markdown",
   "metadata": {},
   "source": [
    "As a sidenote, Python allows for \"unpacking\" of the values and multiple variable definitions on a single line."
   ]
  },
  {
   "cell_type": "code",
   "execution_count": 7,
   "metadata": {
    "scrolled": true
   },
   "outputs": [
    {
     "name": "stdout",
     "output_type": "stream",
     "text": [
      "Start: 0\n",
      "End:   4\n"
     ]
    }
   ],
   "source": [
    "start, end = span[0], span[1]\n",
    "print(\"Start:\", start)\n",
    "print(\"End:  \", end)"
   ]
  },
  {
   "cell_type": "markdown",
   "metadata": {},
   "source": [
    "**Practice:** write a function `full_match` detecting if the whole given string can be matched by the given regular expression.\n",
    "\n",
    "    Function call:  full_match(\"a*\", \"aaaaa\")\n",
    "    Output:         True\n",
    "    \n",
    "    Function call:  full_match(\"a*\", \"aaaaabaa\")\n",
    "    Output:         False\n",
    "    \n",
    "    Function call:  full_match(\"a*\", \"bbbbb\")\n",
    "    Output:         False"
   ]
  },
  {
   "cell_type": "code",
   "execution_count": null,
   "metadata": {},
   "outputs": [],
   "source": []
  },
  {
   "cell_type": "markdown",
   "metadata": {},
   "source": [
    "Test it in the following cell."
   ]
  },
  {
   "cell_type": "code",
   "execution_count": 2,
   "metadata": {},
   "outputs": [],
   "source": [
    "import re"
   ]
  },
  {
   "cell_type": "markdown",
   "metadata": {},
   "source": [
    "### Function `re.findall`\n",
    "\n",
    "If all matching substrings are required, we can use `re.findall`. This returns _all_ matching substrings.\n",
    "\n",
    "    re.findall(r\"regex\", r\"string\")"
   ]
  },
  {
   "cell_type": "code",
   "execution_count": 8,
   "metadata": {},
   "outputs": [
    {
     "name": "stdout",
     "output_type": "stream",
     "text": [
      "['ab', 'ab', 'ab']\n"
     ]
    }
   ],
   "source": [
    "print(re.findall(r\"ab\", r\"aaabbbababa\"))"
   ]
  },
  {
   "cell_type": "markdown",
   "metadata": {},
   "source": [
    "**Question:** explain the output of the following function call."
   ]
  },
  {
   "cell_type": "code",
   "execution_count": 6,
   "metadata": {},
   "outputs": [
    {
     "name": "stdout",
     "output_type": "stream",
     "text": [
      "['aaaa', '', 'aa', '']\n"
     ]
    }
   ],
   "source": [
    "print(re.findall(r\"a*\",r\"aaaabaa\"))"
   ]
  },
  {
   "cell_type": "code",
   "execution_count": 19,
   "metadata": {},
   "outputs": [
    {
     "name": "stdout",
     "output_type": "stream",
     "text": [
      "<re.Match object; span=(0, 4), match='cacb'>\n"
     ]
    }
   ],
   "source": [
    "print(re.search(r\"(a*c*)*b\",r\"cacb\"))"
   ]
  },
  {
   "cell_type": "code",
   "execution_count": 8,
   "metadata": {},
   "outputs": [
    {
     "name": "stdout",
     "output_type": "stream",
     "text": [
      "['aaaa', 'aa']\n"
     ]
    }
   ],
   "source": [
    "print(re.findall(rx,r\"aaaabaa\"))"
   ]
  },
  {
   "cell_type": "code",
   "execution_count": 28,
   "metadata": {},
   "outputs": [
    {
     "name": "stdout",
     "output_type": "stream",
     "text": [
      "['test']\n"
     ]
    }
   ],
   "source": [
    "x = 'test'\n",
    "print(re.findall(r\"test\",x))"
   ]
  },
  {
   "cell_type": "code",
   "execution_count": 3,
   "metadata": {},
   "outputs": [
    {
     "name": "stdout",
     "output_type": "stream",
     "text": [
      "['', '', '', '', 'b', '', '', '']\n"
     ]
    }
   ],
   "source": [
    "print(re.findall(r\"b*\", r\"aaaabaa\"))"
   ]
  },
  {
   "cell_type": "markdown",
   "metadata": {},
   "source": [
    "So far we saw the application of the Kleene star to only a single symbol. In order to match repeating substrings, we need to put that substring in the parethesis. For example, see the contrast:"
   ]
  },
  {
   "cell_type": "code",
   "execution_count": 15,
   "metadata": {},
   "outputs": [
    {
     "name": "stdout",
     "output_type": "stream",
     "text": [
      "['ab', '', '', '', '']\n"
     ]
    }
   ],
   "source": [
    "print(re.findall(r\"(ab)*\", r\"abababbbb\"))"
   ]
  },
  {
   "cell_type": "code",
   "execution_count": null,
   "metadata": {},
   "outputs": [],
   "source": [
    "print(re.search(r\"ab*\", r\"abababbbb\"))"
   ]
  },
  {
   "cell_type": "markdown",
   "metadata": {},
   "source": [
    "In the first case, the first match is `ababab`, i.e. it is a string \"ab\" that is repeating.\n",
    "In the second case, however, the first match is simply `ab`, because the regular expression $ab^{*}$ is matching any number of \"b\" preceded by an \"a\"."
   ]
  },
  {
   "cell_type": "markdown",
   "metadata": {},
   "source": [
    "## Kleene plus\n",
    "\n",
    "The Kleene star matches _any_ number of the given substring, from $0$ to any $n$.\n",
    "**Kleene plus** matches the given substring $1$ or more times.\n",
    "\n",
    "    Grammar:  (ab)*\n",
    "    Matched strings: \"\", ab, abab, ababab, ababababab...\n",
    "    \n",
    "    Grammar:  (ab)+\n",
    "    Matched strings: ab, abab, ababab, ababababab..."
   ]
  },
  {
   "cell_type": "code",
   "execution_count": null,
   "metadata": {},
   "outputs": [],
   "source": [
    "print(re.search(r\"(ab)*\", r\"\"))"
   ]
  },
  {
   "cell_type": "code",
   "execution_count": null,
   "metadata": {},
   "outputs": [],
   "source": [
    "print(re.search(r\"(ab)+\", r\"\"))"
   ]
  },
  {
   "cell_type": "markdown",
   "metadata": {},
   "source": [
    "**Practice 1:** simplify the following regular expression: `ab(ab)*`.\n",
    "\n",
    "**Practice 2:** for the following regular expressions, say if the given strings are fully matched by them.\n",
    "\n",
    "    Regular expression:  a*b*a*\n",
    "    Strings:             \"\", aaaaa, bbbb, aaabbbbb, aabaaa, aaabbbabbb, bbbaa, bab\n",
    "    \n",
    "    Regular expression:  a*b+a*\n",
    "    Strings:             \"\", aaaaa, bbbb, aaabbbbb, aabaaa, aaabbbabbb, bbbaa, bab\n",
    "    \n",
    "    Regular expression:  (a*b*)*\n",
    "    Strings:             \"\", aabb, aaabbb, aabbaaaabbbb, bbbb, baaaaa, bababbabb\n",
    "    \n",
    "    Regular expression:  (a+b*)*\n",
    "    Strings:             \"\", aabb, aaabbb, aabbaaaabbbb, bbbb, baaaaa, bababbabb\n",
    "    \n",
    "    Regular expression:  (a+c*b+)+\n",
    "    Strings:             \"\", ab, abab, aaaacc, bbba, aaabbbabbbb, aabbbbbcbbb\n",
    "    \n",
    "    Regular expression:  (a*c*b+)+\n",
    "    Strings:             \"\", ab, abab, aaaacc, bbba, aaabbbabbbb, aabbbbbcbbb\n",
    "    \n",
    "**Practice 3:** come up with a regex describing the following two string-sets. Test it in the following cells.\n",
    "\n",
    "    Language 1:  \"\", abbc, bbbcc, ccc, acc, abbccc...\n",
    "    Language 2:  abccc, a, abcbcccc, abbb, abbbccc..."
   ]
  },
  {
   "cell_type": "code",
   "execution_count": null,
   "metadata": {},
   "outputs": [],
   "source": [
    "lang_1 = [\"\", \"abbc\", \"bbbcc\", \"ccc\", \"acc\", \"abbccc\"]\n",
    "for s in lang_1:\n",
    "    print(re.search(r\"REGEX\", s))"
   ]
  },
  {
   "cell_type": "code",
   "execution_count": null,
   "metadata": {},
   "outputs": [],
   "source": [
    "lang_2 = [\"abccc\", \"a\", \"abcbcccc\", \"abbb\", \"abbbccc\", \"abcbcbc\"]\n",
    "for s in lang_2:\n",
    "    print(re.search(r\"REGEX\", s))"
   ]
  },
  {
   "cell_type": "markdown",
   "metadata": {},
   "source": [
    "### Optional Matching \n",
    "\n",
    "What if we want a single expression to match one among multiple characters?\n",
    "We could write multiple separate expressions, one for each character. But this is far from efficient.\n",
    "Instead, we can list a seres of characters for the expression to mtch separately, by enclosing them in square parenthesis:\n",
    "\n",
    "    r\"...[abc]...\"\n",
    "    \n",
    "The regular expression above will match \"a\", \"b\" or \"c\"."
   ]
  },
  {
   "cell_type": "code",
   "execution_count": 43,
   "metadata": {},
   "outputs": [
    {
     "name": "stdout",
     "output_type": "stream",
     "text": [
      "<re.Match object; span=(2, 8), match='maaaan'>\n",
      "<re.Match object; span=(0, 0), match=''>\n"
     ]
    }
   ],
   "source": [
    "print(re.search(r\"m[ae]*n\", r\"womaaaan\"))\n",
    "print(re.search(r\"\\**\", r\"wom*n\"))"
   ]
  },
  {
   "cell_type": "code",
   "execution_count": 36,
   "metadata": {},
   "outputs": [
    {
     "name": "stdout",
     "output_type": "stream",
     "text": [
      "None\n",
      "None\n",
      "<re.Match object; span=(2, 5), match='men'>\n"
     ]
    }
   ],
   "source": [
    "print(re.search(r\"m[a*e*]n\", r\"womaeaeaeaen\"))\n",
    "print(re.search(r\"m[a*e*]n\", r\"womaaaeeen\"))\n",
    "print(re.search(r\"m[ae]n\", r\"women\"))"
   ]
  },
  {
   "cell_type": "markdown",
   "metadata": {},
   "source": [
    "If you need to match a set of characters containing some range of digits of alphabet symbols, these ranges can be provided in a shortcut way: `[1-7]`, `[a-z]` or `[A-D]`."
   ]
  },
  {
   "cell_type": "code",
   "execution_count": null,
   "metadata": {},
   "outputs": [],
   "source": [
    "print(re.findall(r\"[1-5]\", r\"1945\"))"
   ]
  },
  {
   "cell_type": "code",
   "execution_count": 46,
   "metadata": {},
   "outputs": [
    {
     "name": "stdout",
     "output_type": "stream",
     "text": [
      "['a', 'b', 'c', '1', '4', '5']\n"
     ]
    }
   ],
   "source": [
    "print(re.findall(r\"[1-5a-z]\", r\"abc1945\"))"
   ]
  },
  {
   "cell_type": "code",
   "execution_count": 53,
   "metadata": {},
   "outputs": [
    {
     "name": "stdout",
     "output_type": "stream",
     "text": [
      "['1a9b4c5']\n",
      "['.']\n",
      "[',,,,']\n",
      "['    ']\n"
     ]
    }
   ],
   "source": [
    "print(re.findall(r\".+\", r\"1a9b4c5\"))\n",
    "print(re.findall(r\".+\", r\".\"))\n",
    "print(re.findall(r\".+\", r\",,,,\"))\n",
    "print(re.findall(r\".+\", r\"    \"))"
   ]
  },
  {
   "cell_type": "markdown",
   "metadata": {},
   "source": [
    "Of course, Kleene star or plus can be applied to any set of symbols:"
   ]
  },
  {
   "cell_type": "code",
   "execution_count": null,
   "metadata": {},
   "outputs": [],
   "source": [
    "print(re.findall(r\"[0-9]+\", r\"It repeated 518305 times!\"))"
   ]
  },
  {
   "cell_type": "markdown",
   "metadata": {},
   "source": [
    "Note that these lists are case-sensitive:"
   ]
  },
  {
   "cell_type": "code",
   "execution_count": null,
   "metadata": {},
   "outputs": [],
   "source": [
    "print(re.findall(r\"[a-z]\", r\"ABBA\"))\n",
    "print(re.findall(r\"[A-Z]\", r\"ABBA\"))"
   ]
  },
  {
   "cell_type": "markdown",
   "metadata": {},
   "source": [
    "If we want to perform matches without case-sensitivity, we can add one more argument to the function `re.findall`. This argument is `re.I`, a short form for `re.IGNORECASE`."
   ]
  },
  {
   "cell_type": "code",
   "execution_count": null,
   "metadata": {},
   "outputs": [],
   "source": [
    "print(re.findall(r\"[a-z]\", r\"ABBA\", re.I))\n",
    "print(re.findall(r\"[A-Z]\", r\"ABBA\"))"
   ]
  },
  {
   "cell_type": "markdown",
   "metadata": {},
   "source": [
    "### Matching the beginning/end of string\n",
    "\n",
    "If we want to make sure that the regular expression is not only contained within the string we are searching, but rather describes the whole string, we can surround the regex with the following two symbols:\n",
    "\n",
    "  * `^` marks the beginning of the string;\n",
    "  * `$` marks the end of the string. \n",
    "  \n",
    "Of course, these two symbols can be used separately as well in order to match the beginning or the end of the string."
   ]
  },
  {
   "cell_type": "code",
   "execution_count": null,
   "metadata": {},
   "outputs": [],
   "source": [
    "print(re.search(r\"m[ae]n\", r\"woman\"))\n",
    "print(re.search(r\"^m[ae]n$\", r\"woman\"))\n",
    "print(re.search(r\"m[ae]n$\", r\"woman\"))"
   ]
  },
  {
   "cell_type": "markdown",
   "metadata": {},
   "source": [
    "### Any character `.`\n",
    "\n",
    "A dot `.` stands for _any character_."
   ]
  },
  {
   "cell_type": "code",
   "execution_count": null,
   "metadata": {},
   "outputs": [],
   "source": [
    "print(re.search(r\"m.n\", r\"man\"))\n",
    "print(re.search(r\"m.n\", r\"men\"))"
   ]
  },
  {
   "cell_type": "markdown",
   "metadata": {},
   "source": [
    "However, it will match just a single character:"
   ]
  },
  {
   "cell_type": "code",
   "execution_count": null,
   "metadata": {},
   "outputs": [],
   "source": [
    "print(re.search(r\"m.n\", r\"moon\"))"
   ]
  },
  {
   "cell_type": "markdown",
   "metadata": {},
   "source": [
    "Then, applying Kleene star to a `.` will yield the original string."
   ]
  },
  {
   "cell_type": "code",
   "execution_count": null,
   "metadata": {},
   "outputs": [],
   "source": [
    "print(re.search(r\".*\", r\"moon\"))"
   ]
  },
  {
   "cell_type": "markdown",
   "metadata": {},
   "source": [
    "### Matching certain number of times\n",
    "\n",
    "To match some symbol $n$ times, we can add curly parenthesis `{}` after that symbol, and put that $n$ inside: `s{n}`."
   ]
  },
  {
   "cell_type": "code",
   "execution_count": null,
   "metadata": {},
   "outputs": [],
   "source": [
    "print(re.search(r\"mo{2}n\", r\"moon\"))"
   ]
  },
  {
   "cell_type": "markdown",
   "metadata": {},
   "source": [
    "We can also provide a range of the times we want to match that symbol. The range is denoted as `s{m,n}`, where `m` and `n` are the beginning and the end of the range."
   ]
  },
  {
   "cell_type": "code",
   "execution_count": null,
   "metadata": {},
   "outputs": [],
   "source": [
    "print(re.search(r\"mo{2,5}n\", r\"moooon\"))"
   ]
  },
  {
   "cell_type": "markdown",
   "metadata": {},
   "source": [
    "In we want to check a repetition of a group of symbols, we can enclose that group in the round parenthesis `()`:"
   ]
  },
  {
   "cell_type": "code",
   "execution_count": 57,
   "metadata": {},
   "outputs": [
    {
     "name": "stdout",
     "output_type": "stream",
     "text": [
      "<re.Match object; span=(0, 11), match='falalalafel'>\n",
      "<re.Match object; span=(0, 9), match='falalafel'>\n"
     ]
    }
   ],
   "source": [
    "print(re.search(r\"fa(la){2,5}fel\", r\"falalalafel\"))\n",
    "print(re.search(r\"fa(la){2}fel\", r\"falalafel\"))"
   ]
  },
  {
   "cell_type": "markdown",
   "metadata": {},
   "source": [
    "### Matching groups of symbols\n",
    "\n",
    "However, if we want to match one of the listed groups of symbols, it will not work to simply put those groups in parenthesis:"
   ]
  },
  {
   "cell_type": "code",
   "execution_count": null,
   "metadata": {},
   "outputs": [],
   "source": [
    "print(re.findall(r\"[(la)(lo)]\", r\"lola\"))"
   ]
  },
  {
   "cell_type": "markdown",
   "metadata": {},
   "source": [
    "The symbols in the square parenthesis are interpreted literally, and therefore the expression above will match parenthesis too:"
   ]
  },
  {
   "cell_type": "code",
   "execution_count": null,
   "metadata": {},
   "outputs": [],
   "source": [
    "print(re.findall(r\"[(la)(lo)]\", r\"hello (world)\"))"
   ]
  },
  {
   "cell_type": "markdown",
   "metadata": {},
   "source": [
    "To match one of the listed groups of symbols, we can join those groups using a special symbol `|` meaning **or**."
   ]
  },
  {
   "cell_type": "code",
   "execution_count": null,
   "metadata": {},
   "outputs": [],
   "source": [
    "print(re.search(r\"la|lo\", r\"lola\"))\n",
    "print(re.search(r\"(la|lo){2}\", r\"lola\"))\n",
    "print(re.search(r\"ba(la|lo){1,2}on\", r\"baloon\"))"
   ]
  },
  {
   "cell_type": "markdown",
   "metadata": {},
   "source": [
    "### Optionality\n",
    "\n",
    "Optionality of a symbol or a group of symbols can be expressed via putting a question mark `?` after that symbol or a group."
   ]
  },
  {
   "cell_type": "code",
   "execution_count": null,
   "metadata": {
    "scrolled": true
   },
   "outputs": [],
   "source": [
    "print(re.search(r\"python(ic)?\", r\"python\"))\n",
    "print(re.search(r\"python(ic)?\", r\"pythonic\"))\n",
    "print(re.search(r\"(py)?th?on(ic)?\", r\"pythonic\"))\n",
    "print(re.search(r\"(py)?th?on(ic)?\", r\"tonic\"))"
   ]
  },
  {
   "cell_type": "markdown",
   "metadata": {},
   "source": [
    "### Negation\n",
    "\n",
    "If symbols from some set should **not** be present in-between two characters, we can use a negation marker `^` used inside the set parenthesis: `[^...]`."
   ]
  },
  {
   "cell_type": "code",
   "execution_count": null,
   "metadata": {},
   "outputs": [],
   "source": [
    "print(re.search(r\"m[^bc]d\", r\"mad\"))\n",
    "print(re.search(r\"m[^bc]d\", r\"mcd\"))"
   ]
  },
  {
   "cell_type": "markdown",
   "metadata": {},
   "source": [
    "**Practice.** Find a refular expression that will prohibit any sequence made out of letters \"b\" and \"c\" in-between \"m\" and \"d\".\n",
    "\n",
    "    \"md\"        ->   Match\n",
    "    \"mod\"       ->   Match\n",
    "    \"mcd\"       ->   No match\n",
    "    \"mbcd\"      ->   No match\n",
    "    \"mbbcbcd\"   ->   No match\n",
    "    \"mcccccc\"   ->   No match"
   ]
  },
  {
   "cell_type": "code",
   "execution_count": null,
   "metadata": {},
   "outputs": [],
   "source": []
  },
  {
   "cell_type": "markdown",
   "metadata": {},
   "source": [
    "## Lookaround assertions\n",
    "\n",
    "Sometimes we want to match a string only in a particular position. In this case, we can use different types of lookaheads and lookbehinds:\n",
    "\n",
    "  * `(?<=foo)` **lookbehind**: makes sure that a string \"foo\" precedes the pattern we are matching;\n",
    "  * `(?=foo)`  **lookahead**:  makes sure that a string \"foo\" follows the pattern we are matching;\n",
    "  * `(?<!foo)` **negative lookbehind**: makes sure that a string \"foo\" does not precede the pattern we are matching;\n",
    "  * `(?!foo)`  **negative lookahead**:  makes sure that a string \"foo\" does not follow the pattern we are matching.\n",
    "  \n",
    "Lookbehinds check that the regular expression is preceded by a certain regular expression."
   ]
  },
  {
   "cell_type": "code",
   "execution_count": null,
   "metadata": {},
   "outputs": [],
   "source": [
    "print(re.search(r\"(?<=hello )world\", r\"hello world!\"))\n",
    "print(re.search(r\"(?<!hello )world\", r\"goodbye world!\"))\n",
    "print(re.search(r\"(?<!hello )world\", r\"hello world!\"))"
   ]
  },
  {
   "cell_type": "markdown",
   "metadata": {},
   "source": [
    "Similarly, lookaheads check that the regular expression is followed by a certain regular expression."
   ]
  },
  {
   "cell_type": "code",
   "execution_count": null,
   "metadata": {
    "scrolled": true
   },
   "outputs": [],
   "source": [
    "print(re.search(r\"hello(?= world)\", r\"hello world!\"))\n",
    "print(re.search(r\"hello(?! world)\", r\"hello people!\"))\n",
    "print(re.search(r\"hello(?! world)\", r\"hello world!\"))"
   ]
  },
  {
   "cell_type": "markdown",
   "metadata": {},
   "source": [
    "**Practice.** You are given the following string."
   ]
  },
  {
   "cell_type": "code",
   "execution_count": null,
   "metadata": {},
   "outputs": [],
   "source": [
    "string = \"a big giraffe came out of the water\""
   ]
  },
  {
   "cell_type": "markdown",
   "metadata": {},
   "source": [
    "Match all words consisting of $2$ or $3$ symols in `string`. You should expect to get the following output:\n",
    "\n",
    "    ['big', 'out', 'of', 'the']"
   ]
  },
  {
   "cell_type": "code",
   "execution_count": null,
   "metadata": {},
   "outputs": [],
   "source": []
  },
  {
   "cell_type": "markdown",
   "metadata": {},
   "source": [
    "As a sidenote, it is a good style to use as least of the lookaround expressions as possible. In simple words, when processing a lookahead or a lookbehind, regex compiler \"pretends\" that it is another regular expression that needs to be matched, attempts the match, and then needs to go back to the position where the assumption was made (this is why they are called _assertion operations)._ This backtracking operation is pretty expensive, and given large lookaround expressions and/or long strings to be searched, it can slow down the code by a lot."
   ]
  },
  {
   "cell_type": "markdown",
   "metadata": {},
   "source": [
    "### Shortcuts\n",
    "\n",
    "Additionally, there is a list of shortcuts to the collections of symbols of some type. Here are some of them:\n",
    "\n",
    "  * `\\d` matches digits, equivalent to `[1-9]`;\n",
    "  * `\\D` matches non-digits, equivalent to `[^1-9]`;\n",
    "  * `\\s` matches any whitespace character, equivalent to `[ \\t\\n\\r\\f\\v]`;\n",
    "  * `\\S` matches any non-whitespace character, equivalent to `[^ \\t\\n\\r\\f\\v]`;\n",
    "  * `\\w` matches any alphanumeric character, equivalent to `[a-zA-Z0-9_]`;\n",
    "  * `\\W` matches any non-alphanumeric character, equivalent to `[^a-zA-Z0-9_]`."
   ]
  },
  {
   "cell_type": "code",
   "execution_count": 13,
   "metadata": {},
   "outputs": [
    {
     "name": "stdout",
     "output_type": "stream",
     "text": [
      "['5', '1230', '340', '4', '500']\n"
     ]
    }
   ],
   "source": [
    "sentence = \"this sentence, for example, contains punctuations, words, and 5 digits. regular expressions can help us extract all the numbers, sequences of digits, in it! For example: 1230, 340, 4, 500.\"\n",
    "print(re.findall(r\"\\d+\", sentence))\n",
    "\n",
    "#Question: Why do we need the + after \\d? What we would be extracting without it?"
   ]
  },
  {
   "cell_type": "markdown",
   "metadata": {},
   "source": [
    "Additionally, the marker `\\b` indicates word boundaries."
   ]
  },
  {
   "cell_type": "code",
   "execution_count": 11,
   "metadata": {},
   "outputs": [
    {
     "name": "stdout",
     "output_type": "stream",
     "text": [
      "visiting   -->   None\n",
      "inverse   -->   None\n",
      "within   -->   None\n",
      "in   -->   <re.Match object; span=(0, 2), match='in'>\n",
      "x visiting x   -->   None\n",
      "x inverse x   -->   None\n",
      "x within x   -->   None\n",
      "x in x   -->   <re.Match object; span=(2, 4), match='in'>\n"
     ]
    }
   ],
   "source": [
    "words = [\"visiting\", \"inverse\", \"within\", \"in\", \"x visiting x\", \"x inverse x\", \"x within x\", \"x in x\"]\n",
    "\n",
    "for w in words:\n",
    "    print(w, \"  -->  \", re.search(r\"\\bin\\b\", w))"
   ]
  },
  {
   "cell_type": "markdown",
   "metadata": {},
   "source": [
    "## Getting rid of punctuation with regular expressions\n",
    "\n",
    "We have seen how Regular expressions can be used to search for strings that match a certain pattern.\n",
    "A lesser known function of regular expressions is that they can also be used to replace the matched pattern by some other pattern.\n",
    "It is this aspect of regular expressions that we are particularly interested in.\n",
    "Let us look at a simple example first where we replace every exclamation mark by a question mark."
   ]
  },
  {
   "cell_type": "code",
   "execution_count": null,
   "metadata": {},
   "outputs": [],
   "source": [
    "# first we have to load the regular expression library, called re\n",
    "import re\n",
    "\n",
    "# here's our example string\n",
    "example_string = \"Go... go home! I hate you!!! Never talk to me again!!1!!1!\"\n",
    "# replace every ! by ?\n",
    "print(re.sub(r\"!\", r\"?\", example_string))"
   ]
  },
  {
   "cell_type": "markdown",
   "metadata": {},
   "source": [
    "As you can see, the syntax of the expression for substitution is very close to the one we use for search.\n",
    "\n",
    "Here we use the substitution function of the `re` library, called `re.sub`.\n",
    "As any other function, the `re.sub` is followed by `(` and `)`.\n",
    "In contrast to `print` or `input`, `re.sub` needs three things to occur between those brackets, and they must be separated by a comma (`,`):\n",
    "\n",
    "1.  First we specify what parts of the string should be replaced. Note the `r` in front of `\"`.\n",
    "1.  Then we say what those parts should be replaced by. Note again the `r` in front of `\"`.\n",
    "1.  Finally, we tell the `sub` command in what string it should carry out those substitutions.\n"
   ]
  },
  {
   "cell_type": "markdown",
   "metadata": {},
   "source": [
    "**Practice.**\n",
    "Adapt the code above so that every exclamation mark is replaced by 3 question marks."
   ]
  },
  {
   "cell_type": "code",
   "execution_count": null,
   "metadata": {},
   "outputs": [],
   "source": []
  },
  {
   "cell_type": "markdown",
   "metadata": {},
   "source": [
    "## Escaping special characters\n",
    "\n",
    "As we saw before, when using a regular expression some symbols have a special meaning, and this allows us to represent complex patterns via strings.\n",
    "For example, suppose we want to delete every symbol in the string, including all spaces.\n",
    "Then we could do this with the following regular expression."
   ]
  },
  {
   "cell_type": "code",
   "execution_count": null,
   "metadata": {},
   "outputs": [],
   "source": [
    "# first we have to import the regular expression library, called re\n",
    "import re\n",
    "\n",
    "# here's our example string\n",
    "example_string = \"Go... go home! I hate you!!! Never talk to me again!!1!!1!\"\n",
    "# replace everything by ?\n",
    "print(re.sub(r\".\", r\"\", example_string))"
   ]
  },
  {
   "cell_type": "markdown",
   "metadata": {},
   "source": [
    "But if `.` matches anything, how can we match an actual dot (e.g. to remove a period)?\n",
    "We have to temporarily cancel the regular expression interpretation of `.`, which we do by putting a backlash `\\` in front of it.\n",
    "\n",
    "By writing `\\.`, we effectively say \"Computer, I mean an actual dot. Seriously, dude, don't give me a digit, a letter, or God knows what, I just want a dot.\"\n",
    "Using a backslash to block the regular expression interpretation is also called *escaping*.\n",
    "So when we write `\\.`, we escape `.` to get a standard dot."
   ]
  },
  {
   "cell_type": "code",
   "execution_count": null,
   "metadata": {},
   "outputs": [],
   "source": [
    "# first we have to import the regular expression library, called re\n",
    "import re\n",
    "\n",
    "# here's our example string\n",
    "example_string = \"Go... go home! I hate you!!! Never talk to me again!!1!!1!\"\n",
    "# replace everything by ?\n",
    "print(re.sub(r\"\\.\", r\"?\", example_string))"
   ]
  },
  {
   "cell_type": "markdown",
   "metadata": {},
   "source": [
    "## Multiple substitutions\n",
    "\n",
    "Our main motivation for using regular expressions is their ability to remove punctuation symbols from the user's input.\n",
    "But right now we only know how to replace individual characters.\n",
    "This would make it rather tedious to remove all punctuation symbols from the input."
   ]
  },
  {
   "cell_type": "code",
   "execution_count": null,
   "metadata": {},
   "outputs": [],
   "source": [
    "leg_pulling = input()\n",
    "# remove . (special character -> must be escaped with \\)\n",
    "leg_pulling = re.sub(r\"\\.\", r\"\", leg_pulling)\n",
    "# remove ? (special character -> must be escaped with \\)\n",
    "leg_pulling = re.sub(r\"\\?\", r\"\", leg_pulling)\n",
    "# remove !\n",
    "leg_pulling = re.sub(r\"!\", r\"\", leg_pulling)\n",
    "# remove ,\n",
    "leg_pulling = re.sub(r\",\", r\"\", leg_pulling)\n",
    "# remove ;\n",
    "leg_pulling = re.sub(r\";\", r\"\", leg_pulling)\n",
    "\n",
    "if str.lower(leg_pulling) in [\"yes\", \"sure\", \"most definitely\", \"that's for sure\"]:\n",
    "    print(\"Well, at least you're honest.\")"
   ]
  },
  {
   "cell_type": "markdown",
   "metadata": {},
   "source": [
    "This is incredibly tedious.\n",
    "As we saw above though, regular expressions allow us to do just that with a syntax that's similar to lists in Python.\n",
    "Inside the string of the first argument, we can specify a range of alternatives between square brackets.\n",
    "So `r\"[\\.\\?!,;]\"` means \"any symbol that is a dot, a question mark, an exclamation mark, a period, or a semicolon\".\n",
    "Note that in contrast to Python lists, the entries between the square brackets are not separated by commas - that would make them even harder to read."
   ]
  },
  {
   "cell_type": "code",
   "execution_count": null,
   "metadata": {},
   "outputs": [],
   "source": [
    "leg_pulling = input()\n",
    "# remove punctuation\n",
    "leg_pulling = re.sub(r\"[\\.\\?!,;]\", r\"\", leg_pulling)\n",
    "\n",
    "if str.lower(leg_pulling) in [\"yes\", \"sure\", \"most definitely\", \"that's for sure\"]:\n",
    "    print(\"Well, at least you're honest.\")"
   ]
  },
  {
   "cell_type": "markdown",
   "metadata": {},
   "source": [
    "**Practice.**\n",
    "Without running the code above, try to figure out if the following input would pass the `if`-test: `Y!!;e...,S..?`.\n",
    "Write down your prediction.\n",
    "Then run the code above with this input.\n",
    "Was your prediction borne out?\n",
    "Explain why the string does or does not pass the `if`-test."
   ]
  },
  {
   "cell_type": "markdown",
   "metadata": {},
   "source": [
    "Everything listed above is just a small part of the functionality of regular expressions. It is useful to remember the basic principles, however, if something more advanced is required, you can always refer to cheat sheets or tutorials, such as [this one](https://www.rexegg.com/regex-quickstart.html).\n",
    "\n",
    "If you're curious, you can already experiment online on the website [Pythex](https://pythex.org/).\n",
    "But the power of regular expressions (or simply *regexes*) can feel overwhelming at the beginning.\n",
    "Sotake it slowly and grow your *regex* vocabulary step-by-step rather than doing everything in one fell swoop."
   ]
  },
  {
   "cell_type": "markdown",
   "metadata": {},
   "source": [
    "# Optional: Some History and Some Theory\n",
    "\n",
    "## Formal languages\n",
    "\n",
    "Formally, (string) _languages_ are collections of strings produced by a certain grammar.\n",
    "Grammar is a way to _generalize_ the pattern behind the language.\n",
    "For example,\n",
    "\n",
    "    Language 1: ab, abab, ababab, abababab... (*aba, *babababab, *a)\n",
    "     Grammar 1: repeat \"ab\" arbitrary number of times.\n",
    "    \n",
    "    Language 2: aaab, baaa, aaabaaaa, b, aba, aaaaabaaaaaaaaa, baaaaaaaa, aab... (*aaaabaaaabaaa, *aaaaa)\n",
    "     Grammar 2: have a single \"b\" in the string, and then any number of \"a\" on either side of \"b\".\n",
    "    \n",
    "    Language 3: abc, aabbcc, aaabbbccc, aaaabbbbcccc... (*abbccc, *aaabbbc)\n",
    "     Grammar 3: have \"b\" after \"a\" and \"c\" after \"b\", and repeat every letter n times.\n",
    "    \n",
    "    Language 4: aabb, aaabbb, aaaaabbbbb, aaaaaaabbbbbbb, aaaaaaaaaaabbbbbbbbbbb... (*ab, *aaaabbbb)\n",
    "     Grammar 4: n times \"a\" and n times \"b\", where n is a prime number.\n",
    "    \n",
    "\n",
    "\n",
    "### Expressivity\n",
    "\n",
    "Intuitively, some languages can be described by using simpler operations than others (note though that simplicity is not easy to define! Take a comp ling course with me to undertsand why :)).\n",
    "For example, Grammar 1 simply uses the repetitions of the substring \"ab\", whereas Grammar 3 _balances_ the number of letters \"a\", \"b\" and \"c\" while preserving their order.\n",
    "\n",
    "The nested hierarchy of formal languages aligned with respect to their complexity is called **the Chomsky hierarchy** [(Chomsky 1959)](http://www.cs.utexas.edu/~cannata/pl/Class%20Notes/Chomsky_1959%20On%20Certain%20Formal%20Properties%20of%20Grammars.pdf).\n",
    "\n",
    "<img src=\"images/10_1.png\" width=\"600\">\n",
    "\n",
    "**Finite** languages are not infinite, and can be defined by simply listing all the strings of the language."
   ]
  },
  {
   "cell_type": "code",
   "execution_count": null,
   "metadata": {},
   "outputs": [],
   "source": [
    "finite_language = [\"abc\", \"cba\", \"bac\", \"cab\", \"acb\", \"bca\"]"
   ]
  },
  {
   "cell_type": "markdown",
   "metadata": {},
   "source": [
    "All classes apart from finite grammars describe potentially infinite stringsets. Later in this course, we will learn some tools for working with two classes of Chomsky hierarchy: **regular** and **context-free**.\n",
    "\n",
    "**Question:** why \"potentially infinite\", and not just \"infinite\"?\n",
    "\n",
    "## Back to Regular expressions\n",
    "\n",
    "Regular languages can be described via so-called **regular expressions** (**regex**).\n",
    "Regexes are strings in a special representation describing languages, and this representation was first introduced by **Stephen Kleene** in 1950s. Interestingly, he came up with the idea of regular expressions when trying to describe the behavior of _McCulloch-Pitts_ neural networks, the first model inspired by human neurons! See more [here](https://towardsdatascience.com/mcculloch-pitts-model-5fdf65ac5dd1).\n",
    "\n",
    "<img src=\"images/10_2.png\" width=\"200\">\n",
    "<center>\n",
    "    <i> Stephen Kleene </i>\n",
    "</center>\n"
   ]
  },
  {
   "cell_type": "markdown",
   "metadata": {},
   "source": [
    "# Homework 08\n",
    "\n",
    "**Due on Sunday, November 15, 11.59pm**\n",
    "\n",
    "Send your notebook (don't forget to save your solutions!) to <aniello.desanto@utah.edu> with the subject **\\[ LING 5981/6080\\] Homework 8**.\n",
    "\n",
    "**Problem. (5pt)** You are given the following string."
   ]
  },
  {
   "cell_type": "code",
   "execution_count": null,
   "metadata": {},
   "outputs": [],
   "source": [
    "string = \"The first number is Mary 528973, the other one is Peter 29857, and the last one is Mira 245289.\""
   ]
  },
  {
   "cell_type": "markdown",
   "metadata": {},
   "source": [
    "First, extract a list of numbers from this `string`.\n",
    "\n",
    "    Expected output: ['528973', '29857', '245289']"
   ]
  },
  {
   "cell_type": "code",
   "execution_count": null,
   "metadata": {},
   "outputs": [],
   "source": []
  },
  {
   "cell_type": "markdown",
   "metadata": {},
   "source": [
    "Second, extract a list of names from the `string`. Hint: every name is followed by a number.\n",
    "\n",
    "    Expected output: ['Mary', 'Peter', 'Mira']"
   ]
  },
  {
   "cell_type": "code",
   "execution_count": null,
   "metadata": {},
   "outputs": [],
   "source": []
  },
  {
   "cell_type": "markdown",
   "metadata": {},
   "source": [
    "Finally, merge these two lists together into a dictionary.\n",
    "\n",
    "    Expected output: {'Mary': '528973', 'Peter': '29857', 'Mira': '245289'}"
   ]
  },
  {
   "cell_type": "code",
   "execution_count": null,
   "metadata": {},
   "outputs": [],
   "source": []
  },
  {
   "cell_type": "markdown",
   "metadata": {},
   "source": [
    "**Problem. (2pt)** Write a clean up function `clean_up()` which takes a string as its only argument, and:\n",
    "\n",
    "- removes capitalization\n",
    "- uses a regular expression to get rid of punctuation\n",
    "- returns the cleaned up string\n",
    "\n"
   ]
  },
  {
   "cell_type": "code",
   "execution_count": null,
   "metadata": {},
   "outputs": [],
   "source": []
  },
  {
   "cell_type": "markdown",
   "metadata": {},
   "source": [
    "**Problem. (5pt)**\n",
    "Design the chatbot *Lord Loudmouth*.\n",
    "Lord Loudmouth is not the greatest conversationalist.\n",
    "The chatbot just repeats whatever words the user said, but with three exclamation marks after each word.\n",
    "So if the user enters *Hi. I am John, what is your name?*, Lord Loudmouth will reply *Hi!!! I!!! Am!!! John!!! What!!! Is!!! Your!!! Name!!!*.\n",
    "\n",
    "Lord Loudmouth keeps doing this until the user says *Goodbye.*, *Sorry, my ears are ringing.*, or *And I thought it's the quiet ones you oughta watch.* (or some variant with sloppier punctuation and capitalisation)."
   ]
  },
  {
   "cell_type": "code",
   "execution_count": null,
   "metadata": {},
   "outputs": [],
   "source": []
  },
  {
   "cell_type": "markdown",
   "metadata": {},
   "source": [
    "*Hints:*\n",
    "If you're stuck with the exercise, highlight the text below to read some tips.\n",
    "\n",
    "<span style=\"color:#000000;background-color:#000000;\">\n",
    "We already have a function for making only the first letter of each word uppercase.\n",
    "If you don't remember what it is, we introduced it when looking at string methods like .upper() and .lower().\n",
    "</span>\n",
    "\n",
    "<span style=\"color:#000000;background-color:#000000;\">\n",
    "Inserting !!! after every word is the same as replacing every space after a word by \"!!! \" (note the space after !!!).\n",
    "So all you have to figure out is how you can make sure there is exactly one space after each word.\n",
    "Think about it for a bit.\n",
    "If you're still stuck, check the next hint.\n",
    "</span>"
   ]
  },
  {
   "cell_type": "markdown",
   "metadata": {},
   "source": [
    "<span style=\"color:#000000;background-color:#000000;\">\n",
    "First, replace every punctuation symbol (.!?,;:) by a space.\n",
    "Assuming that the user input ends with a punctuation symbol, now every word has at least one space after it.\n",
    "But some may have two spaces.\n",
    "For instance, \", \" would become two spaces after the comma is replaced by space.\n",
    "So you also have to replace each instance of two spaces by one space.\n",
    "Otherwise, some words will be followed by \"!!! !!! \" instead of just \"!!! \".\n",
    "</span>"
   ]
  },
  {
   "cell_type": "markdown",
   "metadata": {},
   "source": [
    "**Problem. (3pt)** \n",
    "\n",
    "We saw in previous units that when working with text we often don't want to treat the input as a single string, but what you actually want is a list of individual words.\n",
    "Instead of the string\n",
    "\n",
    "```python\n",
    "\"This string is a string, not a list, as you can see.\"\n",
    "```\n",
    "\n",
    "you might actually want the list\n",
    "\n",
    "```python\n",
    "[\"This\", \"string\", \"is\", \"a\", \"string\", \"not\", \"a\", \"list\", \"as\", \"you\", \"can\", \"see\"]\n",
    "```\n",
    "\n",
    "Notice that the list may contain duplicates --- reading the list from left to right must give us the original sentence without any omissions.\n",
    "The process of breaking up a string into a list of words is called **tokenization**, and it is really important in language technology.\n",
    "\n",
    "We have seen already methods to accomplish this task, but in this exercise you should  think about how to achieve it with a regular expression.\n",
    "\n",
    "**The task:** complete the function `tokenize()` with a regular expression that saves in a variable `token_list` the list of individual words in `the_string`. You can do this in a single line of code."
   ]
  },
  {
   "cell_type": "code",
   "execution_count": null,
   "metadata": {},
   "outputs": [],
   "source": [
    "import re\n",
    "\n",
    "# define a custom tokenizer function\n",
    "def tokenize(the_string):\n",
    "    #add your code here\n",
    "\n",
    "    return token_list\n",
    "\n",
    "#we can use this function to test whether tokenize works or not\n",
    "def ex_print(example):\n",
    "    print(\"The sentence is:\")\n",
    "    print(example)\n",
    "    print(\"Tokenization yields this list:\")\n",
    "    print(tokenize(example))\n",
    "    \n",
    "    \n",
    "ex_print(\"This is an example sentence\")"
   ]
  },
  {
   "cell_type": "markdown",
   "metadata": {},
   "source": [
    "*Hints:*\n",
    "If you're stuck with the exercise, highlight the text below to read some tips.\n",
    "\n",
    "<span style=\"color:#000000;background-color:#000000;\">\n",
    "You need to things to make this reg expression work: 1)recall that `re.findall()` returns a list of all its matches\n",
    "2) A word is just a sequence of symbols, separated by a white space. What is the shortcut to match every alphanumerical symbol in English? And how can we match sequences of symbols of *any length*?\n",
    "</span>\n",
    "\n"
   ]
  },
  {
   "cell_type": "markdown",
   "metadata": {},
   "source": [
    "**Optional Extra-credit Problem. (5pt)**\n",
    "\n",
    "Lord Loudmouth has a lovely wife, *Lady Lunatic*.\n",
    "\n",
    "- Every command she turns into a sentence (exclamation marks become dots).\n",
    "- Every sentence she turns into a question (dots become question marks).\n",
    "- Every question she turns into a command (question marks become exclamation marks).\n",
    "\n",
    "Write an initial draft of the code for Lady Lunatic.\n",
    "Two important hints:\n",
    "\n",
    "1.  As mentioned in an earlier example, `?` also has a special meaning in regular expressions, so make sure to escape it with `\\`.\n",
    "2.  Special characters only need to be escaped in the first part of `re.sub`, i.e. the part that specifies what should be replaced.\n",
    "    In the second part, where it says what to replace the match with, characters **must not** be escaped.\n",
    "    Yeah, regular expressions are a little finicky, that's why it's important to practice them a lot.\n",
    "    \n",
    "Once you have finished your draft, test it on the following strings:\n",
    "\n",
    "- \"Let it go!\"\n",
    "- \"I am tired.\"\n",
    "- \"You don't like me anymore?\"\n",
    "- \"You don't like me anymore? Shut up! You old bastard.\"\n",
    "\n",
    "Did things turn out the way you expected?\n",
    "What do you think went wrong?\n",
    "\n",
    "Once you've thought about this for a bit (and put your answers below), write up a second draft that works for the examples above (but may fail on some other sentences that include, say, `|`, or `@`)."
   ]
  },
  {
   "cell_type": "code",
   "execution_count": null,
   "metadata": {},
   "outputs": [],
   "source": [
    "#put your first draft here"
   ]
  },
  {
   "cell_type": "code",
   "execution_count": null,
   "metadata": {},
   "outputs": [],
   "source": [
    "# if your first draft had problems based on the extra test, put a second draft fixing the here"
   ]
  },
  {
   "cell_type": "markdown",
   "metadata": {},
   "source": [
    "*Hints:*\n",
    "If you're stuck with the exercise, highlight the text below to read some tips.\n",
    "\n",
    "<span style=\"color:#000000;background-color:#000000;\">\n",
    "In your first draft, you probably used three substitutions.\n",
    "One turns ! to ., one turns . to ?, and one turns ? to !.\n",
    "This creates a big problem.\n",
    "If you run the three substitutions in sequence, then all punctuation eventually becomes !:\n",
    "\"What? Shut up! Dummy.\" -> \"What? Shut up. Dummy.\" -> \"What? Shut up? Dummy?\" -> \"What! Shut up! Dummy!\"\n",
    "</span>\n",
    "\n",
    "<span style=\"color:#000000;background-color:#000000;\">\n",
    "In order to fix this, you have to create placeholders.\n",
    "For example, it is very unlikely that the user ever writes \"@@@@@\" or \"|||||\".\n",
    "So replace ! by @@@@@, . by |||||, and ? by !:\n",
    "\"What? Shut up! Dummy.\" -> \"What? Shut up@@@@@ Dummy.\" -> \"What? Shut up@@@@@ Dummy|||||\" -> \"What! Shut up@@@@@ Dummy |||||\"\n",
    "</span>\n",
    "\n",
    "<span style=\"color:#000000;background-color:#000000;\">\n",
    "Don't forget to replace @@@@@ by ! and ||||| by . at the end.\n",
    "</span>"
   ]
  },
  {
   "cell_type": "code",
   "execution_count": null,
   "metadata": {},
   "outputs": [],
   "source": []
  }
 ],
 "metadata": {
  "kernelspec": {
   "display_name": "Python 3",
   "language": "python",
   "name": "python3"
  },
  "language_info": {
   "codemirror_mode": {
    "name": "ipython",
    "version": 3
   },
   "file_extension": ".py",
   "mimetype": "text/x-python",
   "name": "python",
   "nbconvert_exporter": "python",
   "pygments_lexer": "ipython3",
   "version": "3.8.5"
  }
 },
 "nbformat": 4,
 "nbformat_minor": 2
}
