{
 "cells": [
  {
   "cell_type": "markdown",
   "metadata": {},
   "source": [
    "<div style=\"text-align: right\">\n",
    "    <i>\n",
    "        LING 5981/6080: Fundamentals of Python <br>\n",
    "        Fall 2020 <br>\n",
    "        Aniello De Santo\n",
    "    </i>\n",
    "</div>\n",
    "\n",
    "# Notebook 13: measuring string distances\n",
    "\n",
    "Here is the discussion of some algorithms that measure distances between two strings. The algorithms exemplified here are **Hamming distance** and **Levenstein distance**, however, many others exist and are widely used as well. Check [this link](https://www.joyofdata.de/blog/comparison-of-string-distance-algorithms/) for the other algorithms.\n",
    "\n",
    "\n",
    "## Measuring distances\n",
    "\n",
    "Similarity of strings is important for:\n",
    "  * determining how natural languages are related;\n",
    "  * seeing how close two gene sequences are;\n",
    "  * detecting OCR errors and other spellcheckers...\n",
    "  \n",
    "  However, the similarity can be measured in many different ways."
   ]
  },
  {
   "cell_type": "markdown",
   "metadata": {},
   "source": [
    "## Hamming distance\n",
    "\n",
    "**Hamming distance** is measured by the number of times two strings had **different** symbols on same indices. \n",
    "\n",
    "    String 1: linguist\n",
    "    String 2: language\n",
    "    Distance: .-...--- : 4\n",
    "    \n",
    "    String 1: physics\n",
    "    String 2: psychic\n",
    "    Distance: .-.---- : 5\n",
    "    \n",
    "    String 1: abab\n",
    "    String 2: baba\n",
    "    Distance: ---- : 4"
   ]
  },
  {
   "cell_type": "markdown",
   "metadata": {},
   "source": [
    "**Practice.** Implement a function measuring Hamming distance between two strings. For now, assume that only strings of the same length can be compared."
   ]
  },
  {
   "cell_type": "code",
   "execution_count": null,
   "metadata": {},
   "outputs": [],
   "source": [
    "def hamming_distance(str1, str2):\n",
    "    \"\"\" Implements Hamming distance between str1 and str2.\n",
    "    \n",
    "    Arguments:\n",
    "      - str1 (str): some string;\n",
    "      - str2 (str): another string.\n",
    "      \n",
    "    Outputs:\n",
    "      - int: value of the Hamming distance between str1 and str2.\n",
    "    \"\"\"\n",
    "    pass"
   ]
  },
  {
   "cell_type": "markdown",
   "metadata": {},
   "source": [
    "Test your implementation below."
   ]
  },
  {
   "cell_type": "code",
   "execution_count": null,
   "metadata": {},
   "outputs": [],
   "source": [
    "test_words = [(\"linguist\", \"language\"), (\"physics\", \"psychic\"), (\"abab\", \"baba\")]\n",
    "\n",
    "for pair in test_words:\n",
    "    print(pair, \"===>\", hamming_distance(pair[0], pair[1]))"
   ]
  },
  {
   "cell_type": "markdown",
   "metadata": {},
   "source": [
    "We know that the items within `test_words` are always pairs. In such cases, during the iteration, Python allows to \"unpack\" the values of the items."
   ]
  },
  {
   "cell_type": "code",
   "execution_count": null,
   "metadata": {
    "scrolled": true
   },
   "outputs": [],
   "source": [
    "test_words = [(\"linguist\", \"language\"), (\"physics\", \"psychic\")]\n",
    "\n",
    "for v, u in test_words:\n",
    "    print((v, u), \"===>\", hamming_distance(v, u))"
   ]
  },
  {
   "cell_type": "markdown",
   "metadata": {},
   "source": [
    "#### `assert` statement\n",
    "\n",
    "Let us enhance the solution using _assertions_. Like raising errors, they catch unsatisfactory states of objects or programs. **Assertions** are a way to show which assumptions are made in this code, i.e. to restrict the code in such a way that it works only if some assumptions hold.\n",
    "\n",
    "    assert conditional_expression\n",
    "    \n",
    "If the conditional expression evaluates to false, AssertionError is raised."
   ]
  },
  {
   "cell_type": "code",
   "execution_count": null,
   "metadata": {},
   "outputs": [],
   "source": [
    "def add_numbers(a, b):\n",
    "    assert type(a) is int and type(b) is int\n",
    "    print(a + b)\n",
    "    \n",
    "add_numbers(5, 3)"
   ]
  },
  {
   "cell_type": "markdown",
   "metadata": {},
   "source": [
    "An error message can be added to the assertion error as well:\n",
    "\n",
    "    assert conditional_expression, message"
   ]
  },
  {
   "cell_type": "code",
   "execution_count": null,
   "metadata": {},
   "outputs": [],
   "source": [
    "def add_numbers(a, b):\n",
    "    assert type(a) is int and type(b) is int, \"I only work with numbers!\"\n",
    "    print(a + b)\n",
    "    \n",
    "add_numbers(5, 3)"
   ]
  },
  {
   "cell_type": "markdown",
   "metadata": {},
   "source": [
    "**Practice.** Now, in the implementation of the Hamming distance function, add the assertion checking that both strings are of the same length."
   ]
  },
  {
   "cell_type": "code",
   "execution_count": null,
   "metadata": {},
   "outputs": [],
   "source": []
  },
  {
   "cell_type": "markdown",
   "metadata": {},
   "source": [
    "**Question&Practice.** What are the ways to extend Hamming distance to strings of non-equal length? Let's implement one of the possible extensions!"
   ]
  },
  {
   "cell_type": "code",
   "execution_count": null,
   "metadata": {},
   "outputs": [],
   "source": []
  },
  {
   "cell_type": "markdown",
   "metadata": {},
   "source": [
    "## Edit distance (Levenshtein distance)\n",
    "\n",
    "**Edit distance** between strings $A$ and $B$ measures the number of _edit operations_ that one needs to perform with a string $A$ to get the string $B$.\n",
    "\n",
    "_Edit operations:_\n",
    "  * **replace** (\"aaa\" -> \"aba\");\n",
    "  * **add** (\"aaa\" -> \"aaab\");\n",
    "  * **remove** (\"aba\" -> \"aa\").\n",
    "  \n",
    "For example, the edit distance between \"anna\" and \"nana\" is $2$.\n",
    "\n",
    "1. remove the initial \"a\" from \"anna\" $\\rightarrow$ \"nna\";\n",
    "2. insert \"a\" after the initial \"n\" in \"nna\" $\\rightarrow$ \"nana\".\n",
    "\n",
    "Alternatively,\n",
    "\n",
    "1. replace the initial \"a\" by \"n\", \"anna\" $\\rightarrow$ \"nnna\";\n",
    "2. replace the second position by \"a\", \"nnna\" $\\rightarrow$ \"nana\".\n",
    "\n",
    "\n",
    "Notice, that the two input strings do not need to be of the same length anymore."
   ]
  },
  {
   "cell_type": "markdown",
   "metadata": {},
   "source": [
    "### Algorithm finding smallest possible edit distance between two strings\n",
    "\n",
    "    Given:   two strings\n",
    "    Example: str1 = \"aba\" and str2 = \"bab\"\n",
    "    \n",
    "    1. Construct the matrix M of the following shape:\n",
    "    \n",
    "            \"\"    a    b    a\n",
    "        \"\"   .    .    .    .\n",
    "        b    .    .    .    .\n",
    "        a    .    .    .    .\n",
    "        b    .    .    .    .\n",
    "        \n",
    "        Consider only the cells denoted as . as a part of the matrix.\n",
    "        Then, the size of the matrix is len(str1) + 1 by len(str2) + 1.\n",
    "        \n",
    "        M[m][n] stands for the value of the cell in the m-th row and\n",
    "        n-th column.\n",
    "        \n",
    "    2. Every cell will stand for the edit distance from the beginning\n",
    "       of the strings A and B, and up to that cell.\n",
    "       \n",
    "       We can pre-fill some values already:\n",
    "       \n",
    "            \"\"    a    b    a\n",
    "        \"\"   0    1    2    3\n",
    "        b    1    .    .    .\n",
    "        a    2    .    .    .\n",
    "        b    3    .    .    .\n",
    "        \n",
    "        Indeed, a distance from \"\" to \"\" is 0, from \"\" to \"a\" is 1, from\n",
    "        \"\" to \"ab\" is 2, and so on.\n",
    "        \n",
    "        M[0][0] = 0;\n",
    "        M[0][3] = 3;\n",
    "        M[2][0] = 2; etc.\n",
    "        \n",
    "     3. For every cell in every remaining rows, look at the value of the\n",
    "        row and the column that corresponds to it.\n",
    "        Are these two values same?\n",
    "        \n",
    "        3.1 Same -> copy the value from the cell B when X is the \n",
    "            current cell.\n",
    "            \n",
    "             B    ...\n",
    "            ...    X\n",
    "            \n",
    "            M[n][m] = M[n-1][m-1]\n",
    "            \n",
    "        3.2 Different -> put into the current cell X the minimum value of\n",
    "            the cells A, B, C and add 1 to X.\n",
    "            \n",
    "            A     B\n",
    "            C     X\n",
    "            \n",
    "            M[n][m] = min(M[n-1][m-1], M[n-1][m], M[n][m-1]) + 1\n",
    "            \n",
    "      4. Finally, the lowest right cell contains the minimal edit distance\n",
    "         between the string str1 and str2."
   ]
  },
  {
   "cell_type": "markdown",
   "metadata": {},
   "source": [
    "**Example.** For example, consider the following table calculating the edit distance between the strings \"aba\" and \"bab\".\n",
    "\n",
    "            \"\"    a    b    a\n",
    "        \"\"   0    1    2    3\n",
    "        b    1    1    1    2\n",
    "        a    2    1    2    1\n",
    "        b    3    2    1    2\n",
    "        \n",
    "The value of the lowest bottom cell is $2$, and therefore the edit distance between \"aba\" and \"bab\" is $2$."
   ]
  },
  {
   "cell_type": "markdown",
   "metadata": {},
   "source": [
    "**Practice 1.** Extend the table above in order to calculate the edit distance between \"abab\" and \"baba\". Notice that the result is different from the one predicted by the Hamming distance!\n",
    "\n",
    "**Practice 2.** Calculate the edit distance between strings \"linguist\" and \"language\"."
   ]
  },
  {
   "cell_type": "markdown",
   "metadata": {},
   "source": [
    "### Implementation of edit distance.\n",
    "\n",
    "Let's implement the algorithm finding the smallest edit distance step-by-step."
   ]
  },
  {
   "cell_type": "code",
   "execution_count": null,
   "metadata": {},
   "outputs": [],
   "source": [
    "def edit_distance(str1, str2):\n",
    "    \"\"\"\n",
    "    This function implements the algorithm calculating\n",
    "    the minimal edit distance between two strings.\n",
    "    \n",
    "    Arguments:\n",
    "      -- str1 (str): some string;\n",
    "      -- str2 (str): another string.\n",
    "      \n",
    "    Outputs:\n",
    "      -- int: the smallest edit distance in-between\n",
    "              str1 and str2.\n",
    "    \"\"\"\n",
    "    pass"
   ]
  },
  {
   "cell_type": "markdown",
   "metadata": {},
   "source": [
    "**Part 1**. Let us start implementing the algorithm by initializing a matrix (a list of lists) $n$ by $m$, where $n = \\textrm{len(str1)} + 1$ and $m = \\textrm{len(str2)} + 1$. As a default value of cells, let us choose None so that we see which cells are not initialized yet."
   ]
  },
  {
   "cell_type": "code",
   "execution_count": null,
   "metadata": {},
   "outputs": [],
   "source": []
  },
  {
   "cell_type": "markdown",
   "metadata": {},
   "source": [
    "**Part 2.** Pre-fill the first row and the first column of that table."
   ]
  },
  {
   "cell_type": "code",
   "execution_count": null,
   "metadata": {},
   "outputs": [],
   "source": []
  },
  {
   "cell_type": "markdown",
   "metadata": {},
   "source": [
    "**Part 3.** Now, iterate over every non-initialized cell of the matrix and fill it according to the rules discussed above:\n",
    "  * `M[n][m] = M[n-1][m-1]` if the current positions of the two strings match;\n",
    "  * `M[n][m] = min(M[n-1][m-1], M[n-1][m], M[n][m-1]) + 1` otherwise."
   ]
  },
  {
   "cell_type": "code",
   "execution_count": null,
   "metadata": {},
   "outputs": [],
   "source": []
  },
  {
   "cell_type": "markdown",
   "metadata": {},
   "source": [
    "Now, let's test the algorithm."
   ]
  },
  {
   "cell_type": "code",
   "execution_count": null,
   "metadata": {},
   "outputs": [],
   "source": [
    "test_words = [(\"linguist\", \"language\"), (\"physics\", \"psychic\"), (\"abab\", \"baba\")]\n",
    "\n",
    "for v, u in test_words:\n",
    "    print((v, u), \"===>\", edit_distance(v, u))"
   ]
  },
  {
   "cell_type": "markdown",
   "metadata": {},
   "source": [
    "**Dynamic programming** (DP) is a method of solving a problem by breaking it in smaller sub-problems, solving smaller problems once, saving the results, and then re-using those results. \n",
    "The matrix-based approach to calculating the edit distance is a traditional example of DP."
   ]
  },
  {
   "cell_type": "markdown",
   "metadata": {},
   "source": [
    "### Normalizing the values\n",
    "\n",
    "However, Levenshtein distance gives not always intuitive predictions."
   ]
  },
  {
   "cell_type": "code",
   "execution_count": null,
   "metadata": {},
   "outputs": [],
   "source": [
    "test_words = [(\"Eugenio\", \"Evgenij\"), (\"of\", \"in\")]\n",
    "\n",
    "for v, u in test_words:\n",
    "    print((v, u), \"===>\", edit_distance(v, u))"
   ]
  },
  {
   "cell_type": "markdown",
   "metadata": {},
   "source": [
    "**Normalization** is an adjustment of values so that they follow a common scale.\n",
    "\n",
    "As of the edit distance algorithm, it makes sense to abstract from the lengths of the two strings in order to avoid the problem highlighted above.\n",
    "The \"traditional\" way to perform this normalization is to divide the raw edit distance score by the sum of lengths of the two strings.\n",
    "\n",
    "    normalized_edit_distance(str1, str2) = edit_distance(str1, str2) / (len(str1) + len(str2))"
   ]
  },
  {
   "cell_type": "markdown",
   "metadata": {},
   "source": [
    "**Practice.** Implement normalized edit distance."
   ]
  },
  {
   "cell_type": "code",
   "execution_count": null,
   "metadata": {},
   "outputs": [],
   "source": []
  }
 ],
 "metadata": {
  "kernelspec": {
   "display_name": "Python 3",
   "language": "python",
   "name": "python3"
  },
  "language_info": {
   "codemirror_mode": {
    "name": "ipython",
    "version": 3
   },
   "file_extension": ".py",
   "mimetype": "text/x-python",
   "name": "python",
   "nbconvert_exporter": "python",
   "pygments_lexer": "ipython3",
   "version": "3.8.5"
  }
 },
 "nbformat": 4,
 "nbformat_minor": 2
}
