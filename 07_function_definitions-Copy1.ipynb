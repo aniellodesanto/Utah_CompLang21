{
 "cells": [
  {
   "cell_type": "markdown",
   "metadata": {},
   "source": [
    "|<div style=\"text-align: right\">\n",
    "    <i>\n",
    "        LING 3300: Computers & Language <br>\n",
    "        Fall 2021 <br>\n",
    "        Aniello De Santo\n",
    "    </i>\n",
    "</div>\n",
    "\n",
    "\n",
    "\n",
    "# Notebook 7: function definition\n",
    "\n",
    "This notebook explains how to define custom functions using `def`, and exemplifies the use of `lambda` functions. It then discusses recursive function definition using the famous exaple of the [Fibonacci numbers](https://en.wikipedia.org/wiki/Fibonacci_number). We also briefly discuss how to empirically evaluate the running time of our code."
   ]
  },
  {
   "cell_type": "markdown",
   "metadata": {},
   "source": [
    "## `def` to define a custom function\n",
    "\n",
    "In the previous notebook, we wrote a code that detects if a given integer is prime or not. \n",
    "\n",
    "One of the ways to do it is to define the following two cases:\n",
    "  * `not n % d` is true every time when `n % d` gives `0`, i.e. when `n` is divisible by `d`. In this case, we announce that the number is not prime, and break out of the loop;\n",
    "  * (`not n % d` and) `d == n - 1` is true only when we are currently checking the last possible diviser, and none of them was able to divide `n` without a remainder."
   ]
  },
  {
   "cell_type": "code",
   "execution_count": null,
   "metadata": {},
   "outputs": [],
   "source": [
    "n = 341\n",
    "\n",
    "for d in range(2, n):\n",
    "    if not n % d:\n",
    "        print(\"Number\", n, \"is not prime.\")\n",
    "        break\n",
    "    elif d == n - 1:\n",
    "        print(\"Number\", n, \"is prime.\")"
   ]
  },
  {
   "cell_type": "markdown",
   "metadata": {},
   "source": [
    "If we have a list of numbers and we want to test if these numbers are prime or not, we would need to copy and paste the same code."
   ]
  },
  {
   "cell_type": "code",
   "execution_count": null,
   "metadata": {},
   "outputs": [],
   "source": [
    "numbers = [44, 29, 8881, 305, 17]\n",
    "\n",
    "for n in numbers:\n",
    "    for d in range(2, n):\n",
    "        if not n % d:\n",
    "            print(\"Number\", n, \"is not prime.\")\n",
    "            break\n",
    "        elif d == n - 1:\n",
    "            print(\"Number\", n, \"is prime.\")"
   ]
  },
  {
   "cell_type": "markdown",
   "metadata": {},
   "source": [
    "If we wanted to do it again alter on in the notebook, we would need to once again copy and paste.\n",
    "In general, it would be nice to have a way to **reuse** some code that we wrote over and over, just changing what we want that code to execute over (it's **input parameters**).\n",
    "\n",
    "Note that we have already seen examples of this. When we use `print()` we know exactly what that is coing to do, depending on what we pass as it's **argument**: the value in the parenthesis.\n",
    "\n",
    "We now want a way to do this, but with code written by us directly: this is what custm functions are for."
   ]
  },
  {
   "cell_type": "markdown",
   "metadata": {},
   "source": [
    "**Defining custom functions** allows to \"pack\" some code in a function, assign it a name, and then call it by its name instead of repeating the same code in several places.\n",
    "\n",
    "    def function_name(argument_1, argument_2, <...>, argument_n):\n",
    "        # body of the function\n",
    "        \n",
    "`def` is the operator \"saving\" the function definition. `function_name` stands for a **name** that is assigned to the function. For example, we can define a function `is_prime`. After the name of the function, we list **arguments** that this function will be taking. Only one argument is needed for the `is_prime` function, an integer `n`. Th body of the function then will contain the code telling if `n` is prime or not."
   ]
  },
  {
   "cell_type": "code",
   "execution_count": null,
   "metadata": {},
   "outputs": [],
   "source": [
    "def is_prime(n):\n",
    "    for d in range(2, n):\n",
    "        if not n % d:\n",
    "            print(\"Number\", n, \"is not prime.\")\n",
    "            break\n",
    "        elif d == n - 1:\n",
    "            print(\"Number\", n, \"is prime.\")"
   ]
  },
  {
   "cell_type": "code",
   "execution_count": null,
   "metadata": {},
   "outputs": [],
   "source": [
    "n = int(input())\n",
    "is_prime()"
   ]
  },
  {
   "cell_type": "code",
   "execution_count": null,
   "metadata": {},
   "outputs": [],
   "source": [
    "numbers = [44, 29, 8881, 305, 17]\n",
    "\n",
    "for n in numbers:\n",
    "    is_prime(n)  "
   ]
  },
  {
   "cell_type": "markdown",
   "metadata": {},
   "source": [
    "The previous cell did not produce any output. The function was _defined,_ but _not ran._ \n",
    "This is because the fucntion definition is like an empty template: we know what the code is supposed to do given n, but we don't know what n is yet!\n",
    "\n",
    "In order to run a function, we need to **call it** by its name and provide the needed arguments. In this case, we can directly provide an integer instead of the `n`: that argument was a\"placeholder\" used earlier in the function definition."
   ]
  },
  {
   "cell_type": "code",
   "execution_count": null,
   "metadata": {},
   "outputs": [],
   "source": [
    "is_prime(17)"
   ]
  },
  {
   "cell_type": "code",
   "execution_count": null,
   "metadata": {},
   "outputs": [],
   "source": [
    "numbers = [44, 29, 8881, 305, 17]\n",
    "\n",
    "for i in numbers:\n",
    "    is_prime(i)"
   ]
  },
  {
   "cell_type": "markdown",
   "metadata": {},
   "source": [
    "**Example** As an example of a very simple function, we can define a function that adds two numbers together."
   ]
  },
  {
   "cell_type": "code",
   "execution_count": null,
   "metadata": {},
   "outputs": [],
   "source": [
    "def add_numbers(n1, n2):\n",
    "    print(n1, \"+\", n2, \"=\", n1 + n2)"
   ]
  },
  {
   "cell_type": "code",
   "execution_count": null,
   "metadata": {},
   "outputs": [],
   "source": [
    "add_numbers(93, 2)"
   ]
  },
  {
   "cell_type": "markdown",
   "metadata": {},
   "source": [
    "It is also possible to define a function that takes $0$ arguments."
   ]
  },
  {
   "cell_type": "code",
   "execution_count": null,
   "metadata": {},
   "outputs": [],
   "source": [
    "def greetings():\n",
    "    print(\"This function has no arguments.\")\n",
    "    print(\"It just greets the user whenever it is executed.\")\n",
    "    print(\"Hello! :)\")\n",
    "    \n",
    "greetings()"
   ]
  },
  {
   "cell_type": "markdown",
   "metadata": {},
   "source": [
    "**Practice 1.** Define a function `greet_user` that greets a person whose name is given to the function as argument.\n",
    "\n",
    "    Function call: greet_user(\"Olga\")\n",
    "    Output:        Hello, Olga!\n",
    "    \n",
    "    \n",
    "    Function call: greet_user(\"Jim\")\n",
    "    Output:        Hello, Jim!"
   ]
  },
  {
   "cell_type": "code",
   "execution_count": null,
   "metadata": {},
   "outputs": [],
   "source": [
    "def greet_user(name):\n",
    "    print(\"hello\", name)"
   ]
  },
  {
   "cell_type": "code",
   "execution_count": null,
   "metadata": {},
   "outputs": [],
   "source": [
    "name = input(\"give me a name: \")\n",
    "greet_user(name)"
   ]
  },
  {
   "cell_type": "markdown",
   "metadata": {},
   "source": [
    "**Practice 2.** Define a function `greet_team` that takes a list of names as input and greets every user from that list by their name."
   ]
  },
  {
   "cell_type": "code",
   "execution_count": null,
   "metadata": {},
   "outputs": [],
   "source": [
    "lst = [\"Ani\", \"Steven\", \"Pearl\", \"Garnet\"]\n",
    "\n",
    "def greet_team(names):\n",
    "    for name in names:\n",
    "        greet_user(name)\n",
    "        \n",
    "greet_team(lst)"
   ]
  },
  {
   "cell_type": "markdown",
   "metadata": {},
   "source": [
    "**Example** As an example of a slightly more complex dependencies in functions, consider the code below. `leap_year` is a function telling if the given `year` is a leap year or not. Then, the `year_info` function takes a year as argument and runs two functions: first, it checks if `year` is leap by running the `leap_year` function, and then it also tests if that number is prime by calling the `is_prime` function defined earlier."
   ]
  },
  {
   "cell_type": "code",
   "execution_count": null,
   "metadata": {},
   "outputs": [],
   "source": [
    "def leap_year(year):\n",
    "    if year % 4 == 0 and (year % 100 != 0 or year % 400 == 0):\n",
    "        print(\"The year\", year, \"is leap.\")\n",
    "    else:\n",
    "        print(\"The year\", year, \"is not leap.\")\n",
    "        \n",
    "def year_info(year):\n",
    "    leap_year(year)\n",
    "    is_prime(year)\n",
    "    \n",
    "year_info(2004)"
   ]
  },
  {
   "cell_type": "markdown",
   "metadata": {},
   "source": [
    "It is a common practice to add a couple of informational lines explaining what the function does. Strings like those are called **docstrings** and are added right after the function definition line. They are surrounded by triple quotation marks.\n",
    "\n",
    "    def function_name(argument_1, argument_2, <...>, argument_n):\n",
    "        \"\"\" Docstring \"\"\"\n",
    "        \n",
    "        # body of the function"
   ]
  },
  {
   "cell_type": "code",
   "execution_count": null,
   "metadata": {},
   "outputs": [],
   "source": [
    "def leap_year(year):\n",
    "    \"\"\"\n",
    "    This function tells if the given year is leap or not.\n",
    "    \n",
    "    Arguments:\n",
    "        * year (int): an integer representing a year.\n",
    "    \"\"\"\n",
    "    if year % 4 == 0 and (year % 100 != 0 or year % 400 == 0):\n",
    "        print(\"The year\", year, \"is leap.\")\n",
    "    else:\n",
    "        print(\"The year\", year, \"is not leap.\")"
   ]
  },
  {
   "cell_type": "markdown",
   "metadata": {},
   "source": [
    "## `return` statement\n",
    "\n",
    "We can define a function that prints first `n` prime numbers."
   ]
  },
  {
   "cell_type": "code",
   "execution_count": null,
   "metadata": {},
   "outputs": [],
   "source": [
    "def first_n_primes(n):\n",
    "    \"\"\"\n",
    "    This function prints on the screen first n primes.\n",
    "    \n",
    "    Arguments:\n",
    "        * n (int): a number of primes to be generated.\n",
    "    \"\"\"\n",
    "    current_number = 2\n",
    "    primes_produced = 0\n",
    "\n",
    "    while primes_produced < n:\n",
    "        prime_guess = True\n",
    "        \n",
    "        for d in range(2, current_number):\n",
    "            if current_number % d == 0:\n",
    "                prime_guess = False\n",
    "                break\n",
    "                \n",
    "        if prime_guess:\n",
    "            print(\"Found a prime number:\", current_number)\n",
    "            primes_produced += 1\n",
    "\n",
    "        current_number += 1"
   ]
  },
  {
   "cell_type": "code",
   "execution_count": null,
   "metadata": {},
   "outputs": [],
   "source": [
    "first_n_primes(18)"
   ]
  },
  {
   "cell_type": "markdown",
   "metadata": {},
   "source": [
    "However, this code simply _prints_ first `n` prime numbers on the screen. It does not allow us to create a list with `n` first prime numbers.\n",
    "\n",
    "The ``return`` statement allows a function to **return** a value instead of printing it on the screen."
   ]
  },
  {
   "cell_type": "code",
   "execution_count": null,
   "metadata": {},
   "outputs": [],
   "source": [
    "def add_numbers(n1, n2):\n",
    "    \"\"\" Adds numbers n1 and n2 together. \"\"\"\n",
    "    return n1 + n2\n",
    "    print(n1 + n2)\n",
    "\n",
    "def add_numbers2(n1, n2):\n",
    "    \"\"\" Adds numbers n1 and n2 together. \"\"\"\n",
    "    print(n1 + n2)\n",
    "    return "
   ]
  },
  {
   "cell_type": "code",
   "execution_count": null,
   "metadata": {},
   "outputs": [],
   "source": []
  },
  {
   "cell_type": "code",
   "execution_count": null,
   "metadata": {},
   "outputs": [],
   "source": [
    "print(add_numbers(11, 13))\n",
    "#print(s)\n",
    "print(add_numbers2(21, 23))"
   ]
  },
  {
   "cell_type": "markdown",
   "metadata": {},
   "source": [
    "As another example, consider a function that extracts bigrams from a given word."
   ]
  },
  {
   "cell_type": "code",
   "execution_count": null,
   "metadata": {},
   "outputs": [],
   "source": [
    "def bigramize(string):\n",
    "    \"\"\" Creates a list of bigrams from the input string. \"\"\"\n",
    "    bigrams = []\n",
    "    for i in range(len(string) - 1):\n",
    "        bigram = string[i:i+2]\n",
    "        if bigram not in bigrams:\n",
    "            bigrams.append(bigram)\n",
    "    print(bigrams)\n",
    "    return\n",
    "    \n",
    "def bigramize_o(string):\n",
    "    \"\"\" Creates a list of bigrams from the input string. \"\"\"\n",
    "    bigrams = []\n",
    "    for i in range(len(string) - 1):\n",
    "        bigram = string[i:i+2]\n",
    "        if bigram not in bigrams:\n",
    "            bigrams.append(bigram)\n",
    "    return bigrams"
   ]
  },
  {
   "cell_type": "code",
   "execution_count": null,
   "metadata": {},
   "outputs": [],
   "source": [
    "bigrams = bigramize(\"banana\")\n",
    "print(\"Bigrams:\", bigrams)"
   ]
  },
  {
   "cell_type": "code",
   "execution_count": null,
   "metadata": {},
   "outputs": [],
   "source": [
    "bigrams = bigramize_o(\"banana\")\n",
    "print(\"Bigrams:\", bigrams)"
   ]
  },
  {
   "cell_type": "markdown",
   "metadata": {},
   "source": [
    "**Question** What happens if we replace `return` with `print()` in the definition of bigramize? Would the function still work as expected? Why/Why not? (You can experiment with this!)"
   ]
  },
  {
   "cell_type": "markdown",
   "metadata": {},
   "source": [
    "**The `return` statement marks the point in which a function stops executing**: no code after the `return` statement can be ran.\n",
    "\n",
    "The code below shows that the `print` defined after the `return` is not executed."
   ]
  },
  {
   "cell_type": "code",
   "execution_count": null,
   "metadata": {},
   "outputs": [],
   "source": [
    "def add_numbers(n1, n2):\n",
    "    return n1 + n2\n",
    "    print(\"This function calculated the sum of those numbers.\")\n",
    "    \n",
    "add_numbers(4, 6)"
   ]
  },
  {
   "cell_type": "code",
   "execution_count": null,
   "metadata": {},
   "outputs": [],
   "source": [
    "def math_numbers(n1, n2):\n",
    "    return n1 + n2, n1 - n2, n1%n2\n",
    "    \n",
    "summ, sub, div = math_numbers(4, 6)\n",
    "print(summ,sub,div)\n",
    "print(math_numbers(4, 6))"
   ]
  },
  {
   "cell_type": "code",
   "execution_count": null,
   "metadata": {},
   "outputs": [],
   "source": []
  },
  {
   "cell_type": "markdown",
   "metadata": {},
   "source": [
    "The code below is the modified `is_prime` function. It returns True if the number is prime, and False otherwise."
   ]
  },
  {
   "cell_type": "code",
   "execution_count": null,
   "metadata": {},
   "outputs": [],
   "source": [
    "def is_prime(n):\n",
    "    for d in range(2, n):\n",
    "        if not n % d:\n",
    "            return False\n",
    "            break\n",
    "        elif d == n - 1:\n",
    "            return True"
   ]
  },
  {
   "cell_type": "markdown",
   "metadata": {},
   "source": [
    "Note that you can have multiple return statements in a function, but they are conditionally exclusive: there is no instance in which they both gets executed!\n",
    "\n",
    "Using `break` is excessive: the function stops its execution when it returns some value, so `break` is not needed at all."
   ]
  },
  {
   "cell_type": "code",
   "execution_count": null,
   "metadata": {},
   "outputs": [],
   "source": [
    "def is_prime(n):\n",
    "    for d in range(2, n):\n",
    "        if not n % d:\n",
    "            return False\n",
    "        elif d == n - 1:\n",
    "            return True"
   ]
  },
  {
   "cell_type": "markdown",
   "metadata": {},
   "source": [
    "When the `for` loop finishes and we did not encounter any `return` statements, we can safely assume that the number is prime: no other number was able to divide it without a non-zero remainder. Therefore, we can re-write the code and simplify it even more."
   ]
  },
  {
   "cell_type": "code",
   "execution_count": null,
   "metadata": {},
   "outputs": [],
   "source": [
    "def is_prime(n):\n",
    "    \"\"\" Checks if n is a prime number. \"\"\"\n",
    "    \n",
    "    for d in range(2, n):\n",
    "        if not n % d:\n",
    "            # return False as soon as we see that n can be divided\n",
    "            # by some number with a remainder 0\n",
    "            return False\n",
    "        \n",
    "    # if we passed the loop without returning False, it means that \n",
    "    # there are no numbers that can divide n, i.e. n is prime\n",
    "    return True"
   ]
  },
  {
   "cell_type": "markdown",
   "metadata": {},
   "source": [
    "**Question 1.** In what configurations can the body of the function have more than just a single `return` statement?\n",
    "\n",
    "**Question 2.** If a body of the function has no `return` statement, what does that function return? Experiment, try to print that value."
   ]
  },
  {
   "cell_type": "code",
   "execution_count": null,
   "metadata": {},
   "outputs": [],
   "source": []
  },
  {
   "cell_type": "markdown",
   "metadata": {},
   "source": [
    "**Practice.** The following function prints the first `n` prime numbers."
   ]
  },
  {
   "cell_type": "code",
   "execution_count": null,
   "metadata": {},
   "outputs": [],
   "source": [
    "def first_n_primes(n):\n",
    "\n",
    "    current_number = 2\n",
    "    primes_produced = 0\n",
    "\n",
    "    while primes_produced < n:\n",
    "        if is_prime(current_number):\n",
    "            print(\"Prime number:\", current_number)\n",
    "            primes_produced += 1\n",
    "        current_number += 1"
   ]
  },
  {
   "cell_type": "markdown",
   "metadata": {},
   "source": [
    "Re-write the function such that it returns a list of the first `n` prime numbers.\n",
    "\n",
    "    Function call:   first_n_primes(5)\n",
    "    Function output: [2, 3, 5, 7, 11]"
   ]
  },
  {
   "cell_type": "code",
   "execution_count": null,
   "metadata": {},
   "outputs": [],
   "source": [
    "def first_n_primes(n):\n",
    "\n",
    "    current_number = 2\n",
    "    primes_produced = 0\n",
    "    prime_l = []\n",
    "    \n",
    "    while primes_produced < n:\n",
    "        if is_prime(current_number):\n",
    "            prime_l.append(current_number)\n",
    "            #print(\"Prime number:\", current_number)\n",
    "            primes_produced += 1\n",
    "        current_number += 1\n",
    "    return prime_l\n",
    "\n",
    "#call\n",
    "first_n_primes(500)"
   ]
  },
  {
   "cell_type": "markdown",
   "metadata": {},
   "source": [
    "## Recursive function definition\n",
    "\n",
    "**[Fibonacci numbers](https://en.wikipedia.org/wiki/Fibonacci_number)** The Fibonacci sequence is a well known mathematical concept, with surprising appereances in nature. Watch [this TED talk](https://www.youtube.com/watch?v=SjSHVDfXHQ4)!\n",
    "The first two numbers of the Fibonacci sequence are $1$ and $1$. Every following number is defined as a sum of the two previous ones:\n",
    "\n",
    "    F[n] = F[n-2] + F[n-1]\n",
    "    \n",
    "The beginning of the Fibonacci sequence looks as follows:\n",
    "\n",
    "    1 1 2 3 5 8 13 21 34 55 89 <...>\n",
    "\n",
    "Below, there is a function generating the `n`th Fibonacci number. Take your time to undestand how exactly the function works to achieve its goal."
   ]
  },
  {
   "cell_type": "code",
   "execution_count": 7,
   "metadata": {},
   "outputs": [],
   "source": [
    "def fibonacci(n):\n",
    "    \"\"\"\n",
    "    A function calculating the n-th Fibonacci number.\n",
    "    \n",
    "    Arguments:\n",
    "      * n (int): the position of the Fibonacci number that needs to be generated.\n",
    "      \n",
    "    Outputs:\n",
    "      * int: the n-th Fibonacci number.\n",
    "    \"\"\"\n",
    "    previous = [1, 1]\n",
    "    while len(previous) < n:\n",
    "        new = previous[-2] + previous[-1]\n",
    "        previous.append(new)\n",
    "        \n",
    "    return previous[-1]"
   ]
  },
  {
   "cell_type": "code",
   "execution_count": 3,
   "metadata": {},
   "outputs": [
    {
     "data": {
      "text/plain": [
       "150804340016807970735635273952047185"
      ]
     },
     "execution_count": 3,
     "metadata": {},
     "output_type": "execute_result"
    }
   ],
   "source": [
    "#don't forget to call the function!\n",
    "fibonacci(170)"
   ]
  },
  {
   "cell_type": "markdown",
   "metadata": {},
   "source": [
    "The same task can be solved by defining the function _recursively_: the function has implements a simple base case, and then builds towards the more complex goal by calling itself over and over.\n",
    "We can simply define the **basic return** cases initially, and then buld the **recursive returns** such that they will always boil down to the basic cases."
   ]
  },
  {
   "cell_type": "code",
   "execution_count": 6,
   "metadata": {},
   "outputs": [],
   "source": [
    "def recursive_fibonacci(n):\n",
    "    if n in [1, 2]:\n",
    "        return 1\n",
    "    return recursive_fibonacci(n - 2) + recursive_fibonacci(n - 1)"
   ]
  },
  {
   "cell_type": "code",
   "execution_count": null,
   "metadata": {},
   "outputs": [],
   "source": []
  },
  {
   "cell_type": "code",
   "execution_count": null,
   "metadata": {},
   "outputs": [],
   "source": [
    "recursive_fibonacci(170)"
   ]
  },
  {
   "cell_type": "markdown",
   "metadata": {},
   "source": [
    "For example, consider the way the $7$th Fibonacci member is calculated. Calculating the $7$th member is the same as calculating the sum of the $5$th and $6$th members. Calculating the $5$th member is the sum of the $3$rd and the $4$th, and so on.\n",
    "This can be exemplified with the following tree. The basic return cases are marked in green (\"leaf\" computations\"), whereas the recursive steps are colored in blue (\"nodes\" requiring the additional depth)."
   ]
  },
  {
   "cell_type": "markdown",
   "metadata": {},
   "source": [
    "<img src=\"images/8_1.png\" width=\"550\">"
   ]
  },
  {
   "cell_type": "markdown",
   "metadata": {},
   "source": [
    "**Timing the code.** Let us now compare the performance of these two functions by _timing_ them."
   ]
  },
  {
   "cell_type": "code",
   "execution_count": 4,
   "metadata": {},
   "outputs": [],
   "source": [
    "from time import time"
   ]
  },
  {
   "cell_type": "markdown",
   "metadata": {},
   "source": [
    "The function `time` from the package `time` returns the number of seconds that passed since the beginning of the **Unix time** (also known as _epoch)._ It started on the **1st of January, 12:00 am, 1970**."
   ]
  },
  {
   "cell_type": "code",
   "execution_count": 5,
   "metadata": {},
   "outputs": [
    {
     "name": "stdout",
     "output_type": "stream",
     "text": [
      "Current time: 1638824299.526464\n"
     ]
    }
   ],
   "source": [
    "print(\"Current time:\", time())"
   ]
  },
  {
   "cell_type": "markdown",
   "metadata": {},
   "source": [
    "It is possible to time the code by \"saving\" the start and end times, and then substracting the start time from the end time, therefore yielding the number of seconds the code was running."
   ]
  },
  {
   "cell_type": "code",
   "execution_count": 10,
   "metadata": {},
   "outputs": [
    {
     "name": "stdout",
     "output_type": "stream",
     "text": [
      "8.20159912109375e-05\n"
     ]
    }
   ],
   "source": [
    "previous_time = time()\n",
    "\n",
    "fibonacci(35)\n",
    "\n",
    "current_time = time()\n",
    "runtime = current_time - previous_time\n",
    "print(runtime)"
   ]
  },
  {
   "cell_type": "code",
   "execution_count": 11,
   "metadata": {},
   "outputs": [
    {
     "name": "stdout",
     "output_type": "stream",
     "text": [
      "2.037479877471924\n"
     ]
    }
   ],
   "source": [
    "previous_time = time()\n",
    "\n",
    "recursive_fibonacci(35)\n",
    "\n",
    "current_time = time()\n",
    "runtime = current_time - previous_time\n",
    "print(runtime)"
   ]
  },
  {
   "cell_type": "markdown",
   "metadata": {},
   "source": [
    "**Question:** What code runs slower? Why?\n",
    "\n",
    "**Note** Since we executing this functions on a server and not on our local machines, if you execute time() multiple times you might notice slight differences, due to the execution time of the coe through the notebook. However, since we are interested in execution times comparatevely, these minor differences don't matter."
   ]
  },
  {
   "cell_type": "markdown",
   "metadata": {},
   "source": [
    "## Optional: lambda functions\n",
    "\n",
    "Sometimes, the body of the function contains only a return followed by a simple expression."
   ]
  },
  {
   "cell_type": "code",
   "execution_count": 18,
   "metadata": {},
   "outputs": [
    {
     "name": "stdout",
     "output_type": "stream",
     "text": [
      "81\n"
     ]
    }
   ],
   "source": [
    "def square(number):\n",
    "    return number ** 2\n",
    "\n",
    "print(square(3))"
   ]
  },
  {
   "cell_type": "markdown",
   "metadata": {},
   "source": [
    "In such cases, we can use a special type of functions called **lambda functions**. They can be defined in the following manner:\n",
    "\n",
    "    function_name = lambda arg_1, arg_2, <...>, arg_n: what_needs_to_be_returned\n",
    "\n",
    "Consider the previously defined function `square` re-defined as a lambda function."
   ]
  },
  {
   "cell_type": "code",
   "execution_count": null,
   "metadata": {},
   "outputs": [],
   "source": [
    "square = lambda number: number ** 2\n",
    "print(square(3))"
   ]
  },
  {
   "cell_type": "code",
   "execution_count": null,
   "metadata": {},
   "outputs": [],
   "source": [
    "multiplication = lambda num1, num2: num1 * num2\n",
    "print(multiplication(2, 8))"
   ]
  },
  {
   "cell_type": "code",
   "execution_count": 22,
   "metadata": {},
   "outputs": [
    {
     "name": "stdout",
     "output_type": "stream",
     "text": [
      "['hello', 'it', 'is', 'monday']\n"
     ]
    }
   ],
   "source": [
    "clean_split = lambda text: \"\".join([i for i in text if i not in [\",\", \".\", \"!\"]]).lower().split()\n",
    "print(clean_split(\"Hello! It is Monday.\"))"
   ]
  },
  {
   "cell_type": "code",
   "execution_count": 20,
   "metadata": {},
   "outputs": [
    {
     "data": {
      "text/plain": [
       "['Hello!', 'It', 'is', 'Monday.']"
      ]
     },
     "execution_count": 20,
     "metadata": {},
     "output_type": "execute_result"
    }
   ],
   "source": [
    "\"Hello! It is Monday.\".split()"
   ]
  },
  {
   "cell_type": "markdown",
   "metadata": {},
   "source": [
    "**Question:** is it possible to define a `lambda` function that takes $0$ arguments?"
   ]
  },
  {
   "cell_type": "code",
   "execution_count": null,
   "metadata": {},
   "outputs": [],
   "source": [
    "#try it out"
   ]
  },
  {
   "cell_type": "markdown",
   "metadata": {},
   "source": [
    "The function `map` takes a function and a list as arguments, and applies that function to every item of that list."
   ]
  },
  {
   "cell_type": "code",
   "execution_count": null,
   "metadata": {},
   "outputs": [],
   "source": [
    "strings = [\"apple\", \"banana\", \"kiwi\"]\n",
    "lengths = list(map(len, strings))\n",
    "print(lengths)"
   ]
  },
  {
   "cell_type": "markdown",
   "metadata": {},
   "source": [
    "Functions and lambda functions in particular can be used by `map`."
   ]
  },
  {
   "cell_type": "code",
   "execution_count": null,
   "metadata": {},
   "outputs": [],
   "source": [
    "double = lambda x: x * 2\n",
    "numbers = [1, 2, 3, 4, 5]\n",
    "doubled = list(map(double, numbers))\n",
    "print(doubled)"
   ]
  },
  {
   "cell_type": "markdown",
   "metadata": {},
   "source": [
    "One of the most frequent uses of a lambda function is to define a very simple function _on the fly_. In this case, instead of defining the function previously and then calling it by its name, we define the function **anonymously**, i.e. without assigning a name to it."
   ]
  },
  {
   "cell_type": "code",
   "execution_count": null,
   "metadata": {},
   "outputs": [],
   "source": [
    "numbers = [1, 2, 3, 4, 5]\n",
    "#recall that map() takes a function as its first element\n",
    "doubled = list(map(lambda x: x * 2, numbers))\n",
    "print(doubled)"
   ]
  },
  {
   "cell_type": "markdown",
   "metadata": {},
   "source": [
    "**Practice.** Using `map` and an anonymous `lambda` function, make a copy of `words` where only the first half of every word will be preserved.\n",
    "\n",
    "    words = ['linguistics', 'syntax', 'morphology', 'phonology']\n",
    "    short = ['lingu', 'syn', 'morph', 'phon']"
   ]
  },
  {
   "cell_type": "code",
   "execution_count": null,
   "metadata": {},
   "outputs": [],
   "source": [
    "words = [\"linguistics\", \"syntax\", \"morphology\", \"phonology\"]\n",
    "\n",
    "# your code here"
   ]
  },
  {
   "cell_type": "markdown",
   "metadata": {},
   "source": [
    "# Homework 7 (Optional)\n",
    "\n",
    "This is an optional homework to practice functions. It is worth 1 extra-credit point.\n",
    "Passing the homework requires a minimum of 5 points.\n",
    "\n",
    "Upload your modified notebook on Canvas, adding your name to the existing file name (e.g. 08_functions_Aniello.ipynb)."
   ]
  },
  {
   "cell_type": "markdown",
   "metadata": {},
   "source": [
    "**Problem 1. (2 points)** In this notebook, we discussed a function `bigramize` extracting bigrams from a given string. Its code is repeated below."
   ]
  },
  {
   "cell_type": "code",
   "execution_count": null,
   "metadata": {},
   "outputs": [],
   "source": [
    "def bigramize(string):\n",
    "    \"\"\" Creates a list of bigrams from the input string. \"\"\"\n",
    "    \n",
    "    bigrams = []\n",
    "    for i in range(len(string) - 1):\n",
    "        bigram = string[i:i+2]\n",
    "        if bigram not in bigrams:\n",
    "            bigrams.append(bigram)\n",
    "    return bigrams"
   ]
  },
  {
   "cell_type": "code",
   "execution_count": 16,
   "metadata": {},
   "outputs": [
    {
     "data": {
      "text/plain": [
       "['bana', 'anan', 'nana']"
      ]
     },
     "execution_count": 16,
     "metadata": {},
     "output_type": "execute_result"
    }
   ],
   "source": [
    "def ngramize(string,n):\n",
    "    \"\"\" Creates a list of ngrams from the input string, given n. \"\"\"   \n",
    "    \n",
    "    ngrams = []\n",
    "    for i in range(len(string) - (n-1)):\n",
    "        ngram = string[i:i+n]\n",
    "        if ngram not in ngrams:\n",
    "            ngrams.append(ngram)    \n",
    "    return ngrams\n",
    "                   \n",
    "ngramize(\"banana\",4)                "
   ]
  },
  {
   "cell_type": "markdown",
   "metadata": {},
   "source": [
    "Define a more generalized version of this function, `ngramize`. It should take two arguments: `string` and `n`, where `string` is the string that needs to be $n$-gramized, and `n` is the size of the $n$-grams.\n",
    "\n",
    "    Function call: ngramize(\"banana\", 4)\n",
    "    Output:        ['bana', 'anan', 'nana']\n",
    "    \n",
    "    Function call: ngramize(\"linguistics\", 7)\n",
    "    Output:        ['linguis', 'inguist', 'nguisti', 'guistic', 'uistics']\n",
    "    \n",
    "**Hint** Remember that you already HAVE the code that extends bigrams to n-grams. You just need to adjust it into a function.    "
   ]
  },
  {
   "cell_type": "code",
   "execution_count": null,
   "metadata": {},
   "outputs": [],
   "source": []
  },
  {
   "cell_type": "markdown",
   "metadata": {},
   "source": [
    "**Problem 2. (4 points)**  Define a function `perfect_number` that returns True if the input integer is perfect, and False otherwise.\n",
    "\n",
    "> In number theory, a **perfect number** is a positive integer that is equal to the sum of its positive divisors excluding the number itself. $1$ is not a perfect number."
   ]
  },
  {
   "cell_type": "code",
   "execution_count": null,
   "metadata": {},
   "outputs": [],
   "source": []
  },
  {
   "cell_type": "markdown",
   "metadata": {},
   "source": [
    "Test the `perfect_number` function. You can use the following values:\n",
    "\n",
    "    number  expected return        explanation\n",
    "    6       True                   1 + 2 + 3 == 6\n",
    "    9       False                  1 + 3 != 9\n",
    "    12      False                  1 + 2 + 3 + 4 + 6 != 12\n",
    "    28      True                   1 + 2 + 4 + 7 + 14 == 28"
   ]
  },
  {
   "cell_type": "code",
   "execution_count": null,
   "metadata": {},
   "outputs": [],
   "source": []
  },
  {
   "cell_type": "markdown",
   "metadata": {},
   "source": [
    "**Problem 3. (4 points)** Define a function `first_perfect_numbers` that takes an integer `n` as input, and generates a list of first `n` perfect numbers. In the body of this function, make use of the function `perfect_number` defined above. (don't copy paste the code! Use the function call!)\n",
    "\n",
    "    Function call:   first_perfect_numbers(4)\n",
    "    Function output: [6, 28, 496, 8128]\n",
    "\n",
    "**Warning:** there are _huge_ gaps in-between perfect numbers, so when you test it you might want to avoid calculating more than $4$ of the first perfect numbers due to the increased memory consumption."
   ]
  },
  {
   "cell_type": "code",
   "execution_count": null,
   "metadata": {},
   "outputs": [],
   "source": []
  }
 ],
 "metadata": {
  "kernelspec": {
   "display_name": "Python 3",
   "language": "python",
   "name": "python3"
  },
  "language_info": {
   "codemirror_mode": {
    "name": "ipython",
    "version": 3
   },
   "file_extension": ".py",
   "mimetype": "text/x-python",
   "name": "python",
   "nbconvert_exporter": "python",
   "pygments_lexer": "ipython3",
   "version": "3.8.5"
  }
 },
 "nbformat": 4,
 "nbformat_minor": 2
}
