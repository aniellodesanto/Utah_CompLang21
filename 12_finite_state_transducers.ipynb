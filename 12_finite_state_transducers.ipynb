{
 "cells": [
  {
   "cell_type": "markdown",
   "metadata": {},
   "source": [
    "# Notebook 12: finite state transducers\n",
    "\n",
    "This notebook introduces another type of finite state machines: **finite state transducers** (FSTs).\n",
    "FSTs can be viewed as \"extended\" FSAs, where instead of outputting booleans denoting well-formedness of strings, they rewrite the input string with respect to the rules encoded on their transitions.\n",
    "We also discuss such properties of FSTs as _onwardness_ and _subsequentiality_."
   ]
  },
  {
   "cell_type": "markdown",
   "metadata": {},
   "source": [
    "## Structure of finite state transducers\n",
    "\n",
    "In the previous model, we saw how FSAs are able to \"read\" the string while following their transitions.\n",
    "\n",
    "For example, consider the FSA above generating/reading the strings of the language $(\\textrm{un-})\\textrm{stem}^{+}(\\textrm{-able})$.\n",
    "\n",
    "<img src=\"images/12_1.png\" width=\"350\">\n",
    "\n",
    "\n",
    "**Finite state transducers** write another string while reading the input.\n",
    "Under a more tranditional perspective, FSTs _write on the output tape while reading the input tape_.\n",
    "Then thansitions acquire a new form:\n",
    "\n",
    "    Previously: [from_state, read, to_state]\n",
    "    Currently:  [from_state, read, write, to_state]\n",
    "\n",
    "For example, below is the transducer that rewrites every third \"a\" as \"x\".\n",
    "\n",
    "<img src=\"images/12_2.png\" width=\"270\">\n",
    "\n",
    "While FSAs _accept_, or just _read_ the input strings, FSTs read and _write_ simultaneously. Alphabet that the transducer can read is isially denoted as $\\Sigma$, an the one that it is writing is $\\Gamma$. FSTs then describe the mapping of the input words to the output ones by having a finite list of **tranductions** (rules on the branches mapping elements of $\\Sigma^*$ to $\\Gamma^*$), where $A^*$ is any possible word that uses symbols from the alphabet $A$."
   ]
  },
  {
   "cell_type": "markdown",
   "metadata": {},
   "source": [
    "## Implementation of FSTs\n",
    "\n",
    "Below is the implementation of FSTs. For the simplicity of the implementation, it can only read one symbol at a time. (Such machines are also called _subsequential)_."
   ]
  },
  {
   "cell_type": "code",
   "execution_count": null,
   "metadata": {},
   "outputs": [],
   "source": [
    "class FST(object):\n",
    "    \"\"\" A class implementing finite state transducers (FSTs). \"\"\"\n",
    "    \n",
    "    def __init__(self, states, initial, final, transitions):\n",
    "        \"\"\" Initializes attributes of FST. \"\"\"\n",
    "        self.states = states\n",
    "        self.initial = initial\n",
    "        self.final = final\n",
    "        self.transitions = transitions\n",
    "        \n",
    "    def map_string(self, string):\n",
    "        \"\"\" Method reading the input string and outputting\n",
    "            the output string.\n",
    "            \n",
    "            Arguments:\n",
    "            -- string (str): the input string.\n",
    "            \n",
    "            Outputs: \n",
    "            -- str: the output string. (None in case if no\n",
    "                    such string can be built.)\n",
    "        \"\"\"\n",
    "        new_string = \"\"\n",
    "        current_state = self.initial\n",
    "        \n",
    "        for s in string:\n",
    "            go_to = self.read_symbol(current_state, s)\n",
    "            new_string += go_to[0]\n",
    "            current_state = go_to[1]\n",
    "        if current_state in self.final:\n",
    "            return new_string\n",
    "        raise TypeError(\"Such string ends in a non-final \"\\\n",
    "                        \"state.\")\n",
    "        \n",
    "    def read_symbol(self, state_in, symbol):\n",
    "        \"\"\" Method that reads the symbol from the state state_in\n",
    "            and outputs the output symbol and the corresponding \n",
    "            transition.\n",
    "            \n",
    "            Arguments:\n",
    "            -- state_in (int): the value of the current state;\n",
    "            -- symbol (str): the input symbol.\n",
    "            \n",
    "            Outputs:\n",
    "            -- str: the output symbol;\n",
    "            -- int: the value of the state where the output symbol\n",
    "                    leads from the current one.\n",
    "        \"\"\"\n",
    "        for tr in self.transitions:\n",
    "            if state_in == tr[0] and symbol == tr[1]:\n",
    "                return tr[2], tr[3]\n",
    "        raise ValueError(\"Transition with the input symbol\",\n",
    "                         symbol, \"from the state\", state_in, \n",
    "                         \"is not found.\")"
   ]
  },
  {
   "cell_type": "markdown",
   "metadata": {},
   "source": [
    "Now, let us initialize a FST for the one exemplified above."
   ]
  },
  {
   "cell_type": "code",
   "execution_count": null,
   "metadata": {},
   "outputs": [],
   "source": [
    "states = [1, 2, 3]\n",
    "initial = 1\n",
    "final = [1, 2, 3]\n",
    "transitions = [\n",
    "    [1, \"a\", \"a\", 2],\n",
    "    [2, \"a\", \"a\", 3],\n",
    "    [3, \"a\", \"x\", 1]\n",
    "]\n",
    "\n",
    "fsa = FST(states, initial, final, transitions)"
   ]
  },
  {
   "cell_type": "markdown",
   "metadata": {},
   "source": [
    "Test the implementation."
   ]
  },
  {
   "cell_type": "code",
   "execution_count": null,
   "metadata": {},
   "outputs": [],
   "source": [
    "fsa.map_string(\"aaaaaaaa\")"
   ]
  },
  {
   "cell_type": "markdown",
   "metadata": {},
   "source": [
    "**Practice.** Perform the following two changes of the machine  defined above:\n",
    "\n",
    "  1. Rewrite every second \"a\" as \"b\", and every third \"a\" as \"c\".\n",
    "  2. Do not generate strings of the non-even length.\n",
    "  \n",
    "What language does the new machine generate?"
   ]
  }
 ],
 "metadata": {
  "kernelspec": {
   "display_name": "Python 3",
   "language": "python",
   "name": "python3"
  },
  "language_info": {
   "codemirror_mode": {
    "name": "ipython",
    "version": 3
   },
   "file_extension": ".py",
   "mimetype": "text/x-python",
   "name": "python",
   "nbconvert_exporter": "python",
   "pygments_lexer": "ipython3",
   "version": "3.8.5"
  }
 },
 "nbformat": 4,
 "nbformat_minor": 2
}
